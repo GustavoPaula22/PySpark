{
 "cells": [
  {
   "cell_type": "code",
   "execution_count": 1,
   "metadata": {},
   "outputs": [
    {
     "name": "stdout",
     "output_type": "stream",
     "text": [
      "Collecting pyspark==3.3.2\n",
      "  Using cached pyspark-3.3.2-py2.py3-none-any.whl\n",
      "Requirement already satisfied: py4j==0.10.9.5 in c:\\users\\gustavo.pasilva\\appdata\\local\\programs\\python\\python311\\lib\\site-packages (from pyspark==3.3.2) (0.10.9.5)\n",
      "Installing collected packages: pyspark\n",
      "  Attempting uninstall: pyspark\n",
      "    Found existing installation: pyspark 3.5.0\n",
      "    Can't uninstall 'pyspark'. No files were found to uninstall.\n",
      "Successfully installed pyspark-3.3.2\n"
     ]
    }
   ],
   "source": [
    "!pip install pyspark==3.3.2"
   ]
  },
  {
   "cell_type": "code",
   "execution_count": 17,
   "metadata": {},
   "outputs": [],
   "source": [
    "from pyspark.sql import SparkSession\n",
    "import pyspark.sql.functions as F"
   ]
  },
  {
   "cell_type": "code",
   "execution_count": 3,
   "metadata": {},
   "outputs": [],
   "source": [
    "spark = (\n",
    "    SparkSession.builder.appName('Treinamento-02')\n",
    "    .config('spark.sql.repl.eagerEval.enabled', True)\n",
    "    .getOrCreate()\n",
    ")"
   ]
  },
  {
   "cell_type": "code",
   "execution_count": 4,
   "metadata": {},
   "outputs": [],
   "source": [
    "df = spark.read.parquet(r'C:\\Meus\\Projetos\\Python\\VsCode\\Bases\\DATASETS\\LOGINS.parquet')"
   ]
  },
  {
   "cell_type": "code",
   "execution_count": 5,
   "metadata": {},
   "outputs": [
    {
     "data": {
      "text/html": [
       "<table border='1'>\n",
       "<tr><th>cpf</th><th>email</th><th>senha</th><th>data_de_nascimento</th><th>estado</th><th>data_cadastro</th><th>ipv4</th><th>cor_favorita</th><th>profissao</th><th>telefone</th></tr>\n",
       "<tr><td>981.507.362-12</td><td>pedro-lucas53@gma...</td><td>+7^7E%xFBc</td><td>2006-12-18</td><td>RR</td><td>2023-02-26</td><td>99.107.250.210</td><td>Roxo</td><td>Jogador De Golfe</td><td>31 7785-4046</td></tr>\n",
       "<tr><td>493.705.168-75</td><td>rezendeisaac@hotm...</td><td>_O_2GRnGOe</td><td>1992-06-17</td><td>GO</td><td>2023-02-16</td><td>197.11.26.213</td><td>Ciano</td><td>Atleta De Arremes...</td><td>(031) 0803-6753</td></tr>\n",
       "<tr><td>398.471.625-73</td><td>felipepires@uol.c...</td><td>*Aw5EOAvy9</td><td>1921-11-11</td><td>MG</td><td>2023-01-02</td><td>181.90.63.58</td><td>Azul</td><td>Papiloscopista</td><td>11 9674-0553</td></tr>\n",
       "<tr><td>092.618.354-06</td><td>stellamoraes@bol....</td><td>mw0AWYAs#s</td><td>2021-06-01</td><td>AC</td><td>2023-01-08</td><td>26.121.127.94</td><td>Marrom</td><td>Aeromo&ccedil;a</td><td>+55 (071) 3033 9177</td></tr>\n",
       "<tr><td>509.427.136-99</td><td>wcarvalho@ig.com.br</td><td>pGD%!2Pq5X</td><td>1969-10-28</td><td>AP</td><td>2023-02-14</td><td>76.184.52.163</td><td>Laranja</td><td>Fonoaudi&oacute;logo</td><td>+55 (071) 6272 2468</td></tr>\n",
       "<tr><td>218.795.460-94</td><td>da-conceicaodavi-...</td><td>uhBbFxPA&amp;9</td><td>1986-05-19</td><td>MG</td><td>2023-03-07</td><td>192.93.0.24</td><td>Rosa</td><td>Taxista</td><td>+55 84 0652 9691</td></tr>\n",
       "<tr><td>715.836.940-48</td><td>efreitas@bol.com.br</td><td>s#q9VZt&amp;xl</td><td>2018-04-20</td><td>MG</td><td>2023-01-13</td><td>76.251.188.148</td><td>Branco</td><td>Produtor De Audio...</td><td>+55 (084) 1363 0052</td></tr>\n",
       "<tr><td>475.698.032-56</td><td>wnunes@bol.com.br</td><td>_8az1W%n7g</td><td>1996-05-12</td><td>SE</td><td>2023-02-04</td><td>139.196.176.154</td><td>Azul</td><td>Cadeirinha</td><td>(071) 1640-3388</td></tr>\n",
       "<tr><td>217.639.540-99</td><td>jribeiro@bol.com.br</td><td>MEf1X7fj_0</td><td>2021-10-05</td><td>PA</td><td>2023-03-02</td><td>71.22.224.5</td><td>Marrom</td><td>Ge&oacute;logo</td><td>21 1432 4092</td></tr>\n",
       "<tr><td>261.938.750-77</td><td>murilo05@gmail.com</td><td>Te&amp;gO7GkKs</td><td>1917-01-05</td><td>MT</td><td>2023-02-21</td><td>136.54.123.165</td><td>Marrom</td><td>T&eacute;cnico De Som</td><td>+55 (084) 5878-3346</td></tr>\n",
       "<tr><td>520.831.796-68</td><td>joaquim57@ig.com.br</td><td>&amp;2E1NY+ARc</td><td>1912-05-25</td><td>BA</td><td>2023-01-25</td><td>78.196.255.126</td><td>Rosa</td><td>Esteticista</td><td>41 7914-3753</td></tr>\n",
       "<tr><td>413.087.526-44</td><td>alexiada-rocha@ig...</td><td>@f@!Z!2c*2</td><td>1920-05-26</td><td>MS</td><td>2023-02-18</td><td>182.61.65.201</td><td>Laranja</td><td>Microfonista</td><td>(021) 3739-2944</td></tr>\n",
       "<tr><td>509.287.143-14</td><td>pmendes@gmail.com</td><td>M+^XDBfe(2</td><td>1938-03-11</td><td>RR</td><td>2023-01-19</td><td>61.234.208.17</td><td>Verde Claro</td><td>Fiscal</td><td>+55 (084) 5940-1932</td></tr>\n",
       "<tr><td>563.170.492-70</td><td>renan46@bol.com.br</td><td>Rp%2pVqfe$</td><td>1922-09-01</td><td>PA</td><td>2023-02-01</td><td>122.203.83.177</td><td>Verde Escuro</td><td>Contabilista</td><td>+55 41 6248 5773</td></tr>\n",
       "<tr><td>098.712.346-78</td><td>manuelada-rosa@ho...</td><td>#hEIEOztQ3</td><td>2013-01-10</td><td>SE</td><td>2023-01-07</td><td>175.18.73.211</td><td>Violeta</td><td>Seguidor De Compras</td><td>51 0278 0564</td></tr>\n",
       "<tr><td>345.709.261-34</td><td>usales@ig.com.br</td><td>b_8xaY$ozJ</td><td>1992-10-16</td><td>AM</td><td>2023-01-05</td><td>97.93.29.75</td><td>Rosa</td><td>Almirante</td><td>(084) 8993-4521</td></tr>\n",
       "<tr><td>318.254.906-51</td><td>pereiranicolas@ho...</td><td>YA9I85Wb+2</td><td>1945-11-18</td><td>MA</td><td>2023-01-24</td><td>182.195.33.137</td><td>Amarelo</td><td>Consultor De Moda</td><td>(084) 4591 3795</td></tr>\n",
       "<tr><td>610.287.453-62</td><td>cardosolivia@ig.c...</td><td>yXkDW7Ebh*</td><td>1915-11-15</td><td>GO</td><td>2023-01-22</td><td>195.194.63.184</td><td>Laranja</td><td>Barbeiro</td><td>+55 61 8967-9563</td></tr>\n",
       "<tr><td>615.790.842-49</td><td>brenda39@ig.com.br</td><td>XS$84Hpsnw</td><td>1964-02-01</td><td>RJ</td><td>2023-02-16</td><td>21.252.226.29</td><td>Branco</td><td>Promotor De Vendas</td><td>+55 (021) 4751 2004</td></tr>\n",
       "<tr><td>624.095.138-24</td><td>luizapeixoto@gmai...</td><td>TbKy82Kda$</td><td>1959-02-01</td><td>DF</td><td>2023-02-25</td><td>105.107.23.13</td><td>Ciano</td><td>Implantodontista</td><td>84 1293 1906</td></tr>\n",
       "</table>\n",
       "only showing top 20 rows\n"
      ],
      "text/plain": [
       "+--------------+--------------------+----------+------------------+------+-------------+---------------+------------+--------------------+-------------------+\n",
       "|           cpf|               email|     senha|data_de_nascimento|estado|data_cadastro|           ipv4|cor_favorita|           profissao|           telefone|\n",
       "+--------------+--------------------+----------+------------------+------+-------------+---------------+------------+--------------------+-------------------+\n",
       "|981.507.362-12|pedro-lucas53@gma...|+7^7E%xFBc|        2006-12-18|    RR|   2023-02-26| 99.107.250.210|        Roxo|    Jogador De Golfe|       31 7785-4046|\n",
       "|493.705.168-75|rezendeisaac@hotm...|_O_2GRnGOe|        1992-06-17|    GO|   2023-02-16|  197.11.26.213|       Ciano|Atleta De Arremes...|    (031) 0803-6753|\n",
       "|398.471.625-73|felipepires@uol.c...|*Aw5EOAvy9|        1921-11-11|    MG|   2023-01-02|   181.90.63.58|        Azul|      Papiloscopista|       11 9674-0553|\n",
       "|092.618.354-06|stellamoraes@bol....|mw0AWYAs#s|        2021-06-01|    AC|   2023-01-08|  26.121.127.94|      Marrom|            Aeromoça|+55 (071) 3033 9177|\n",
       "|509.427.136-99| wcarvalho@ig.com.br|pGD%!2Pq5X|        1969-10-28|    AP|   2023-02-14|  76.184.52.163|     Laranja|       Fonoaudiólogo|+55 (071) 6272 2468|\n",
       "|218.795.460-94|da-conceicaodavi-...|uhBbFxPA&9|        1986-05-19|    MG|   2023-03-07|    192.93.0.24|        Rosa|             Taxista|   +55 84 0652 9691|\n",
       "|715.836.940-48| efreitas@bol.com.br|s#q9VZt&xl|        2018-04-20|    MG|   2023-01-13| 76.251.188.148|      Branco|Produtor De Audio...|+55 (084) 1363 0052|\n",
       "|475.698.032-56|   wnunes@bol.com.br|_8az1W%n7g|        1996-05-12|    SE|   2023-02-04|139.196.176.154|        Azul|          Cadeirinha|    (071) 1640-3388|\n",
       "|217.639.540-99| jribeiro@bol.com.br|MEf1X7fj_0|        2021-10-05|    PA|   2023-03-02|    71.22.224.5|      Marrom|             Geólogo|       21 1432 4092|\n",
       "|261.938.750-77|  murilo05@gmail.com|Te&gO7GkKs|        1917-01-05|    MT|   2023-02-21| 136.54.123.165|      Marrom|      Técnico De Som|+55 (084) 5878-3346|\n",
       "|520.831.796-68| joaquim57@ig.com.br|&2E1NY+ARc|        1912-05-25|    BA|   2023-01-25| 78.196.255.126|        Rosa|         Esteticista|       41 7914-3753|\n",
       "|413.087.526-44|alexiada-rocha@ig...|@f@!Z!2c*2|        1920-05-26|    MS|   2023-02-18|  182.61.65.201|     Laranja|        Microfonista|    (021) 3739-2944|\n",
       "|509.287.143-14|   pmendes@gmail.com|M+^XDBfe(2|        1938-03-11|    RR|   2023-01-19|  61.234.208.17| Verde Claro|              Fiscal|+55 (084) 5940-1932|\n",
       "|563.170.492-70|  renan46@bol.com.br|Rp%2pVqfe$|        1922-09-01|    PA|   2023-02-01| 122.203.83.177|Verde Escuro|        Contabilista|   +55 41 6248 5773|\n",
       "|098.712.346-78|manuelada-rosa@ho...|#hEIEOztQ3|        2013-01-10|    SE|   2023-01-07|  175.18.73.211|     Violeta| Seguidor De Compras|       51 0278 0564|\n",
       "|345.709.261-34|    usales@ig.com.br|b_8xaY$ozJ|        1992-10-16|    AM|   2023-01-05|    97.93.29.75|        Rosa|           Almirante|    (084) 8993-4521|\n",
       "|318.254.906-51|pereiranicolas@ho...|YA9I85Wb+2|        1945-11-18|    MA|   2023-01-24| 182.195.33.137|     Amarelo|   Consultor De Moda|    (084) 4591 3795|\n",
       "|610.287.453-62|cardosolivia@ig.c...|yXkDW7Ebh*|        1915-11-15|    GO|   2023-01-22| 195.194.63.184|     Laranja|            Barbeiro|   +55 61 8967-9563|\n",
       "|615.790.842-49|  brenda39@ig.com.br|XS$84Hpsnw|        1964-02-01|    RJ|   2023-02-16|  21.252.226.29|      Branco|  Promotor De Vendas|+55 (021) 4751 2004|\n",
       "|624.095.138-24|luizapeixoto@gmai...|TbKy82Kda$|        1959-02-01|    DF|   2023-02-25|  105.107.23.13|       Ciano|    Implantodontista|       84 1293 1906|\n",
       "+--------------+--------------------+----------+------------------+------+-------------+---------------+------------+--------------------+-------------------+\n",
       "only showing top 20 rows"
      ]
     },
     "execution_count": 5,
     "metadata": {},
     "output_type": "execute_result"
    }
   ],
   "source": [
    "df"
   ]
  },
  {
   "cell_type": "code",
   "execution_count": 24,
   "metadata": {},
   "outputs": [
    {
     "data": {
      "text/html": [
       "<table border='1'>\n",
       "<tr><th>cpf</th><th>email</th><th>senha</th><th>data_de_nascimento</th><th>estado</th><th>data_cadastro</th><th>ipv4</th><th>cor_favorita</th><th>profissao</th><th>telefone</th></tr>\n",
       "<tr><td>981.507.362-12</td><td>pedro-lucas53@gma...</td><td>+7^7E%xFBc</td><td>2006-12-18</td><td>RR</td><td>2023-02-26</td><td>99.107.250.210</td><td>Roxo</td><td>Jogador De Golfe</td><td>31 7785-4046</td></tr>\n",
       "<tr><td>493.705.168-75</td><td>rezendeisaac@hotm...</td><td>_O_2GRnGOe</td><td>1992-06-17</td><td>GO</td><td>2023-02-16</td><td>197.11.26.213</td><td>Ciano</td><td>Atleta De Arremes...</td><td>(031) 0803-6753</td></tr>\n",
       "<tr><td>398.471.625-73</td><td>felipepires@uol.c...</td><td>*Aw5EOAvy9</td><td>1921-11-11</td><td>MG</td><td>2023-01-02</td><td>181.90.63.58</td><td>Azul</td><td>Papiloscopista</td><td>11 9674-0553</td></tr>\n",
       "<tr><td>092.618.354-06</td><td>stellamoraes@bol....</td><td>mw0AWYAs#s</td><td>2021-06-01</td><td>AC</td><td>2023-01-08</td><td>26.121.127.94</td><td>Marrom</td><td>Aeromo&ccedil;a</td><td>+55 (071) 3033 9177</td></tr>\n",
       "<tr><td>509.427.136-99</td><td>wcarvalho@ig.com.br</td><td>pGD%!2Pq5X</td><td>1969-10-28</td><td>AP</td><td>2023-02-14</td><td>76.184.52.163</td><td>Laranja</td><td>Fonoaudi&oacute;logo</td><td>+55 (071) 6272 2468</td></tr>\n",
       "<tr><td>218.795.460-94</td><td>da-conceicaodavi-...</td><td>uhBbFxPA&amp;9</td><td>1986-05-19</td><td>MG</td><td>2023-03-07</td><td>192.93.0.24</td><td>Rosa</td><td>Taxista</td><td>+55 84 0652 9691</td></tr>\n",
       "<tr><td>715.836.940-48</td><td>efreitas@bol.com.br</td><td>s#q9VZt&amp;xl</td><td>2018-04-20</td><td>MG</td><td>2023-01-13</td><td>76.251.188.148</td><td>Branco</td><td>Produtor De Audio...</td><td>+55 (084) 1363 0052</td></tr>\n",
       "<tr><td>475.698.032-56</td><td>wnunes@bol.com.br</td><td>_8az1W%n7g</td><td>1996-05-12</td><td>SE</td><td>2023-02-04</td><td>139.196.176.154</td><td>Azul</td><td>Cadeirinha</td><td>(071) 1640-3388</td></tr>\n",
       "<tr><td>217.639.540-99</td><td>jribeiro@bol.com.br</td><td>MEf1X7fj_0</td><td>2021-10-05</td><td>PA</td><td>2023-03-02</td><td>71.22.224.5</td><td>Marrom</td><td>Ge&oacute;logo</td><td>21 1432 4092</td></tr>\n",
       "<tr><td>261.938.750-77</td><td>murilo05@gmail.com</td><td>Te&amp;gO7GkKs</td><td>1917-01-05</td><td>MT</td><td>2023-02-21</td><td>136.54.123.165</td><td>Marrom</td><td>T&eacute;cnico De Som</td><td>+55 (084) 5878-3346</td></tr>\n",
       "<tr><td>520.831.796-68</td><td>joaquim57@ig.com.br</td><td>&amp;2E1NY+ARc</td><td>1912-05-25</td><td>BA</td><td>2023-01-25</td><td>78.196.255.126</td><td>Rosa</td><td>Esteticista</td><td>41 7914-3753</td></tr>\n",
       "<tr><td>413.087.526-44</td><td>alexiada-rocha@ig...</td><td>@f@!Z!2c*2</td><td>1920-05-26</td><td>MS</td><td>2023-02-18</td><td>182.61.65.201</td><td>Laranja</td><td>Microfonista</td><td>(021) 3739-2944</td></tr>\n",
       "<tr><td>509.287.143-14</td><td>pmendes@gmail.com</td><td>M+^XDBfe(2</td><td>1938-03-11</td><td>RR</td><td>2023-01-19</td><td>61.234.208.17</td><td>Verde Claro</td><td>Fiscal</td><td>+55 (084) 5940-1932</td></tr>\n",
       "<tr><td>563.170.492-70</td><td>renan46@bol.com.br</td><td>Rp%2pVqfe$</td><td>1922-09-01</td><td>PA</td><td>2023-02-01</td><td>122.203.83.177</td><td>Verde Escuro</td><td>Contabilista</td><td>+55 41 6248 5773</td></tr>\n",
       "<tr><td>098.712.346-78</td><td>manuelada-rosa@ho...</td><td>#hEIEOztQ3</td><td>2013-01-10</td><td>SE</td><td>2023-01-07</td><td>175.18.73.211</td><td>Violeta</td><td>Seguidor De Compras</td><td>51 0278 0564</td></tr>\n",
       "<tr><td>345.709.261-34</td><td>usales@ig.com.br</td><td>b_8xaY$ozJ</td><td>1992-10-16</td><td>AM</td><td>2023-01-05</td><td>97.93.29.75</td><td>Rosa</td><td>Almirante</td><td>(084) 8993-4521</td></tr>\n",
       "<tr><td>318.254.906-51</td><td>pereiranicolas@ho...</td><td>YA9I85Wb+2</td><td>1945-11-18</td><td>MA</td><td>2023-01-24</td><td>182.195.33.137</td><td>Amarelo</td><td>Consultor De Moda</td><td>(084) 4591 3795</td></tr>\n",
       "<tr><td>610.287.453-62</td><td>cardosolivia@ig.c...</td><td>yXkDW7Ebh*</td><td>1915-11-15</td><td>GO</td><td>2023-01-22</td><td>195.194.63.184</td><td>Laranja</td><td>Barbeiro</td><td>+55 61 8967-9563</td></tr>\n",
       "<tr><td>615.790.842-49</td><td>brenda39@ig.com.br</td><td>XS$84Hpsnw</td><td>1964-02-01</td><td>RJ</td><td>2023-02-16</td><td>21.252.226.29</td><td>Branco</td><td>Promotor De Vendas</td><td>+55 (021) 4751 2004</td></tr>\n",
       "<tr><td>624.095.138-24</td><td>luizapeixoto@gmai...</td><td>TbKy82Kda$</td><td>1959-02-01</td><td>DF</td><td>2023-02-25</td><td>105.107.23.13</td><td>Ciano</td><td>Implantodontista</td><td>84 1293 1906</td></tr>\n",
       "</table>\n",
       "only showing top 20 rows\n"
      ],
      "text/plain": [
       "+--------------+--------------------+----------+------------------+------+-------------+---------------+------------+--------------------+-------------------+\n",
       "|           cpf|               email|     senha|data_de_nascimento|estado|data_cadastro|           ipv4|cor_favorita|           profissao|           telefone|\n",
       "+--------------+--------------------+----------+------------------+------+-------------+---------------+------------+--------------------+-------------------+\n",
       "|981.507.362-12|pedro-lucas53@gma...|+7^7E%xFBc|        2006-12-18|    RR|   2023-02-26| 99.107.250.210|        Roxo|    Jogador De Golfe|       31 7785-4046|\n",
       "|493.705.168-75|rezendeisaac@hotm...|_O_2GRnGOe|        1992-06-17|    GO|   2023-02-16|  197.11.26.213|       Ciano|Atleta De Arremes...|    (031) 0803-6753|\n",
       "|398.471.625-73|felipepires@uol.c...|*Aw5EOAvy9|        1921-11-11|    MG|   2023-01-02|   181.90.63.58|        Azul|      Papiloscopista|       11 9674-0553|\n",
       "|092.618.354-06|stellamoraes@bol....|mw0AWYAs#s|        2021-06-01|    AC|   2023-01-08|  26.121.127.94|      Marrom|            Aeromoça|+55 (071) 3033 9177|\n",
       "|509.427.136-99| wcarvalho@ig.com.br|pGD%!2Pq5X|        1969-10-28|    AP|   2023-02-14|  76.184.52.163|     Laranja|       Fonoaudiólogo|+55 (071) 6272 2468|\n",
       "|218.795.460-94|da-conceicaodavi-...|uhBbFxPA&9|        1986-05-19|    MG|   2023-03-07|    192.93.0.24|        Rosa|             Taxista|   +55 84 0652 9691|\n",
       "|715.836.940-48| efreitas@bol.com.br|s#q9VZt&xl|        2018-04-20|    MG|   2023-01-13| 76.251.188.148|      Branco|Produtor De Audio...|+55 (084) 1363 0052|\n",
       "|475.698.032-56|   wnunes@bol.com.br|_8az1W%n7g|        1996-05-12|    SE|   2023-02-04|139.196.176.154|        Azul|          Cadeirinha|    (071) 1640-3388|\n",
       "|217.639.540-99| jribeiro@bol.com.br|MEf1X7fj_0|        2021-10-05|    PA|   2023-03-02|    71.22.224.5|      Marrom|             Geólogo|       21 1432 4092|\n",
       "|261.938.750-77|  murilo05@gmail.com|Te&gO7GkKs|        1917-01-05|    MT|   2023-02-21| 136.54.123.165|      Marrom|      Técnico De Som|+55 (084) 5878-3346|\n",
       "|520.831.796-68| joaquim57@ig.com.br|&2E1NY+ARc|        1912-05-25|    BA|   2023-01-25| 78.196.255.126|        Rosa|         Esteticista|       41 7914-3753|\n",
       "|413.087.526-44|alexiada-rocha@ig...|@f@!Z!2c*2|        1920-05-26|    MS|   2023-02-18|  182.61.65.201|     Laranja|        Microfonista|    (021) 3739-2944|\n",
       "|509.287.143-14|   pmendes@gmail.com|M+^XDBfe(2|        1938-03-11|    RR|   2023-01-19|  61.234.208.17| Verde Claro|              Fiscal|+55 (084) 5940-1932|\n",
       "|563.170.492-70|  renan46@bol.com.br|Rp%2pVqfe$|        1922-09-01|    PA|   2023-02-01| 122.203.83.177|Verde Escuro|        Contabilista|   +55 41 6248 5773|\n",
       "|098.712.346-78|manuelada-rosa@ho...|#hEIEOztQ3|        2013-01-10|    SE|   2023-01-07|  175.18.73.211|     Violeta| Seguidor De Compras|       51 0278 0564|\n",
       "|345.709.261-34|    usales@ig.com.br|b_8xaY$ozJ|        1992-10-16|    AM|   2023-01-05|    97.93.29.75|        Rosa|           Almirante|    (084) 8993-4521|\n",
       "|318.254.906-51|pereiranicolas@ho...|YA9I85Wb+2|        1945-11-18|    MA|   2023-01-24| 182.195.33.137|     Amarelo|   Consultor De Moda|    (084) 4591 3795|\n",
       "|610.287.453-62|cardosolivia@ig.c...|yXkDW7Ebh*|        1915-11-15|    GO|   2023-01-22| 195.194.63.184|     Laranja|            Barbeiro|   +55 61 8967-9563|\n",
       "|615.790.842-49|  brenda39@ig.com.br|XS$84Hpsnw|        1964-02-01|    RJ|   2023-02-16|  21.252.226.29|      Branco|  Promotor De Vendas|+55 (021) 4751 2004|\n",
       "|624.095.138-24|luizapeixoto@gmai...|TbKy82Kda$|        1959-02-01|    DF|   2023-02-25|  105.107.23.13|       Ciano|    Implantodontista|       84 1293 1906|\n",
       "+--------------+--------------------+----------+------------------+------+-------------+---------------+------------+--------------------+-------------------+\n",
       "only showing top 20 rows"
      ]
     },
     "execution_count": 24,
     "metadata": {},
     "output_type": "execute_result"
    }
   ],
   "source": [
    "# tem todas essas formas de seleciona apenas as colunas que vc quiser visualizar\n",
    "df.select('email', 'senha')\n",
    "df.select(df.cpf, df.data_de_nascimento)\n",
    "df.select(df['estado'], df['ipv4'])\n",
    "\n",
    "# tem uma outra forma utilizando o import da função col\n",
    "df.select(F.col('data_cadastro'), F.col('data_de_nascimento'))\n",
    "\n",
    "# para selecionar todas as colunas pode utilizar *\n",
    "df.select('*')"
   ]
  },
  {
   "cell_type": "code",
   "execution_count": 32,
   "metadata": {},
   "outputs": [
    {
     "data": {
      "text/html": [
       "<table border='1'>\n",
       "<tr><th>cpf</th><th>email</th><th>senha</th><th>data_de_nascimento</th><th>estado</th><th>data_cadastro</th><th>ipv4</th><th>cor_favorita</th><th>profissao</th><th>telefone</th></tr>\n",
       "<tr><td>932.567.014-34</td><td>caio40@hotmail.com</td><td>2UQ2p)5q@Y</td><td>1986-01-31</td><td>GO</td><td>2023-01-22</td><td>112.23.224.126</td><td>Azul</td><td>Flautista</td><td>+55 (081) 5756-7067</td></tr>\n",
       "</table>\n"
      ],
      "text/plain": [
       "+--------------+------------------+----------+------------------+------+-------------+--------------+------------+---------+-------------------+\n",
       "|           cpf|             email|     senha|data_de_nascimento|estado|data_cadastro|          ipv4|cor_favorita|profissao|           telefone|\n",
       "+--------------+------------------+----------+------------------+------+-------------+--------------+------------+---------+-------------------+\n",
       "|932.567.014-34|caio40@hotmail.com|2UQ2p)5q@Y|        1986-01-31|    GO|   2023-01-22|112.23.224.126|        Azul|Flautista|+55 (081) 5756-7067|\n",
       "+--------------+------------------+----------+------------------+------+-------------+--------------+------------+---------+-------------------+"
      ]
     },
     "execution_count": 32,
     "metadata": {},
     "output_type": "execute_result"
    }
   ],
   "source": [
    "# para filtrar os dados do DF pode ser feito dessas forma\n",
    "df.filter(df.estado == 'GO')\n",
    "df.filter('estado = \"GO\"')\n",
    "\n",
    "# para passar mais de 1 parametro no filtro pode ser feito assim utilizando o E\n",
    "df.filter((df.estado == 'GO') & (df.cor_favorita == 'Azul'))\n",
    "\n",
    "# caso queira fazer por eliminaçõa pode ser utilizado sequncias de filtros\n",
    "df.filter(df.estado == 'GO').filter(df.cor_favorita == 'Azul')"
   ]
  },
  {
   "cell_type": "code",
   "execution_count": 39,
   "metadata": {},
   "outputs": [
    {
     "data": {
      "text/html": [
       "<table border='1'>\n",
       "<tr><th>cpf</th><th>email</th><th>senha</th><th>data_de_nascimento</th><th>estado</th><th>data_cadastro</th><th>ipv4</th><th>cor_favorita</th><th>profissao</th><th>telefone</th></tr>\n",
       "<tr><td>318.254.906-51</td><td>pereiranicolas@ho...</td><td>YA9I85Wb+2</td><td>1945-11-18</td><td>MA</td><td>2023-01-24</td><td>182.195.33.137</td><td>Amarelo</td><td>Consultor De Moda</td><td>(084) 4591 3795</td></tr>\n",
       "<tr><td>786.132.594-64</td><td>vinicius86@yahoo....</td><td>)0UFwLnQeY</td><td>1935-07-29</td><td>MA</td><td>2023-02-25</td><td>142.49.53.78</td><td>Amarelo</td><td>Ge&oacute;logo</td><td>+55 41 8499 1550</td></tr>\n",
       "<tr><td>170.965.428-76</td><td>qdias@gmail.com</td><td>6z5AgU_##v</td><td>1995-08-17</td><td>GO</td><td>2023-02-02</td><td>197.248.140.141</td><td>Verde</td><td>Auditor</td><td>84 9168 0488</td></tr>\n",
       "<tr><td>439.107.528-88</td><td>costagabriel@gmai...</td><td>^+kLpbkVw2</td><td>1960-01-05</td><td>DF</td><td>2023-02-05</td><td>122.151.20.128</td><td>Amarelo</td><td>Neurocirurgi&atilde;o</td><td>+55 61 4028-1911</td></tr>\n",
       "<tr><td>210.549.367-06</td><td>ana23@uol.com.br</td><td>&amp;#6ZAkAKWh</td><td>1958-04-06</td><td>AC</td><td>2023-03-09</td><td>38.117.200.190</td><td>Verde</td><td>Kite-Surfer</td><td>(011) 2149 3857</td></tr>\n",
       "<tr><td>708.921.356-03</td><td>caue33@gmail.com</td><td>C!Zu4AqeTa</td><td>2002-05-20</td><td>SE</td><td>2023-01-14</td><td>216.171.161.198</td><td>Verde</td><td>Pedicure</td><td>0800 486 6096</td></tr>\n",
       "<tr><td>208.367.915-68</td><td>brendacaldeira@ya...</td><td>cXn0ARuB(O</td><td>1967-09-24</td><td>TO</td><td>2023-01-10</td><td>207.26.140.226</td><td>Amarelo</td><td>L&iacute;der Comunit&aacute;rio</td><td>+55 84 8553 5334</td></tr>\n",
       "<tr><td>023.965.814-06</td><td>daniela34@ig.com.br</td><td>a6erVAf%)9</td><td>1924-10-14</td><td>PB</td><td>2023-01-03</td><td>204.207.148.123</td><td>Amarelo</td><td>Ortodontista</td><td>+55 31 5756 9535</td></tr>\n",
       "<tr><td>967.253.814-64</td><td>ana-juliasantos@h...</td><td>)m6l4Zq$F%</td><td>1957-11-25</td><td>RS</td><td>2023-03-04</td><td>217.234.151.70</td><td>Verde</td><td>Juiz Ou &Aacute;rbitro D...</td><td>+55 (021) 4758-1330</td></tr>\n",
       "<tr><td>569.327.418-73</td><td>caio32@uol.com.br</td><td>@(LSxkPz90</td><td>1910-04-02</td><td>CE</td><td>2023-02-14</td><td>172.225.78.0</td><td>Verde</td><td>Sargento</td><td>+55 (021) 3322 7063</td></tr>\n",
       "<tr><td>089.276.145-85</td><td>caua85@yahoo.com.br</td><td>8V%T2eBfi(</td><td>1939-12-30</td><td>PE</td><td>2023-03-11</td><td>110.188.83.186</td><td>Verde</td><td>Comiss&aacute;rio De Bordo</td><td>84 6794 1208</td></tr>\n",
       "<tr><td>207.185.936-77</td><td>isabellypires@yah...</td><td>^4#BIX@f96</td><td>1971-11-27</td><td>BA</td><td>2023-02-11</td><td>93.238.65.111</td><td>Verde</td><td>Alfaiate</td><td>+55 61 1689-4767</td></tr>\n",
       "<tr><td>517.264.980-85</td><td>ana-sophiajesus@b...</td><td>w9jTwVpj_r</td><td>2018-01-04</td><td>GO</td><td>2023-01-10</td><td>163.253.182.70</td><td>Amarelo</td><td>Jogador De Boliche</td><td>0800-940-3789</td></tr>\n",
       "<tr><td>382.475.016-35</td><td>lopesenzo@yahoo.c...</td><td>)4dExFybO5</td><td>1961-09-16</td><td>GO</td><td>2023-01-04</td><td>115.205.238.140</td><td>Amarelo</td><td>Argumentista</td><td>+55 (021) 8133 3501</td></tr>\n",
       "<tr><td>964.852.031-33</td><td>dda-conceicao@uol...</td><td>I1XrDIZs@o</td><td>1942-02-09</td><td>MA</td><td>2023-02-11</td><td>20.217.23.173</td><td>Amarelo</td><td>Mec&acirc;nico</td><td>(084) 1826-5845</td></tr>\n",
       "<tr><td>912.684.357-91</td><td>diasjoao-pedro@ya...</td><td>ul4MAuou_k</td><td>1940-02-02</td><td>AM</td><td>2023-02-06</td><td>22.105.98.7</td><td>Verde</td><td>Ge&oacute;grafo</td><td>71 1972 8856</td></tr>\n",
       "<tr><td>385.679.014-48</td><td>vitoriacosta@uol....</td><td>Rp9y4nGIf+</td><td>1926-12-14</td><td>AP</td><td>2023-03-10</td><td>14.28.119.157</td><td>Verde</td><td>Carnavalesco</td><td>+55 51 8887 1107</td></tr>\n",
       "<tr><td>271.905.486-02</td><td>ana-vitoria77@hot...</td><td>I*Sm2Ozyi$</td><td>2011-04-01</td><td>RR</td><td>2023-01-30</td><td>124.57.122.33</td><td>Amarelo</td><td>M&atilde;e Social</td><td>+55 61 0561 0784</td></tr>\n",
       "<tr><td>856.149.032-24</td><td>moreiracaue@uol.c...</td><td>zSR5%axe*8</td><td>2016-06-13</td><td>MT</td><td>2023-01-25</td><td>23.194.38.202</td><td>Verde</td><td>Gandula</td><td>+55 (051) 8388 8248</td></tr>\n",
       "<tr><td>281.465.937-55</td><td>smoreira@uol.com.br</td><td>mj9W(cda0%</td><td>1920-10-17</td><td>RJ</td><td>2023-02-18</td><td>164.98.61.242</td><td>Verde</td><td>Escoteiro</td><td>+55 51 9615 2486</td></tr>\n",
       "</table>\n",
       "only showing top 20 rows\n"
      ],
      "text/plain": [
       "+--------------+--------------------+----------+------------------+------+-------------+---------------+------------+--------------------+-------------------+\n",
       "|           cpf|               email|     senha|data_de_nascimento|estado|data_cadastro|           ipv4|cor_favorita|           profissao|           telefone|\n",
       "+--------------+--------------------+----------+------------------+------+-------------+---------------+------------+--------------------+-------------------+\n",
       "|318.254.906-51|pereiranicolas@ho...|YA9I85Wb+2|        1945-11-18|    MA|   2023-01-24| 182.195.33.137|     Amarelo|   Consultor De Moda|    (084) 4591 3795|\n",
       "|786.132.594-64|vinicius86@yahoo....|)0UFwLnQeY|        1935-07-29|    MA|   2023-02-25|   142.49.53.78|     Amarelo|             Geólogo|   +55 41 8499 1550|\n",
       "|170.965.428-76|     qdias@gmail.com|6z5AgU_##v|        1995-08-17|    GO|   2023-02-02|197.248.140.141|       Verde|             Auditor|       84 9168 0488|\n",
       "|439.107.528-88|costagabriel@gmai...|^+kLpbkVw2|        1960-01-05|    DF|   2023-02-05| 122.151.20.128|     Amarelo|      Neurocirurgião|   +55 61 4028-1911|\n",
       "|210.549.367-06|    ana23@uol.com.br|&#6ZAkAKWh|        1958-04-06|    AC|   2023-03-09| 38.117.200.190|       Verde|         Kite-Surfer|    (011) 2149 3857|\n",
       "|708.921.356-03|    caue33@gmail.com|C!Zu4AqeTa|        2002-05-20|    SE|   2023-01-14|216.171.161.198|       Verde|            Pedicure|      0800 486 6096|\n",
       "|208.367.915-68|brendacaldeira@ya...|cXn0ARuB(O|        1967-09-24|    TO|   2023-01-10| 207.26.140.226|     Amarelo|   Líder Comunitário|   +55 84 8553 5334|\n",
       "|023.965.814-06| daniela34@ig.com.br|a6erVAf%)9|        1924-10-14|    PB|   2023-01-03|204.207.148.123|     Amarelo|        Ortodontista|   +55 31 5756 9535|\n",
       "|967.253.814-64|ana-juliasantos@h...|)m6l4Zq$F%|        1957-11-25|    RS|   2023-03-04| 217.234.151.70|       Verde|Juiz Ou Árbitro D...|+55 (021) 4758-1330|\n",
       "|569.327.418-73|   caio32@uol.com.br|@(LSxkPz90|        1910-04-02|    CE|   2023-02-14|   172.225.78.0|       Verde|            Sargento|+55 (021) 3322 7063|\n",
       "|089.276.145-85| caua85@yahoo.com.br|8V%T2eBfi(|        1939-12-30|    PE|   2023-03-11| 110.188.83.186|       Verde| Comissário De Bordo|       84 6794 1208|\n",
       "|207.185.936-77|isabellypires@yah...|^4#BIX@f96|        1971-11-27|    BA|   2023-02-11|  93.238.65.111|       Verde|            Alfaiate|   +55 61 1689-4767|\n",
       "|517.264.980-85|ana-sophiajesus@b...|w9jTwVpj_r|        2018-01-04|    GO|   2023-01-10| 163.253.182.70|     Amarelo|  Jogador De Boliche|      0800-940-3789|\n",
       "|382.475.016-35|lopesenzo@yahoo.c...|)4dExFybO5|        1961-09-16|    GO|   2023-01-04|115.205.238.140|     Amarelo|        Argumentista|+55 (021) 8133 3501|\n",
       "|964.852.031-33|dda-conceicao@uol...|I1XrDIZs@o|        1942-02-09|    MA|   2023-02-11|  20.217.23.173|     Amarelo|            Mecânico|    (084) 1826-5845|\n",
       "|912.684.357-91|diasjoao-pedro@ya...|ul4MAuou_k|        1940-02-02|    AM|   2023-02-06|    22.105.98.7|       Verde|            Geógrafo|       71 1972 8856|\n",
       "|385.679.014-48|vitoriacosta@uol....|Rp9y4nGIf+|        1926-12-14|    AP|   2023-03-10|  14.28.119.157|       Verde|        Carnavalesco|   +55 51 8887 1107|\n",
       "|271.905.486-02|ana-vitoria77@hot...|I*Sm2Ozyi$|        2011-04-01|    RR|   2023-01-30|  124.57.122.33|     Amarelo|          Mãe Social|   +55 61 0561 0784|\n",
       "|856.149.032-24|moreiracaue@uol.c...|zSR5%axe*8|        2016-06-13|    MT|   2023-01-25|  23.194.38.202|       Verde|             Gandula|+55 (051) 8388 8248|\n",
       "|281.465.937-55| smoreira@uol.com.br|mj9W(cda0%|        1920-10-17|    RJ|   2023-02-18|  164.98.61.242|       Verde|           Escoteiro|   +55 51 9615 2486|\n",
       "+--------------+--------------------+----------+------------------+------+-------------+---------------+------------+--------------------+-------------------+\n",
       "only showing top 20 rows"
      ]
     },
     "execution_count": 39,
     "metadata": {},
     "output_type": "execute_result"
    }
   ],
   "source": [
    "# o comando WHERE ou FILTER faz a mesma coisa e pode ser utilizados na mesma linha de filtragem\n",
    "df.where(df.estado == 'GO').filter(df.cor_favorita == 'Azul')\n",
    "\n",
    "# para passar mais de 1 parametro no filtro pode ser feito assim utilizando o OU\n",
    "df.filter((df.cor_favorita == 'Ciano') | (df.cor_favorita == 'Azul'))\n",
    "\n",
    "# nessa forma estamos utilizando o IN do sql server para passar a lista de valores que ira entrar na busca\n",
    "df.where(df.cor_favorita.isin('Amarelo', 'Verde'))"
   ]
  }
 ],
 "metadata": {
  "kernelspec": {
   "display_name": "Python 3",
   "language": "python",
   "name": "python3"
  },
  "language_info": {
   "codemirror_mode": {
    "name": "ipython",
    "version": 3
   },
   "file_extension": ".py",
   "mimetype": "text/x-python",
   "name": "python",
   "nbconvert_exporter": "python",
   "pygments_lexer": "ipython3",
   "version": "3.11.8"
  }
 },
 "nbformat": 4,
 "nbformat_minor": 2
}
