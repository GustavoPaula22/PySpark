{
 "cells": [
  {
   "cell_type": "code",
   "execution_count": null,
   "metadata": {},
   "outputs": [],
   "source": [
    "!pip install pyspark==3.3.2"
   ]
  },
  {
   "cell_type": "code",
   "execution_count": 1,
   "metadata": {},
   "outputs": [],
   "source": [
    "from pyspark.sql import SparkSession\n",
    "import pyspark.sql.functions as F"
   ]
  },
  {
   "cell_type": "code",
   "execution_count": 2,
   "metadata": {},
   "outputs": [],
   "source": [
    "spark = (\n",
    "    SparkSession.builder.appName('Treinamento-02')\n",
    "    .config('spark.sql.repl.eagerEval.enabled', True)\n",
    "    .getOrCreate()\n",
    ")"
   ]
  },
  {
   "cell_type": "code",
   "execution_count": 5,
   "metadata": {},
   "outputs": [],
   "source": [
    "df = spark.read.parquet(r'C:\\Meus\\Projetos\\Python\\VsCode\\Bases\\DATASETS\\IMC.parquet')"
   ]
  },
  {
   "cell_type": "code",
   "execution_count": 6,
   "metadata": {},
   "outputs": [
    {
     "data": {
      "text/html": [
       "<table border='1'>\n",
       "<tr><th>nome</th><th>altura</th><th>peso</th></tr>\n",
       "<tr><td>Pietra Fernandes</td><td>176</td><td>97.88</td></tr>\n",
       "<tr><td>Ana J&uacute;lia da Rosa</td><td>163</td><td>80.56</td></tr>\n",
       "<tr><td>Fernando Martins</td><td>150</td><td>85.55</td></tr>\n",
       "<tr><td>Isis Silveira</td><td>173</td><td>70.1</td></tr>\n",
       "<tr><td>Cec&iacute;lia Porto</td><td>190</td><td>93.42</td></tr>\n",
       "<tr><td>Sra. Bruna Almeida</td><td>198</td><td>73.07</td></tr>\n",
       "<tr><td>Maria Julia Silva</td><td>170</td><td>71.36</td></tr>\n",
       "<tr><td>Pedro Henrique da...</td><td>188</td><td>105.57</td></tr>\n",
       "<tr><td>Davi Lucas Campos</td><td>180</td><td>98.49</td></tr>\n",
       "<tr><td>Juan Gon&ccedil;alves</td><td>175</td><td>71.87</td></tr>\n",
       "</table>\n"
      ],
      "text/plain": [
       "+--------------------+------+------+\n",
       "|                nome|altura|  peso|\n",
       "+--------------------+------+------+\n",
       "|    Pietra Fernandes|   176| 97.88|\n",
       "|   Ana Júlia da Rosa|   163| 80.56|\n",
       "|    Fernando Martins|   150| 85.55|\n",
       "|       Isis Silveira|   173|  70.1|\n",
       "|       Cecília Porto|   190| 93.42|\n",
       "|  Sra. Bruna Almeida|   198| 73.07|\n",
       "|   Maria Julia Silva|   170| 71.36|\n",
       "|Pedro Henrique da...|   188|105.57|\n",
       "|   Davi Lucas Campos|   180| 98.49|\n",
       "|      Juan Gonçalves|   175| 71.87|\n",
       "+--------------------+------+------+"
      ]
     },
     "execution_count": 6,
     "metadata": {},
     "output_type": "execute_result"
    }
   ],
   "source": [
    "df"
   ]
  },
  {
   "cell_type": "code",
   "execution_count": 13,
   "metadata": {},
   "outputs": [
    {
     "data": {
      "text/html": [
       "<table border='1'>\n",
       "<tr><th>nome</th><th>altura</th><th>peso</th><th>round</th><th>ceil</th><th>floor</th></tr>\n",
       "<tr><td>Pietra Fernandes</td><td>176</td><td>97.88</td><td>97.9</td><td>98</td><td>97</td></tr>\n",
       "<tr><td>Ana J&uacute;lia da Rosa</td><td>163</td><td>80.56</td><td>80.6</td><td>81</td><td>80</td></tr>\n",
       "<tr><td>Fernando Martins</td><td>150</td><td>85.55</td><td>85.6</td><td>86</td><td>85</td></tr>\n",
       "<tr><td>Isis Silveira</td><td>173</td><td>70.1</td><td>70.1</td><td>71</td><td>70</td></tr>\n",
       "<tr><td>Cec&iacute;lia Porto</td><td>190</td><td>93.42</td><td>93.4</td><td>94</td><td>93</td></tr>\n",
       "<tr><td>Sra. Bruna Almeida</td><td>198</td><td>73.07</td><td>73.1</td><td>74</td><td>73</td></tr>\n",
       "<tr><td>Maria Julia Silva</td><td>170</td><td>71.36</td><td>71.4</td><td>72</td><td>71</td></tr>\n",
       "<tr><td>Pedro Henrique da...</td><td>188</td><td>105.57</td><td>105.6</td><td>106</td><td>105</td></tr>\n",
       "<tr><td>Davi Lucas Campos</td><td>180</td><td>98.49</td><td>98.5</td><td>99</td><td>98</td></tr>\n",
       "<tr><td>Juan Gon&ccedil;alves</td><td>175</td><td>71.87</td><td>71.9</td><td>72</td><td>71</td></tr>\n",
       "</table>\n"
      ],
      "text/plain": [
       "+--------------------+------+------+-----+----+-----+\n",
       "|                nome|altura|  peso|round|ceil|floor|\n",
       "+--------------------+------+------+-----+----+-----+\n",
       "|    Pietra Fernandes|   176| 97.88| 97.9|  98|   97|\n",
       "|   Ana Júlia da Rosa|   163| 80.56| 80.6|  81|   80|\n",
       "|    Fernando Martins|   150| 85.55| 85.6|  86|   85|\n",
       "|       Isis Silveira|   173|  70.1| 70.1|  71|   70|\n",
       "|       Cecília Porto|   190| 93.42| 93.4|  94|   93|\n",
       "|  Sra. Bruna Almeida|   198| 73.07| 73.1|  74|   73|\n",
       "|   Maria Julia Silva|   170| 71.36| 71.4|  72|   71|\n",
       "|Pedro Henrique da...|   188|105.57|105.6| 106|  105|\n",
       "|   Davi Lucas Campos|   180| 98.49| 98.5|  99|   98|\n",
       "|      Juan Gonçalves|   175| 71.87| 71.9|  72|   71|\n",
       "+--------------------+------+------+-----+----+-----+"
      ]
     },
     "execution_count": 13,
     "metadata": {},
     "output_type": "execute_result"
    }
   ],
   "source": [
    "# essa função round arredonda o valor\n",
    "(\n",
    "    df\n",
    "    .withColumn('round', F.round(F.col('peso'), 1)) # arredonda o valor para um numero com q quantidade de casas decimais desejadas\n",
    "    .withColumn('ceil', F.ceil(F.col('peso'))) # arredonda o valor para um numero inteiro para cima\n",
    "    .withColumn('floor', F.floor(F.col('peso'))) # arredonda o valor para um numero inteiro para baixo\n",
    ")"
   ]
  },
  {
   "cell_type": "code",
   "execution_count": 15,
   "metadata": {},
   "outputs": [
    {
     "data": {
      "text/html": [
       "<table border='1'>\n",
       "<tr><th>nome</th><th>altura</th><th>peso</th><th>abs</th></tr>\n",
       "<tr><td>Pietra Fernandes</td><td>176</td><td>97.88</td><td>97.88</td></tr>\n",
       "<tr><td>Ana J&uacute;lia da Rosa</td><td>163</td><td>80.56</td><td>80.56</td></tr>\n",
       "<tr><td>Fernando Martins</td><td>150</td><td>85.55</td><td>85.55</td></tr>\n",
       "<tr><td>Isis Silveira</td><td>173</td><td>70.1</td><td>70.1</td></tr>\n",
       "<tr><td>Cec&iacute;lia Porto</td><td>190</td><td>93.42</td><td>93.42</td></tr>\n",
       "<tr><td>Sra. Bruna Almeida</td><td>198</td><td>73.07</td><td>73.07</td></tr>\n",
       "<tr><td>Maria Julia Silva</td><td>170</td><td>71.36</td><td>71.36</td></tr>\n",
       "<tr><td>Pedro Henrique da...</td><td>188</td><td>105.57</td><td>105.57</td></tr>\n",
       "<tr><td>Davi Lucas Campos</td><td>180</td><td>98.49</td><td>98.49</td></tr>\n",
       "<tr><td>Juan Gon&ccedil;alves</td><td>175</td><td>71.87</td><td>71.87</td></tr>\n",
       "</table>\n"
      ],
      "text/plain": [
       "+--------------------+------+------+------+\n",
       "|                nome|altura|  peso|   abs|\n",
       "+--------------------+------+------+------+\n",
       "|    Pietra Fernandes|   176| 97.88| 97.88|\n",
       "|   Ana Júlia da Rosa|   163| 80.56| 80.56|\n",
       "|    Fernando Martins|   150| 85.55| 85.55|\n",
       "|       Isis Silveira|   173|  70.1|  70.1|\n",
       "|       Cecília Porto|   190| 93.42| 93.42|\n",
       "|  Sra. Bruna Almeida|   198| 73.07| 73.07|\n",
       "|   Maria Julia Silva|   170| 71.36| 71.36|\n",
       "|Pedro Henrique da...|   188|105.57|105.57|\n",
       "|   Davi Lucas Campos|   180| 98.49| 98.49|\n",
       "|      Juan Gonçalves|   175| 71.87| 71.87|\n",
       "+--------------------+------+------+------+"
      ]
     },
     "execution_count": 15,
     "metadata": {},
     "output_type": "execute_result"
    }
   ],
   "source": [
    "# esta função faz com que os valores se tornen absolutos fazendo valores negativos ficar positivos\n",
    "(\n",
    "    df\n",
    "    .withColumn('abs', F.abs(F.col('peso')))  \n",
    ")"
   ]
  },
  {
   "cell_type": "code",
   "execution_count": 17,
   "metadata": {},
   "outputs": [
    {
     "data": {
      "text/html": [
       "<table border='1'>\n",
       "<tr><th>nome</th><th>altura</th><th>peso</th><th>pow</th></tr>\n",
       "<tr><td>Pietra Fernandes</td><td>176</td><td>97.88</td><td>9580.4944</td></tr>\n",
       "<tr><td>Ana J&uacute;lia da Rosa</td><td>163</td><td>80.56</td><td>6489.913600000001</td></tr>\n",
       "<tr><td>Fernando Martins</td><td>150</td><td>85.55</td><td>7318.8025</td></tr>\n",
       "<tr><td>Isis Silveira</td><td>173</td><td>70.1</td><td>4914.009999999999</td></tr>\n",
       "<tr><td>Cec&iacute;lia Porto</td><td>190</td><td>93.42</td><td>8727.296400000001</td></tr>\n",
       "<tr><td>Sra. Bruna Almeida</td><td>198</td><td>73.07</td><td>5339.224899999999</td></tr>\n",
       "<tr><td>Maria Julia Silva</td><td>170</td><td>71.36</td><td>5092.2496</td></tr>\n",
       "<tr><td>Pedro Henrique da...</td><td>188</td><td>105.57</td><td>11145.024899999999</td></tr>\n",
       "<tr><td>Davi Lucas Campos</td><td>180</td><td>98.49</td><td>9700.280099999998</td></tr>\n",
       "<tr><td>Juan Gon&ccedil;alves</td><td>175</td><td>71.87</td><td>5165.2969</td></tr>\n",
       "</table>\n"
      ],
      "text/plain": [
       "+--------------------+------+------+------------------+\n",
       "|                nome|altura|  peso|               pow|\n",
       "+--------------------+------+------+------------------+\n",
       "|    Pietra Fernandes|   176| 97.88|         9580.4944|\n",
       "|   Ana Júlia da Rosa|   163| 80.56| 6489.913600000001|\n",
       "|    Fernando Martins|   150| 85.55|         7318.8025|\n",
       "|       Isis Silveira|   173|  70.1| 4914.009999999999|\n",
       "|       Cecília Porto|   190| 93.42| 8727.296400000001|\n",
       "|  Sra. Bruna Almeida|   198| 73.07| 5339.224899999999|\n",
       "|   Maria Julia Silva|   170| 71.36|         5092.2496|\n",
       "|Pedro Henrique da...|   188|105.57|11145.024899999999|\n",
       "|   Davi Lucas Campos|   180| 98.49| 9700.280099999998|\n",
       "|      Juan Gonçalves|   175| 71.87|         5165.2969|\n",
       "+--------------------+------+------+------------------+"
      ]
     },
     "execution_count": 17,
     "metadata": {},
     "output_type": "execute_result"
    }
   ],
   "source": [
    "# esta função ira fazer o calcular de elevacao de algum vaalor no caso estou elevando o peso ao quadrado(2)\n",
    "(\n",
    "    df\n",
    "    .withColumn('pow', F.pow(F.col('peso'), 2)) \n",
    ")"
   ]
  },
  {
   "cell_type": "code",
   "execution_count": 20,
   "metadata": {},
   "outputs": [
    {
     "data": {
      "text/html": [
       "<table border='1'>\n",
       "<tr><th>nome</th><th>altura</th><th>peso</th><th>sqrt</th></tr>\n",
       "<tr><td>Pietra Fernandes</td><td>176</td><td>97.88</td><td>13.2664991614216</td></tr>\n",
       "<tr><td>Ana J&uacute;lia da Rosa</td><td>163</td><td>80.56</td><td>12.767145334803704</td></tr>\n",
       "<tr><td>Fernando Martins</td><td>150</td><td>85.55</td><td>12.24744871391589</td></tr>\n",
       "<tr><td>Isis Silveira</td><td>173</td><td>70.1</td><td>13.152946437965905</td></tr>\n",
       "<tr><td>Cec&iacute;lia Porto</td><td>190</td><td>93.42</td><td>13.784048752090222</td></tr>\n",
       "<tr><td>Sra. Bruna Almeida</td><td>198</td><td>73.07</td><td>14.071247279470288</td></tr>\n",
       "<tr><td>Maria Julia Silva</td><td>170</td><td>71.36</td><td>13.038404810405298</td></tr>\n",
       "<tr><td>Pedro Henrique da...</td><td>188</td><td>105.57</td><td>13.711309200802088</td></tr>\n",
       "<tr><td>Davi Lucas Campos</td><td>180</td><td>98.49</td><td>13.416407864998739</td></tr>\n",
       "<tr><td>Juan Gon&ccedil;alves</td><td>175</td><td>71.87</td><td>13.228756555322953</td></tr>\n",
       "</table>\n"
      ],
      "text/plain": [
       "+--------------------+------+------+------------------+\n",
       "|                nome|altura|  peso|              sqrt|\n",
       "+--------------------+------+------+------------------+\n",
       "|    Pietra Fernandes|   176| 97.88|  13.2664991614216|\n",
       "|   Ana Júlia da Rosa|   163| 80.56|12.767145334803704|\n",
       "|    Fernando Martins|   150| 85.55| 12.24744871391589|\n",
       "|       Isis Silveira|   173|  70.1|13.152946437965905|\n",
       "|       Cecília Porto|   190| 93.42|13.784048752090222|\n",
       "|  Sra. Bruna Almeida|   198| 73.07|14.071247279470288|\n",
       "|   Maria Julia Silva|   170| 71.36|13.038404810405298|\n",
       "|Pedro Henrique da...|   188|105.57|13.711309200802088|\n",
       "|   Davi Lucas Campos|   180| 98.49|13.416407864998739|\n",
       "|      Juan Gonçalves|   175| 71.87|13.228756555322953|\n",
       "+--------------------+------+------+------------------+"
      ]
     },
     "execution_count": 20,
     "metadata": {},
     "output_type": "execute_result"
    }
   ],
   "source": [
    "# esta função ira fazer o calcular a raiz quadrada\n",
    "(\n",
    "    df\n",
    "    .withColumn('sqrt', F.sqrt(F.col('altura'))) \n",
    ")"
   ]
  },
  {
   "cell_type": "code",
   "execution_count": 28,
   "metadata": {},
   "outputs": [
    {
     "data": {
      "text/html": [
       "<table border='1'>\n",
       "<tr><th>nome</th><th>altura</th><th>peso</th><th>imc</th></tr>\n",
       "<tr><td>Pietra Fernandes</td><td>176</td><td>97.88</td><td>54.4</td></tr>\n",
       "<tr><td>Ana J&uacute;lia da Rosa</td><td>163</td><td>80.56</td><td>39.8</td></tr>\n",
       "<tr><td>Fernando Martins</td><td>150</td><td>85.55</td><td>48.8</td></tr>\n",
       "<tr><td>Isis Silveira</td><td>173</td><td>70.1</td><td>28.4</td></tr>\n",
       "<tr><td>Cec&iacute;lia Porto</td><td>190</td><td>93.42</td><td>45.9</td></tr>\n",
       "<tr><td>Sra. Bruna Almeida</td><td>198</td><td>73.07</td><td>27.0</td></tr>\n",
       "<tr><td>Maria Julia Silva</td><td>170</td><td>71.36</td><td>30.0</td></tr>\n",
       "<tr><td>Pedro Henrique da...</td><td>188</td><td>105.57</td><td>59.3</td></tr>\n",
       "<tr><td>Davi Lucas Campos</td><td>180</td><td>98.49</td><td>53.9</td></tr>\n",
       "<tr><td>Juan Gon&ccedil;alves</td><td>175</td><td>71.87</td><td>29.5</td></tr>\n",
       "</table>\n"
      ],
      "text/plain": [
       "+--------------------+------+------+----+\n",
       "|                nome|altura|  peso| imc|\n",
       "+--------------------+------+------+----+\n",
       "|    Pietra Fernandes|   176| 97.88|54.4|\n",
       "|   Ana Júlia da Rosa|   163| 80.56|39.8|\n",
       "|    Fernando Martins|   150| 85.55|48.8|\n",
       "|       Isis Silveira|   173|  70.1|28.4|\n",
       "|       Cecília Porto|   190| 93.42|45.9|\n",
       "|  Sra. Bruna Almeida|   198| 73.07|27.0|\n",
       "|   Maria Julia Silva|   170| 71.36|30.0|\n",
       "|Pedro Henrique da...|   188|105.57|59.3|\n",
       "|   Davi Lucas Campos|   180| 98.49|53.9|\n",
       "|      Juan Gonçalves|   175| 71.87|29.5|\n",
       "+--------------------+------+------+----+"
      ]
     },
     "execution_count": 28,
     "metadata": {},
     "output_type": "execute_result"
    }
   ],
   "source": [
    "# exemplo de calculo que podemos fazer com as funções\n",
    "(\n",
    "    df\n",
    "    .withColumn('imc', \n",
    "                F.round(\n",
    "                    F.pow(\n",
    "                        F.col('peso'), 2\n",
    "                    ) \n",
    "                    / F.col('altura'), 1\n",
    "                )\n",
    "               ) \n",
    ")"
   ]
  }
 ],
 "metadata": {
  "kernelspec": {
   "display_name": "Python 3",
   "language": "python",
   "name": "python3"
  },
  "language_info": {
   "codemirror_mode": {
    "name": "ipython",
    "version": 3
   },
   "file_extension": ".py",
   "mimetype": "text/x-python",
   "name": "python",
   "nbconvert_exporter": "python",
   "pygments_lexer": "ipython3",
   "version": "3.11.8"
  }
 },
 "nbformat": 4,
 "nbformat_minor": 2
}
