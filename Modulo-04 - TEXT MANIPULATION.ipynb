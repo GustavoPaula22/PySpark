{
 "cells": [
  {
   "cell_type": "code",
   "execution_count": null,
   "metadata": {},
   "outputs": [],
   "source": [
    "!pip install pyspark==3.3.2"
   ]
  },
  {
   "cell_type": "code",
   "execution_count": 2,
   "metadata": {},
   "outputs": [],
   "source": [
    "from pyspark.sql import SparkSession\n",
    "import pyspark.sql.functions as F"
   ]
  },
  {
   "cell_type": "code",
   "execution_count": 3,
   "metadata": {},
   "outputs": [],
   "source": [
    "spark = (\n",
    "    SparkSession.builder.appName('Treinamento-02')\n",
    "    .config('spark.sql.repl.eagerEval.enabled', True)\n",
    "    .getOrCreate()\n",
    ")"
   ]
  },
  {
   "cell_type": "code",
   "execution_count": 6,
   "metadata": {},
   "outputs": [],
   "source": [
    "df = spark.read.parquet(r'C:\\Meus\\Projetos\\Python\\VsCode\\Bases\\DATASETS\\LOGINS.parquet')"
   ]
  },
  {
   "cell_type": "code",
   "execution_count": 7,
   "metadata": {},
   "outputs": [],
   "source": [
    "dfr = df.select(df.email, df.senha, df.estado, df.cor_favorita, df.profissao)"
   ]
  },
  {
   "cell_type": "code",
   "execution_count": 9,
   "metadata": {},
   "outputs": [
    {
     "data": {
      "text/html": [
       "<table border='1'>\n",
       "<tr><th>email</th><th>senha</th><th>estado</th><th>cor_favorita</th><th>profissao</th></tr>\n",
       "<tr><td>pedro-lucas53@gma...</td><td>+7^7E%xFBc</td><td>RR</td><td>Roxo</td><td>Jogador De Golfe</td></tr>\n",
       "<tr><td>rezendeisaac@hotm...</td><td>_O_2GRnGOe</td><td>GO</td><td>Ciano</td><td>Atleta De Arremes...</td></tr>\n",
       "<tr><td>felipepires@uol.c...</td><td>*Aw5EOAvy9</td><td>MG</td><td>Azul</td><td>Papiloscopista</td></tr>\n",
       "<tr><td>stellamoraes@bol....</td><td>mw0AWYAs#s</td><td>AC</td><td>Marrom</td><td>Aeromo&ccedil;a</td></tr>\n",
       "<tr><td>wcarvalho@ig.com.br</td><td>pGD%!2Pq5X</td><td>AP</td><td>Laranja</td><td>Fonoaudi&oacute;logo</td></tr>\n",
       "<tr><td>da-conceicaodavi-...</td><td>uhBbFxPA&amp;9</td><td>MG</td><td>Rosa</td><td>Taxista</td></tr>\n",
       "<tr><td>efreitas@bol.com.br</td><td>s#q9VZt&amp;xl</td><td>MG</td><td>Branco</td><td>Produtor De Audio...</td></tr>\n",
       "<tr><td>wnunes@bol.com.br</td><td>_8az1W%n7g</td><td>SE</td><td>Azul</td><td>Cadeirinha</td></tr>\n",
       "<tr><td>jribeiro@bol.com.br</td><td>MEf1X7fj_0</td><td>PA</td><td>Marrom</td><td>Ge&oacute;logo</td></tr>\n",
       "<tr><td>murilo05@gmail.com</td><td>Te&amp;gO7GkKs</td><td>MT</td><td>Marrom</td><td>T&eacute;cnico De Som</td></tr>\n",
       "<tr><td>joaquim57@ig.com.br</td><td>&amp;2E1NY+ARc</td><td>BA</td><td>Rosa</td><td>Esteticista</td></tr>\n",
       "<tr><td>alexiada-rocha@ig...</td><td>@f@!Z!2c*2</td><td>MS</td><td>Laranja</td><td>Microfonista</td></tr>\n",
       "<tr><td>pmendes@gmail.com</td><td>M+^XDBfe(2</td><td>RR</td><td>Verde Claro</td><td>Fiscal</td></tr>\n",
       "<tr><td>renan46@bol.com.br</td><td>Rp%2pVqfe$</td><td>PA</td><td>Verde Escuro</td><td>Contabilista</td></tr>\n",
       "<tr><td>manuelada-rosa@ho...</td><td>#hEIEOztQ3</td><td>SE</td><td>Violeta</td><td>Seguidor De Compras</td></tr>\n",
       "<tr><td>usales@ig.com.br</td><td>b_8xaY$ozJ</td><td>AM</td><td>Rosa</td><td>Almirante</td></tr>\n",
       "<tr><td>pereiranicolas@ho...</td><td>YA9I85Wb+2</td><td>MA</td><td>Amarelo</td><td>Consultor De Moda</td></tr>\n",
       "<tr><td>cardosolivia@ig.c...</td><td>yXkDW7Ebh*</td><td>GO</td><td>Laranja</td><td>Barbeiro</td></tr>\n",
       "<tr><td>brenda39@ig.com.br</td><td>XS$84Hpsnw</td><td>RJ</td><td>Branco</td><td>Promotor De Vendas</td></tr>\n",
       "<tr><td>luizapeixoto@gmai...</td><td>TbKy82Kda$</td><td>DF</td><td>Ciano</td><td>Implantodontista</td></tr>\n",
       "</table>\n",
       "only showing top 20 rows\n"
      ],
      "text/plain": [
       "DataFrame[email: string, senha: string, estado: string, cor_favorita: string, profissao: string]"
      ]
     },
     "execution_count": 9,
     "metadata": {},
     "output_type": "execute_result"
    }
   ],
   "source": [
    "dfr"
   ]
  },
  {
   "cell_type": "code",
   "execution_count": 18,
   "metadata": {},
   "outputs": [],
   "source": [
    "# essa função ira fazer manipular textos e fazer quebras para ir separando os itens\n",
    "dfr = (\n",
    "    dfr\n",
    "    .withColumn('usuario', F.split(dfr.email, '@')\n",
    "                .getItem(0)\n",
    "                )\n",
    "    .withColumn('provedor', F.split(F.split(dfr.email, '@')\n",
    "                                    .getItem(1), '\\.').getItem(0))\n",
    ")"
   ]
  },
  {
   "cell_type": "code",
   "execution_count": 24,
   "metadata": {},
   "outputs": [
    {
     "data": {
      "text/html": [
       "<table border='1'>\n",
       "<tr><th>email</th><th>senha</th><th>estado</th><th>cor_favorita</th><th>profissao</th><th>usuario</th><th>provedor</th><th>concat</th></tr>\n",
       "<tr><td>pedro-lucas53@gma...</td><td>+7^7E%xFBc</td><td>RR</td><td>Roxo</td><td>Jogador De Golfe</td><td>pedro-lucas53</td><td>gmail</td><td>Brasil - RR</td></tr>\n",
       "<tr><td>rezendeisaac@hotm...</td><td>_O_2GRnGOe</td><td>GO</td><td>Ciano</td><td>Atleta De Arremes...</td><td>rezendeisaac</td><td>hotmail</td><td>Brasil - GO</td></tr>\n",
       "<tr><td>felipepires@uol.c...</td><td>*Aw5EOAvy9</td><td>MG</td><td>Azul</td><td>Papiloscopista</td><td>felipepires</td><td>uol</td><td>Brasil - MG</td></tr>\n",
       "<tr><td>stellamoraes@bol....</td><td>mw0AWYAs#s</td><td>AC</td><td>Marrom</td><td>Aeromo&ccedil;a</td><td>stellamoraes</td><td>bol</td><td>Brasil - AC</td></tr>\n",
       "<tr><td>wcarvalho@ig.com.br</td><td>pGD%!2Pq5X</td><td>AP</td><td>Laranja</td><td>Fonoaudi&oacute;logo</td><td>wcarvalho</td><td>ig</td><td>Brasil - AP</td></tr>\n",
       "<tr><td>da-conceicaodavi-...</td><td>uhBbFxPA&amp;9</td><td>MG</td><td>Rosa</td><td>Taxista</td><td>da-conceicaodavi-...</td><td>hotmail</td><td>Brasil - MG</td></tr>\n",
       "<tr><td>efreitas@bol.com.br</td><td>s#q9VZt&amp;xl</td><td>MG</td><td>Branco</td><td>Produtor De Audio...</td><td>efreitas</td><td>bol</td><td>Brasil - MG</td></tr>\n",
       "<tr><td>wnunes@bol.com.br</td><td>_8az1W%n7g</td><td>SE</td><td>Azul</td><td>Cadeirinha</td><td>wnunes</td><td>bol</td><td>Brasil - SE</td></tr>\n",
       "<tr><td>jribeiro@bol.com.br</td><td>MEf1X7fj_0</td><td>PA</td><td>Marrom</td><td>Ge&oacute;logo</td><td>jribeiro</td><td>bol</td><td>Brasil - PA</td></tr>\n",
       "<tr><td>murilo05@gmail.com</td><td>Te&amp;gO7GkKs</td><td>MT</td><td>Marrom</td><td>T&eacute;cnico De Som</td><td>murilo05</td><td>gmail</td><td>Brasil - MT</td></tr>\n",
       "<tr><td>joaquim57@ig.com.br</td><td>&amp;2E1NY+ARc</td><td>BA</td><td>Rosa</td><td>Esteticista</td><td>joaquim57</td><td>ig</td><td>Brasil - BA</td></tr>\n",
       "<tr><td>alexiada-rocha@ig...</td><td>@f@!Z!2c*2</td><td>MS</td><td>Laranja</td><td>Microfonista</td><td>alexiada-rocha</td><td>ig</td><td>Brasil - MS</td></tr>\n",
       "<tr><td>pmendes@gmail.com</td><td>M+^XDBfe(2</td><td>RR</td><td>Verde Claro</td><td>Fiscal</td><td>pmendes</td><td>gmail</td><td>Brasil - RR</td></tr>\n",
       "<tr><td>renan46@bol.com.br</td><td>Rp%2pVqfe$</td><td>PA</td><td>Verde Escuro</td><td>Contabilista</td><td>renan46</td><td>bol</td><td>Brasil - PA</td></tr>\n",
       "<tr><td>manuelada-rosa@ho...</td><td>#hEIEOztQ3</td><td>SE</td><td>Violeta</td><td>Seguidor De Compras</td><td>manuelada-rosa</td><td>hotmail</td><td>Brasil - SE</td></tr>\n",
       "<tr><td>usales@ig.com.br</td><td>b_8xaY$ozJ</td><td>AM</td><td>Rosa</td><td>Almirante</td><td>usales</td><td>ig</td><td>Brasil - AM</td></tr>\n",
       "<tr><td>pereiranicolas@ho...</td><td>YA9I85Wb+2</td><td>MA</td><td>Amarelo</td><td>Consultor De Moda</td><td>pereiranicolas</td><td>hotmail</td><td>Brasil - MA</td></tr>\n",
       "<tr><td>cardosolivia@ig.c...</td><td>yXkDW7Ebh*</td><td>GO</td><td>Laranja</td><td>Barbeiro</td><td>cardosolivia</td><td>ig</td><td>Brasil - GO</td></tr>\n",
       "<tr><td>brenda39@ig.com.br</td><td>XS$84Hpsnw</td><td>RJ</td><td>Branco</td><td>Promotor De Vendas</td><td>brenda39</td><td>ig</td><td>Brasil - RJ</td></tr>\n",
       "<tr><td>luizapeixoto@gmai...</td><td>TbKy82Kda$</td><td>DF</td><td>Ciano</td><td>Implantodontista</td><td>luizapeixoto</td><td>gmail</td><td>Brasil - DF</td></tr>\n",
       "</table>\n",
       "only showing top 20 rows\n"
      ],
      "text/plain": [
       "+--------------------+----------+------+------------+--------------------+--------------------+--------+-----------+\n",
       "|               email|     senha|estado|cor_favorita|           profissao|             usuario|provedor|     concat|\n",
       "+--------------------+----------+------+------------+--------------------+--------------------+--------+-----------+\n",
       "|pedro-lucas53@gma...|+7^7E%xFBc|    RR|        Roxo|    Jogador De Golfe|       pedro-lucas53|   gmail|Brasil - RR|\n",
       "|rezendeisaac@hotm...|_O_2GRnGOe|    GO|       Ciano|Atleta De Arremes...|        rezendeisaac| hotmail|Brasil - GO|\n",
       "|felipepires@uol.c...|*Aw5EOAvy9|    MG|        Azul|      Papiloscopista|         felipepires|     uol|Brasil - MG|\n",
       "|stellamoraes@bol....|mw0AWYAs#s|    AC|      Marrom|            Aeromoça|        stellamoraes|     bol|Brasil - AC|\n",
       "| wcarvalho@ig.com.br|pGD%!2Pq5X|    AP|     Laranja|       Fonoaudiólogo|           wcarvalho|      ig|Brasil - AP|\n",
       "|da-conceicaodavi-...|uhBbFxPA&9|    MG|        Rosa|             Taxista|da-conceicaodavi-...| hotmail|Brasil - MG|\n",
       "| efreitas@bol.com.br|s#q9VZt&xl|    MG|      Branco|Produtor De Audio...|            efreitas|     bol|Brasil - MG|\n",
       "|   wnunes@bol.com.br|_8az1W%n7g|    SE|        Azul|          Cadeirinha|              wnunes|     bol|Brasil - SE|\n",
       "| jribeiro@bol.com.br|MEf1X7fj_0|    PA|      Marrom|             Geólogo|            jribeiro|     bol|Brasil - PA|\n",
       "|  murilo05@gmail.com|Te&gO7GkKs|    MT|      Marrom|      Técnico De Som|            murilo05|   gmail|Brasil - MT|\n",
       "| joaquim57@ig.com.br|&2E1NY+ARc|    BA|        Rosa|         Esteticista|           joaquim57|      ig|Brasil - BA|\n",
       "|alexiada-rocha@ig...|@f@!Z!2c*2|    MS|     Laranja|        Microfonista|      alexiada-rocha|      ig|Brasil - MS|\n",
       "|   pmendes@gmail.com|M+^XDBfe(2|    RR| Verde Claro|              Fiscal|             pmendes|   gmail|Brasil - RR|\n",
       "|  renan46@bol.com.br|Rp%2pVqfe$|    PA|Verde Escuro|        Contabilista|             renan46|     bol|Brasil - PA|\n",
       "|manuelada-rosa@ho...|#hEIEOztQ3|    SE|     Violeta| Seguidor De Compras|      manuelada-rosa| hotmail|Brasil - SE|\n",
       "|    usales@ig.com.br|b_8xaY$ozJ|    AM|        Rosa|           Almirante|              usales|      ig|Brasil - AM|\n",
       "|pereiranicolas@ho...|YA9I85Wb+2|    MA|     Amarelo|   Consultor De Moda|      pereiranicolas| hotmail|Brasil - MA|\n",
       "|cardosolivia@ig.c...|yXkDW7Ebh*|    GO|     Laranja|            Barbeiro|        cardosolivia|      ig|Brasil - GO|\n",
       "|  brenda39@ig.com.br|XS$84Hpsnw|    RJ|      Branco|  Promotor De Vendas|            brenda39|      ig|Brasil - RJ|\n",
       "|luizapeixoto@gmai...|TbKy82Kda$|    DF|       Ciano|    Implantodontista|        luizapeixoto|   gmail|Brasil - DF|\n",
       "+--------------------+----------+------+------------+--------------------+--------------------+--------+-----------+\n",
       "only showing top 20 rows"
      ]
     },
     "execution_count": 24,
     "metadata": {},
     "output_type": "execute_result"
    }
   ],
   "source": [
    "# podemos utilizar para unir 2 ou mais colunas tambem\n",
    "(\n",
    "    dfr.withColumn('concat', F.concat(F.col('usuario'), F.col('estado')))\n",
    ")\n",
    "\n",
    "(\n",
    "    dfr.withColumn('concat', F.concat(F.lit('Brasil - '), F.col('estado')))\n",
    ")\n"
   ]
  },
  {
   "cell_type": "code",
   "execution_count": 29,
   "metadata": {},
   "outputs": [
    {
     "data": {
      "text/html": [
       "<table border='1'>\n",
       "<tr><th>email</th><th>senha</th><th>estado</th><th>cor_favorita</th><th>profissao</th><th>usuario</th><th>provedor</th><th>lower</th><th>upper</th><th>primeira_letra_upper</th></tr>\n",
       "<tr><td>pedro-lucas53@gma...</td><td>+7^7E%xFBc</td><td>RR</td><td>Roxo</td><td>Jogador De Golfe</td><td>pedro-lucas53</td><td>gmail</td><td>jogador de golfe</td><td>JOGADOR DE GOLFE</td><td>Jogador De Golfe</td></tr>\n",
       "<tr><td>rezendeisaac@hotm...</td><td>_O_2GRnGOe</td><td>GO</td><td>Ciano</td><td>Atleta De Arremes...</td><td>rezendeisaac</td><td>hotmail</td><td>atleta de arremes...</td><td>ATLETA DE ARREMES...</td><td>Atleta De Arremes...</td></tr>\n",
       "<tr><td>felipepires@uol.c...</td><td>*Aw5EOAvy9</td><td>MG</td><td>Azul</td><td>Papiloscopista</td><td>felipepires</td><td>uol</td><td>papiloscopista</td><td>PAPILOSCOPISTA</td><td>Papiloscopista</td></tr>\n",
       "<tr><td>stellamoraes@bol....</td><td>mw0AWYAs#s</td><td>AC</td><td>Marrom</td><td>Aeromo&ccedil;a</td><td>stellamoraes</td><td>bol</td><td>aeromo&ccedil;a</td><td>AEROMO&Ccedil;A</td><td>Aeromo&ccedil;a</td></tr>\n",
       "<tr><td>wcarvalho@ig.com.br</td><td>pGD%!2Pq5X</td><td>AP</td><td>Laranja</td><td>Fonoaudi&oacute;logo</td><td>wcarvalho</td><td>ig</td><td>fonoaudi&oacute;logo</td><td>FONOAUDI&Oacute;LOGO</td><td>Fonoaudi&oacute;logo</td></tr>\n",
       "<tr><td>da-conceicaodavi-...</td><td>uhBbFxPA&amp;9</td><td>MG</td><td>Rosa</td><td>Taxista</td><td>da-conceicaodavi-...</td><td>hotmail</td><td>taxista</td><td>TAXISTA</td><td>Taxista</td></tr>\n",
       "<tr><td>efreitas@bol.com.br</td><td>s#q9VZt&amp;xl</td><td>MG</td><td>Branco</td><td>Produtor De Audio...</td><td>efreitas</td><td>bol</td><td>produtor de audio...</td><td>PRODUTOR DE AUDIO...</td><td>Produtor De Audio...</td></tr>\n",
       "<tr><td>wnunes@bol.com.br</td><td>_8az1W%n7g</td><td>SE</td><td>Azul</td><td>Cadeirinha</td><td>wnunes</td><td>bol</td><td>cadeirinha</td><td>CADEIRINHA</td><td>Cadeirinha</td></tr>\n",
       "<tr><td>jribeiro@bol.com.br</td><td>MEf1X7fj_0</td><td>PA</td><td>Marrom</td><td>Ge&oacute;logo</td><td>jribeiro</td><td>bol</td><td>ge&oacute;logo</td><td>GE&Oacute;LOGO</td><td>Ge&oacute;logo</td></tr>\n",
       "<tr><td>murilo05@gmail.com</td><td>Te&amp;gO7GkKs</td><td>MT</td><td>Marrom</td><td>T&eacute;cnico De Som</td><td>murilo05</td><td>gmail</td><td>t&eacute;cnico de som</td><td>T&Eacute;CNICO DE SOM</td><td>T&eacute;cnico De Som</td></tr>\n",
       "<tr><td>joaquim57@ig.com.br</td><td>&amp;2E1NY+ARc</td><td>BA</td><td>Rosa</td><td>Esteticista</td><td>joaquim57</td><td>ig</td><td>esteticista</td><td>ESTETICISTA</td><td>Esteticista</td></tr>\n",
       "<tr><td>alexiada-rocha@ig...</td><td>@f@!Z!2c*2</td><td>MS</td><td>Laranja</td><td>Microfonista</td><td>alexiada-rocha</td><td>ig</td><td>microfonista</td><td>MICROFONISTA</td><td>Microfonista</td></tr>\n",
       "<tr><td>pmendes@gmail.com</td><td>M+^XDBfe(2</td><td>RR</td><td>Verde Claro</td><td>Fiscal</td><td>pmendes</td><td>gmail</td><td>fiscal</td><td>FISCAL</td><td>Fiscal</td></tr>\n",
       "<tr><td>renan46@bol.com.br</td><td>Rp%2pVqfe$</td><td>PA</td><td>Verde Escuro</td><td>Contabilista</td><td>renan46</td><td>bol</td><td>contabilista</td><td>CONTABILISTA</td><td>Contabilista</td></tr>\n",
       "<tr><td>manuelada-rosa@ho...</td><td>#hEIEOztQ3</td><td>SE</td><td>Violeta</td><td>Seguidor De Compras</td><td>manuelada-rosa</td><td>hotmail</td><td>seguidor de compras</td><td>SEGUIDOR DE COMPRAS</td><td>Seguidor De Compras</td></tr>\n",
       "<tr><td>usales@ig.com.br</td><td>b_8xaY$ozJ</td><td>AM</td><td>Rosa</td><td>Almirante</td><td>usales</td><td>ig</td><td>almirante</td><td>ALMIRANTE</td><td>Almirante</td></tr>\n",
       "<tr><td>pereiranicolas@ho...</td><td>YA9I85Wb+2</td><td>MA</td><td>Amarelo</td><td>Consultor De Moda</td><td>pereiranicolas</td><td>hotmail</td><td>consultor de moda</td><td>CONSULTOR DE MODA</td><td>Consultor De Moda</td></tr>\n",
       "<tr><td>cardosolivia@ig.c...</td><td>yXkDW7Ebh*</td><td>GO</td><td>Laranja</td><td>Barbeiro</td><td>cardosolivia</td><td>ig</td><td>barbeiro</td><td>BARBEIRO</td><td>Barbeiro</td></tr>\n",
       "<tr><td>brenda39@ig.com.br</td><td>XS$84Hpsnw</td><td>RJ</td><td>Branco</td><td>Promotor De Vendas</td><td>brenda39</td><td>ig</td><td>promotor de vendas</td><td>PROMOTOR DE VENDAS</td><td>Promotor De Vendas</td></tr>\n",
       "<tr><td>luizapeixoto@gmai...</td><td>TbKy82Kda$</td><td>DF</td><td>Ciano</td><td>Implantodontista</td><td>luizapeixoto</td><td>gmail</td><td>implantodontista</td><td>IMPLANTODONTISTA</td><td>Implantodontista</td></tr>\n",
       "</table>\n",
       "only showing top 20 rows\n"
      ],
      "text/plain": [
       "+--------------------+----------+------+------------+--------------------+--------------------+--------+--------------------+--------------------+--------------------+\n",
       "|               email|     senha|estado|cor_favorita|           profissao|             usuario|provedor|               lower|               upper|primeira_letra_upper|\n",
       "+--------------------+----------+------+------------+--------------------+--------------------+--------+--------------------+--------------------+--------------------+\n",
       "|pedro-lucas53@gma...|+7^7E%xFBc|    RR|        Roxo|    Jogador De Golfe|       pedro-lucas53|   gmail|    jogador de golfe|    JOGADOR DE GOLFE|    Jogador De Golfe|\n",
       "|rezendeisaac@hotm...|_O_2GRnGOe|    GO|       Ciano|Atleta De Arremes...|        rezendeisaac| hotmail|atleta de arremes...|ATLETA DE ARREMES...|Atleta De Arremes...|\n",
       "|felipepires@uol.c...|*Aw5EOAvy9|    MG|        Azul|      Papiloscopista|         felipepires|     uol|      papiloscopista|      PAPILOSCOPISTA|      Papiloscopista|\n",
       "|stellamoraes@bol....|mw0AWYAs#s|    AC|      Marrom|            Aeromoça|        stellamoraes|     bol|            aeromoça|            AEROMOÇA|            Aeromoça|\n",
       "| wcarvalho@ig.com.br|pGD%!2Pq5X|    AP|     Laranja|       Fonoaudiólogo|           wcarvalho|      ig|       fonoaudiólogo|       FONOAUDIÓLOGO|       Fonoaudiólogo|\n",
       "|da-conceicaodavi-...|uhBbFxPA&9|    MG|        Rosa|             Taxista|da-conceicaodavi-...| hotmail|             taxista|             TAXISTA|             Taxista|\n",
       "| efreitas@bol.com.br|s#q9VZt&xl|    MG|      Branco|Produtor De Audio...|            efreitas|     bol|produtor de audio...|PRODUTOR DE AUDIO...|Produtor De Audio...|\n",
       "|   wnunes@bol.com.br|_8az1W%n7g|    SE|        Azul|          Cadeirinha|              wnunes|     bol|          cadeirinha|          CADEIRINHA|          Cadeirinha|\n",
       "| jribeiro@bol.com.br|MEf1X7fj_0|    PA|      Marrom|             Geólogo|            jribeiro|     bol|             geólogo|             GEÓLOGO|             Geólogo|\n",
       "|  murilo05@gmail.com|Te&gO7GkKs|    MT|      Marrom|      Técnico De Som|            murilo05|   gmail|      técnico de som|      TÉCNICO DE SOM|      Técnico De Som|\n",
       "| joaquim57@ig.com.br|&2E1NY+ARc|    BA|        Rosa|         Esteticista|           joaquim57|      ig|         esteticista|         ESTETICISTA|         Esteticista|\n",
       "|alexiada-rocha@ig...|@f@!Z!2c*2|    MS|     Laranja|        Microfonista|      alexiada-rocha|      ig|        microfonista|        MICROFONISTA|        Microfonista|\n",
       "|   pmendes@gmail.com|M+^XDBfe(2|    RR| Verde Claro|              Fiscal|             pmendes|   gmail|              fiscal|              FISCAL|              Fiscal|\n",
       "|  renan46@bol.com.br|Rp%2pVqfe$|    PA|Verde Escuro|        Contabilista|             renan46|     bol|        contabilista|        CONTABILISTA|        Contabilista|\n",
       "|manuelada-rosa@ho...|#hEIEOztQ3|    SE|     Violeta| Seguidor De Compras|      manuelada-rosa| hotmail| seguidor de compras| SEGUIDOR DE COMPRAS| Seguidor De Compras|\n",
       "|    usales@ig.com.br|b_8xaY$ozJ|    AM|        Rosa|           Almirante|              usales|      ig|           almirante|           ALMIRANTE|           Almirante|\n",
       "|pereiranicolas@ho...|YA9I85Wb+2|    MA|     Amarelo|   Consultor De Moda|      pereiranicolas| hotmail|   consultor de moda|   CONSULTOR DE MODA|   Consultor De Moda|\n",
       "|cardosolivia@ig.c...|yXkDW7Ebh*|    GO|     Laranja|            Barbeiro|        cardosolivia|      ig|            barbeiro|            BARBEIRO|            Barbeiro|\n",
       "|  brenda39@ig.com.br|XS$84Hpsnw|    RJ|      Branco|  Promotor De Vendas|            brenda39|      ig|  promotor de vendas|  PROMOTOR DE VENDAS|  Promotor De Vendas|\n",
       "|luizapeixoto@gmai...|TbKy82Kda$|    DF|       Ciano|    Implantodontista|        luizapeixoto|   gmail|    implantodontista|    IMPLANTODONTISTA|    Implantodontista|\n",
       "+--------------------+----------+------+------------+--------------------+--------------------+--------+--------------------+--------------------+--------------------+\n",
       "only showing top 20 rows"
      ]
     },
     "execution_count": 29,
     "metadata": {},
     "output_type": "execute_result"
    }
   ],
   "source": [
    "# para manipularmos o UPPER CASE ou LOWER CASE podemos utilizar esse comando\n",
    "dfr = (\n",
    "    dfr.withColumn('lower', F.lower('profissao'))\n",
    ")\n",
    "\n",
    "dfr = (\n",
    "    dfr.withColumn('upper', F.upper('profissao'))\n",
    ")\n",
    "\n",
    "dfr = (\n",
    "    dfr.withColumn('primeira_letra_upper', F.initcap('lower'))\n",
    ")\n",
    "\n",
    "dfr"
   ]
  },
  {
   "cell_type": "code",
   "execution_count": 31,
   "metadata": {},
   "outputs": [
    {
     "data": {
      "text/html": [
       "<table border='1'>\n",
       "<tr><th>email</th><th>senha</th><th>estado</th><th>cor_favorita</th><th>profissao</th><th>usuario</th><th>provedor</th><th>lower</th><th>upper</th><th>primeira_letra_upper</th><th>sub_string</th></tr>\n",
       "<tr><td>pedro-lucas53@gma...</td><td>+7^7E%xFBc</td><td>RR</td><td>Roxo</td><td>Jogador De Golfe</td><td>pedro-lucas53</td><td>gmail</td><td>jogador de golfe</td><td>JOGADOR DE GOLFE</td><td>Jogador De Golfe</td><td>Rox</td></tr>\n",
       "<tr><td>rezendeisaac@hotm...</td><td>_O_2GRnGOe</td><td>GO</td><td>Ciano</td><td>Atleta De Arremes...</td><td>rezendeisaac</td><td>hotmail</td><td>atleta de arremes...</td><td>ATLETA DE ARREMES...</td><td>Atleta De Arremes...</td><td>Cia</td></tr>\n",
       "<tr><td>felipepires@uol.c...</td><td>*Aw5EOAvy9</td><td>MG</td><td>Azul</td><td>Papiloscopista</td><td>felipepires</td><td>uol</td><td>papiloscopista</td><td>PAPILOSCOPISTA</td><td>Papiloscopista</td><td>Azu</td></tr>\n",
       "<tr><td>stellamoraes@bol....</td><td>mw0AWYAs#s</td><td>AC</td><td>Marrom</td><td>Aeromo&ccedil;a</td><td>stellamoraes</td><td>bol</td><td>aeromo&ccedil;a</td><td>AEROMO&Ccedil;A</td><td>Aeromo&ccedil;a</td><td>Mar</td></tr>\n",
       "<tr><td>wcarvalho@ig.com.br</td><td>pGD%!2Pq5X</td><td>AP</td><td>Laranja</td><td>Fonoaudi&oacute;logo</td><td>wcarvalho</td><td>ig</td><td>fonoaudi&oacute;logo</td><td>FONOAUDI&Oacute;LOGO</td><td>Fonoaudi&oacute;logo</td><td>Lar</td></tr>\n",
       "<tr><td>da-conceicaodavi-...</td><td>uhBbFxPA&amp;9</td><td>MG</td><td>Rosa</td><td>Taxista</td><td>da-conceicaodavi-...</td><td>hotmail</td><td>taxista</td><td>TAXISTA</td><td>Taxista</td><td>Ros</td></tr>\n",
       "<tr><td>efreitas@bol.com.br</td><td>s#q9VZt&amp;xl</td><td>MG</td><td>Branco</td><td>Produtor De Audio...</td><td>efreitas</td><td>bol</td><td>produtor de audio...</td><td>PRODUTOR DE AUDIO...</td><td>Produtor De Audio...</td><td>Bra</td></tr>\n",
       "<tr><td>wnunes@bol.com.br</td><td>_8az1W%n7g</td><td>SE</td><td>Azul</td><td>Cadeirinha</td><td>wnunes</td><td>bol</td><td>cadeirinha</td><td>CADEIRINHA</td><td>Cadeirinha</td><td>Azu</td></tr>\n",
       "<tr><td>jribeiro@bol.com.br</td><td>MEf1X7fj_0</td><td>PA</td><td>Marrom</td><td>Ge&oacute;logo</td><td>jribeiro</td><td>bol</td><td>ge&oacute;logo</td><td>GE&Oacute;LOGO</td><td>Ge&oacute;logo</td><td>Mar</td></tr>\n",
       "<tr><td>murilo05@gmail.com</td><td>Te&amp;gO7GkKs</td><td>MT</td><td>Marrom</td><td>T&eacute;cnico De Som</td><td>murilo05</td><td>gmail</td><td>t&eacute;cnico de som</td><td>T&Eacute;CNICO DE SOM</td><td>T&eacute;cnico De Som</td><td>Mar</td></tr>\n",
       "<tr><td>joaquim57@ig.com.br</td><td>&amp;2E1NY+ARc</td><td>BA</td><td>Rosa</td><td>Esteticista</td><td>joaquim57</td><td>ig</td><td>esteticista</td><td>ESTETICISTA</td><td>Esteticista</td><td>Ros</td></tr>\n",
       "<tr><td>alexiada-rocha@ig...</td><td>@f@!Z!2c*2</td><td>MS</td><td>Laranja</td><td>Microfonista</td><td>alexiada-rocha</td><td>ig</td><td>microfonista</td><td>MICROFONISTA</td><td>Microfonista</td><td>Lar</td></tr>\n",
       "<tr><td>pmendes@gmail.com</td><td>M+^XDBfe(2</td><td>RR</td><td>Verde Claro</td><td>Fiscal</td><td>pmendes</td><td>gmail</td><td>fiscal</td><td>FISCAL</td><td>Fiscal</td><td>Ver</td></tr>\n",
       "<tr><td>renan46@bol.com.br</td><td>Rp%2pVqfe$</td><td>PA</td><td>Verde Escuro</td><td>Contabilista</td><td>renan46</td><td>bol</td><td>contabilista</td><td>CONTABILISTA</td><td>Contabilista</td><td>Ver</td></tr>\n",
       "<tr><td>manuelada-rosa@ho...</td><td>#hEIEOztQ3</td><td>SE</td><td>Violeta</td><td>Seguidor De Compras</td><td>manuelada-rosa</td><td>hotmail</td><td>seguidor de compras</td><td>SEGUIDOR DE COMPRAS</td><td>Seguidor De Compras</td><td>Vio</td></tr>\n",
       "<tr><td>usales@ig.com.br</td><td>b_8xaY$ozJ</td><td>AM</td><td>Rosa</td><td>Almirante</td><td>usales</td><td>ig</td><td>almirante</td><td>ALMIRANTE</td><td>Almirante</td><td>Ros</td></tr>\n",
       "<tr><td>pereiranicolas@ho...</td><td>YA9I85Wb+2</td><td>MA</td><td>Amarelo</td><td>Consultor De Moda</td><td>pereiranicolas</td><td>hotmail</td><td>consultor de moda</td><td>CONSULTOR DE MODA</td><td>Consultor De Moda</td><td>Ama</td></tr>\n",
       "<tr><td>cardosolivia@ig.c...</td><td>yXkDW7Ebh*</td><td>GO</td><td>Laranja</td><td>Barbeiro</td><td>cardosolivia</td><td>ig</td><td>barbeiro</td><td>BARBEIRO</td><td>Barbeiro</td><td>Lar</td></tr>\n",
       "<tr><td>brenda39@ig.com.br</td><td>XS$84Hpsnw</td><td>RJ</td><td>Branco</td><td>Promotor De Vendas</td><td>brenda39</td><td>ig</td><td>promotor de vendas</td><td>PROMOTOR DE VENDAS</td><td>Promotor De Vendas</td><td>Bra</td></tr>\n",
       "<tr><td>luizapeixoto@gmai...</td><td>TbKy82Kda$</td><td>DF</td><td>Ciano</td><td>Implantodontista</td><td>luizapeixoto</td><td>gmail</td><td>implantodontista</td><td>IMPLANTODONTISTA</td><td>Implantodontista</td><td>Cia</td></tr>\n",
       "</table>\n",
       "only showing top 20 rows\n"
      ],
      "text/plain": [
       "+--------------------+----------+------+------------+--------------------+--------------------+--------+--------------------+--------------------+--------------------+----------+\n",
       "|               email|     senha|estado|cor_favorita|           profissao|             usuario|provedor|               lower|               upper|primeira_letra_upper|sub_string|\n",
       "+--------------------+----------+------+------------+--------------------+--------------------+--------+--------------------+--------------------+--------------------+----------+\n",
       "|pedro-lucas53@gma...|+7^7E%xFBc|    RR|        Roxo|    Jogador De Golfe|       pedro-lucas53|   gmail|    jogador de golfe|    JOGADOR DE GOLFE|    Jogador De Golfe|       Rox|\n",
       "|rezendeisaac@hotm...|_O_2GRnGOe|    GO|       Ciano|Atleta De Arremes...|        rezendeisaac| hotmail|atleta de arremes...|ATLETA DE ARREMES...|Atleta De Arremes...|       Cia|\n",
       "|felipepires@uol.c...|*Aw5EOAvy9|    MG|        Azul|      Papiloscopista|         felipepires|     uol|      papiloscopista|      PAPILOSCOPISTA|      Papiloscopista|       Azu|\n",
       "|stellamoraes@bol....|mw0AWYAs#s|    AC|      Marrom|            Aeromoça|        stellamoraes|     bol|            aeromoça|            AEROMOÇA|            Aeromoça|       Mar|\n",
       "| wcarvalho@ig.com.br|pGD%!2Pq5X|    AP|     Laranja|       Fonoaudiólogo|           wcarvalho|      ig|       fonoaudiólogo|       FONOAUDIÓLOGO|       Fonoaudiólogo|       Lar|\n",
       "|da-conceicaodavi-...|uhBbFxPA&9|    MG|        Rosa|             Taxista|da-conceicaodavi-...| hotmail|             taxista|             TAXISTA|             Taxista|       Ros|\n",
       "| efreitas@bol.com.br|s#q9VZt&xl|    MG|      Branco|Produtor De Audio...|            efreitas|     bol|produtor de audio...|PRODUTOR DE AUDIO...|Produtor De Audio...|       Bra|\n",
       "|   wnunes@bol.com.br|_8az1W%n7g|    SE|        Azul|          Cadeirinha|              wnunes|     bol|          cadeirinha|          CADEIRINHA|          Cadeirinha|       Azu|\n",
       "| jribeiro@bol.com.br|MEf1X7fj_0|    PA|      Marrom|             Geólogo|            jribeiro|     bol|             geólogo|             GEÓLOGO|             Geólogo|       Mar|\n",
       "|  murilo05@gmail.com|Te&gO7GkKs|    MT|      Marrom|      Técnico De Som|            murilo05|   gmail|      técnico de som|      TÉCNICO DE SOM|      Técnico De Som|       Mar|\n",
       "| joaquim57@ig.com.br|&2E1NY+ARc|    BA|        Rosa|         Esteticista|           joaquim57|      ig|         esteticista|         ESTETICISTA|         Esteticista|       Ros|\n",
       "|alexiada-rocha@ig...|@f@!Z!2c*2|    MS|     Laranja|        Microfonista|      alexiada-rocha|      ig|        microfonista|        MICROFONISTA|        Microfonista|       Lar|\n",
       "|   pmendes@gmail.com|M+^XDBfe(2|    RR| Verde Claro|              Fiscal|             pmendes|   gmail|              fiscal|              FISCAL|              Fiscal|       Ver|\n",
       "|  renan46@bol.com.br|Rp%2pVqfe$|    PA|Verde Escuro|        Contabilista|             renan46|     bol|        contabilista|        CONTABILISTA|        Contabilista|       Ver|\n",
       "|manuelada-rosa@ho...|#hEIEOztQ3|    SE|     Violeta| Seguidor De Compras|      manuelada-rosa| hotmail| seguidor de compras| SEGUIDOR DE COMPRAS| Seguidor De Compras|       Vio|\n",
       "|    usales@ig.com.br|b_8xaY$ozJ|    AM|        Rosa|           Almirante|              usales|      ig|           almirante|           ALMIRANTE|           Almirante|       Ros|\n",
       "|pereiranicolas@ho...|YA9I85Wb+2|    MA|     Amarelo|   Consultor De Moda|      pereiranicolas| hotmail|   consultor de moda|   CONSULTOR DE MODA|   Consultor De Moda|       Ama|\n",
       "|cardosolivia@ig.c...|yXkDW7Ebh*|    GO|     Laranja|            Barbeiro|        cardosolivia|      ig|            barbeiro|            BARBEIRO|            Barbeiro|       Lar|\n",
       "|  brenda39@ig.com.br|XS$84Hpsnw|    RJ|      Branco|  Promotor De Vendas|            brenda39|      ig|  promotor de vendas|  PROMOTOR DE VENDAS|  Promotor De Vendas|       Bra|\n",
       "|luizapeixoto@gmai...|TbKy82Kda$|    DF|       Ciano|    Implantodontista|        luizapeixoto|   gmail|    implantodontista|    IMPLANTODONTISTA|    Implantodontista|       Cia|\n",
       "+--------------------+----------+------+------------+--------------------+--------------------+--------+--------------------+--------------------+--------------------+----------+\n",
       "only showing top 20 rows"
      ]
     },
     "execution_count": 31,
     "metadata": {},
     "output_type": "execute_result"
    }
   ],
   "source": [
    "# podemos pegar um parte do texto tambem\n",
    "(\n",
    "    dfr.withColumn('sub_string', F.substring(F.col('cor_favorita'), 1, 3))\n",
    ")"
   ]
  },
  {
   "cell_type": "code",
   "execution_count": 34,
   "metadata": {},
   "outputs": [
    {
     "name": "stdout",
     "output_type": "stream",
     "text": [
      "+----------------------------------+----------+------+------------+---------------------------+----------------------+--------+---------------------------+---------------------------+---------------------------+-----------------------------------------------------+\n",
      "|email                             |senha     |estado|cor_favorita|profissao                  |usuario               |provedor|lower                      |upper                      |primeira_letra_upper       |format                                               |\n",
      "+----------------------------------+----------+------+------------+---------------------------+----------------------+--------+---------------------------+---------------------------+---------------------------+-----------------------------------------------------+\n",
      "|pedro-lucas53@gmail.com           |+7^7E%xFBc|RR    |Roxo        |Jogador De Golfe           |pedro-lucas53         |gmail   |jogador de golfe           |JOGADOR DE GOLFE           |Jogador De Golfe           |Olá pedro-lucas53, a sua cor favorita é Roxo         |\n",
      "|rezendeisaac@hotmail.com          |_O_2GRnGOe|GO    |Ciano       |Atleta De Arremesso De Peso|rezendeisaac          |hotmail |atleta de arremesso de peso|ATLETA DE ARREMESSO DE PESO|Atleta De Arremesso De Peso|Olá rezendeisaac, a sua cor favorita é Ciano         |\n",
      "|felipepires@uol.com.br            |*Aw5EOAvy9|MG    |Azul        |Papiloscopista             |felipepires           |uol     |papiloscopista             |PAPILOSCOPISTA             |Papiloscopista             |Olá felipepires, a sua cor favorita é Azul           |\n",
      "|stellamoraes@bol.com.br           |mw0AWYAs#s|AC    |Marrom      |Aeromoça                   |stellamoraes          |bol     |aeromoça                   |AEROMOÇA                   |Aeromoça                   |Olá stellamoraes, a sua cor favorita é Marrom        |\n",
      "|wcarvalho@ig.com.br               |pGD%!2Pq5X|AP    |Laranja     |Fonoaudiólogo              |wcarvalho             |ig      |fonoaudiólogo              |FONOAUDIÓLOGO              |Fonoaudiólogo              |Olá wcarvalho, a sua cor favorita é Laranja          |\n",
      "|da-conceicaodavi-lucas@hotmail.com|uhBbFxPA&9|MG    |Rosa        |Taxista                    |da-conceicaodavi-lucas|hotmail |taxista                    |TAXISTA                    |Taxista                    |Olá da-conceicaodavi-lucas, a sua cor favorita é Rosa|\n",
      "|efreitas@bol.com.br               |s#q9VZt&xl|MG    |Branco      |Produtor De Audio Visual   |efreitas              |bol     |produtor de audio visual   |PRODUTOR DE AUDIO VISUAL   |Produtor De Audio Visual   |Olá efreitas, a sua cor favorita é Branco            |\n",
      "|wnunes@bol.com.br                 |_8az1W%n7g|SE    |Azul        |Cadeirinha                 |wnunes                |bol     |cadeirinha                 |CADEIRINHA                 |Cadeirinha                 |Olá wnunes, a sua cor favorita é Azul                |\n",
      "|jribeiro@bol.com.br               |MEf1X7fj_0|PA    |Marrom      |Geólogo                    |jribeiro              |bol     |geólogo                    |GEÓLOGO                    |Geólogo                    |Olá jribeiro, a sua cor favorita é Marrom            |\n",
      "|murilo05@gmail.com                |Te&gO7GkKs|MT    |Marrom      |Técnico De Som             |murilo05              |gmail   |técnico de som             |TÉCNICO DE SOM             |Técnico De Som             |Olá murilo05, a sua cor favorita é Marrom            |\n",
      "|joaquim57@ig.com.br               |&2E1NY+ARc|BA    |Rosa        |Esteticista                |joaquim57             |ig      |esteticista                |ESTETICISTA                |Esteticista                |Olá joaquim57, a sua cor favorita é Rosa             |\n",
      "|alexiada-rocha@ig.com.br          |@f@!Z!2c*2|MS    |Laranja     |Microfonista               |alexiada-rocha        |ig      |microfonista               |MICROFONISTA               |Microfonista               |Olá alexiada-rocha, a sua cor favorita é Laranja     |\n",
      "|pmendes@gmail.com                 |M+^XDBfe(2|RR    |Verde Claro |Fiscal                     |pmendes               |gmail   |fiscal                     |FISCAL                     |Fiscal                     |Olá pmendes, a sua cor favorita é Verde Claro        |\n",
      "|renan46@bol.com.br                |Rp%2pVqfe$|PA    |Verde Escuro|Contabilista               |renan46               |bol     |contabilista               |CONTABILISTA               |Contabilista               |Olá renan46, a sua cor favorita é Verde Escuro       |\n",
      "|manuelada-rosa@hotmail.com        |#hEIEOztQ3|SE    |Violeta     |Seguidor De Compras        |manuelada-rosa        |hotmail |seguidor de compras        |SEGUIDOR DE COMPRAS        |Seguidor De Compras        |Olá manuelada-rosa, a sua cor favorita é Violeta     |\n",
      "|usales@ig.com.br                  |b_8xaY$ozJ|AM    |Rosa        |Almirante                  |usales                |ig      |almirante                  |ALMIRANTE                  |Almirante                  |Olá usales, a sua cor favorita é Rosa                |\n",
      "|pereiranicolas@hotmail.com        |YA9I85Wb+2|MA    |Amarelo     |Consultor De Moda          |pereiranicolas        |hotmail |consultor de moda          |CONSULTOR DE MODA          |Consultor De Moda          |Olá pereiranicolas, a sua cor favorita é Amarelo     |\n",
      "|cardosolivia@ig.com.br            |yXkDW7Ebh*|GO    |Laranja     |Barbeiro                   |cardosolivia          |ig      |barbeiro                   |BARBEIRO                   |Barbeiro                   |Olá cardosolivia, a sua cor favorita é Laranja       |\n",
      "|brenda39@ig.com.br                |XS$84Hpsnw|RJ    |Branco      |Promotor De Vendas         |brenda39              |ig      |promotor de vendas         |PROMOTOR DE VENDAS         |Promotor De Vendas         |Olá brenda39, a sua cor favorita é Branco            |\n",
      "|luizapeixoto@gmail.com            |TbKy82Kda$|DF    |Ciano       |Implantodontista           |luizapeixoto          |gmail   |implantodontista           |IMPLANTODONTISTA           |Implantodontista           |Olá luizapeixoto, a sua cor favorita é Ciano         |\n",
      "+----------------------------------+----------+------+------------+---------------------------+----------------------+--------+---------------------------+---------------------------+---------------------------+-----------------------------------------------------+\n",
      "only showing top 20 rows\n",
      "\n"
     ]
    }
   ],
   "source": [
    "# podemos tambem utilizar formatacao de string dinamicamente\n",
    "dfr = (\n",
    "    dfr.withColumn('format', F.format_string('Olá %s, a sua cor favorita é %s', F.col('usuario'), F.col('cor_favorita')))\n",
    ")\n",
    "\n",
    "dfr.show(20, False)"
   ]
  },
  {
   "cell_type": "code",
   "execution_count": 36,
   "metadata": {},
   "outputs": [
    {
     "data": {
      "text/html": [
       "<table border='1'>\n",
       "<tr><th>email</th><th>senha</th><th>estado</th><th>cor_favorita</th><th>profissao</th><th>usuario</th><th>provedor</th><th>lower</th><th>upper</th><th>primeira_letra_upper</th><th>format</th><th>instr</th></tr>\n",
       "<tr><td>pedro-lucas53@gma...</td><td>+7^7E%xFBc</td><td>RR</td><td>Roxo</td><td>Jogador De Golfe</td><td>pedro-lucas53</td><td>gmail</td><td>jogador de golfe</td><td>JOGADOR DE GOLFE</td><td>Jogador De Golfe</td><td>Ol&aacute; pedro-lucas53...</td><td>14</td></tr>\n",
       "<tr><td>rezendeisaac@hotm...</td><td>_O_2GRnGOe</td><td>GO</td><td>Ciano</td><td>Atleta De Arremes...</td><td>rezendeisaac</td><td>hotmail</td><td>atleta de arremes...</td><td>ATLETA DE ARREMES...</td><td>Atleta De Arremes...</td><td>Ol&aacute; rezendeisaac,...</td><td>13</td></tr>\n",
       "<tr><td>felipepires@uol.c...</td><td>*Aw5EOAvy9</td><td>MG</td><td>Azul</td><td>Papiloscopista</td><td>felipepires</td><td>uol</td><td>papiloscopista</td><td>PAPILOSCOPISTA</td><td>Papiloscopista</td><td>Ol&aacute; felipepires, ...</td><td>12</td></tr>\n",
       "<tr><td>stellamoraes@bol....</td><td>mw0AWYAs#s</td><td>AC</td><td>Marrom</td><td>Aeromo&ccedil;a</td><td>stellamoraes</td><td>bol</td><td>aeromo&ccedil;a</td><td>AEROMO&Ccedil;A</td><td>Aeromo&ccedil;a</td><td>Ol&aacute; stellamoraes,...</td><td>13</td></tr>\n",
       "<tr><td>wcarvalho@ig.com.br</td><td>pGD%!2Pq5X</td><td>AP</td><td>Laranja</td><td>Fonoaudi&oacute;logo</td><td>wcarvalho</td><td>ig</td><td>fonoaudi&oacute;logo</td><td>FONOAUDI&Oacute;LOGO</td><td>Fonoaudi&oacute;logo</td><td>Ol&aacute; wcarvalho, a ...</td><td>10</td></tr>\n",
       "<tr><td>da-conceicaodavi-...</td><td>uhBbFxPA&amp;9</td><td>MG</td><td>Rosa</td><td>Taxista</td><td>da-conceicaodavi-...</td><td>hotmail</td><td>taxista</td><td>TAXISTA</td><td>Taxista</td><td>Ol&aacute; da-conceicaod...</td><td>23</td></tr>\n",
       "<tr><td>efreitas@bol.com.br</td><td>s#q9VZt&amp;xl</td><td>MG</td><td>Branco</td><td>Produtor De Audio...</td><td>efreitas</td><td>bol</td><td>produtor de audio...</td><td>PRODUTOR DE AUDIO...</td><td>Produtor De Audio...</td><td>Ol&aacute; efreitas, a s...</td><td>9</td></tr>\n",
       "<tr><td>wnunes@bol.com.br</td><td>_8az1W%n7g</td><td>SE</td><td>Azul</td><td>Cadeirinha</td><td>wnunes</td><td>bol</td><td>cadeirinha</td><td>CADEIRINHA</td><td>Cadeirinha</td><td>Ol&aacute; wnunes, a sua...</td><td>7</td></tr>\n",
       "<tr><td>jribeiro@bol.com.br</td><td>MEf1X7fj_0</td><td>PA</td><td>Marrom</td><td>Ge&oacute;logo</td><td>jribeiro</td><td>bol</td><td>ge&oacute;logo</td><td>GE&Oacute;LOGO</td><td>Ge&oacute;logo</td><td>Ol&aacute; jribeiro, a s...</td><td>9</td></tr>\n",
       "<tr><td>murilo05@gmail.com</td><td>Te&amp;gO7GkKs</td><td>MT</td><td>Marrom</td><td>T&eacute;cnico De Som</td><td>murilo05</td><td>gmail</td><td>t&eacute;cnico de som</td><td>T&Eacute;CNICO DE SOM</td><td>T&eacute;cnico De Som</td><td>Ol&aacute; murilo05, a s...</td><td>9</td></tr>\n",
       "<tr><td>joaquim57@ig.com.br</td><td>&amp;2E1NY+ARc</td><td>BA</td><td>Rosa</td><td>Esteticista</td><td>joaquim57</td><td>ig</td><td>esteticista</td><td>ESTETICISTA</td><td>Esteticista</td><td>Ol&aacute; joaquim57, a ...</td><td>10</td></tr>\n",
       "<tr><td>alexiada-rocha@ig...</td><td>@f@!Z!2c*2</td><td>MS</td><td>Laranja</td><td>Microfonista</td><td>alexiada-rocha</td><td>ig</td><td>microfonista</td><td>MICROFONISTA</td><td>Microfonista</td><td>Ol&aacute; alexiada-roch...</td><td>15</td></tr>\n",
       "<tr><td>pmendes@gmail.com</td><td>M+^XDBfe(2</td><td>RR</td><td>Verde Claro</td><td>Fiscal</td><td>pmendes</td><td>gmail</td><td>fiscal</td><td>FISCAL</td><td>Fiscal</td><td>Ol&aacute; pmendes, a su...</td><td>8</td></tr>\n",
       "<tr><td>renan46@bol.com.br</td><td>Rp%2pVqfe$</td><td>PA</td><td>Verde Escuro</td><td>Contabilista</td><td>renan46</td><td>bol</td><td>contabilista</td><td>CONTABILISTA</td><td>Contabilista</td><td>Ol&aacute; renan46, a su...</td><td>8</td></tr>\n",
       "<tr><td>manuelada-rosa@ho...</td><td>#hEIEOztQ3</td><td>SE</td><td>Violeta</td><td>Seguidor De Compras</td><td>manuelada-rosa</td><td>hotmail</td><td>seguidor de compras</td><td>SEGUIDOR DE COMPRAS</td><td>Seguidor De Compras</td><td>Ol&aacute; manuelada-ros...</td><td>15</td></tr>\n",
       "<tr><td>usales@ig.com.br</td><td>b_8xaY$ozJ</td><td>AM</td><td>Rosa</td><td>Almirante</td><td>usales</td><td>ig</td><td>almirante</td><td>ALMIRANTE</td><td>Almirante</td><td>Ol&aacute; usales, a sua...</td><td>7</td></tr>\n",
       "<tr><td>pereiranicolas@ho...</td><td>YA9I85Wb+2</td><td>MA</td><td>Amarelo</td><td>Consultor De Moda</td><td>pereiranicolas</td><td>hotmail</td><td>consultor de moda</td><td>CONSULTOR DE MODA</td><td>Consultor De Moda</td><td>Ol&aacute; pereiranicola...</td><td>15</td></tr>\n",
       "<tr><td>cardosolivia@ig.c...</td><td>yXkDW7Ebh*</td><td>GO</td><td>Laranja</td><td>Barbeiro</td><td>cardosolivia</td><td>ig</td><td>barbeiro</td><td>BARBEIRO</td><td>Barbeiro</td><td>Ol&aacute; cardosolivia,...</td><td>13</td></tr>\n",
       "<tr><td>brenda39@ig.com.br</td><td>XS$84Hpsnw</td><td>RJ</td><td>Branco</td><td>Promotor De Vendas</td><td>brenda39</td><td>ig</td><td>promotor de vendas</td><td>PROMOTOR DE VENDAS</td><td>Promotor De Vendas</td><td>Ol&aacute; brenda39, a s...</td><td>9</td></tr>\n",
       "<tr><td>luizapeixoto@gmai...</td><td>TbKy82Kda$</td><td>DF</td><td>Ciano</td><td>Implantodontista</td><td>luizapeixoto</td><td>gmail</td><td>implantodontista</td><td>IMPLANTODONTISTA</td><td>Implantodontista</td><td>Ol&aacute; luizapeixoto,...</td><td>13</td></tr>\n",
       "</table>\n",
       "only showing top 20 rows\n"
      ],
      "text/plain": [
       "+--------------------+----------+------+------------+--------------------+--------------------+--------+--------------------+--------------------+--------------------+--------------------+-----+\n",
       "|               email|     senha|estado|cor_favorita|           profissao|             usuario|provedor|               lower|               upper|primeira_letra_upper|              format|instr|\n",
       "+--------------------+----------+------+------------+--------------------+--------------------+--------+--------------------+--------------------+--------------------+--------------------+-----+\n",
       "|pedro-lucas53@gma...|+7^7E%xFBc|    RR|        Roxo|    Jogador De Golfe|       pedro-lucas53|   gmail|    jogador de golfe|    JOGADOR DE GOLFE|    Jogador De Golfe|Olá pedro-lucas53...|   14|\n",
       "|rezendeisaac@hotm...|_O_2GRnGOe|    GO|       Ciano|Atleta De Arremes...|        rezendeisaac| hotmail|atleta de arremes...|ATLETA DE ARREMES...|Atleta De Arremes...|Olá rezendeisaac,...|   13|\n",
       "|felipepires@uol.c...|*Aw5EOAvy9|    MG|        Azul|      Papiloscopista|         felipepires|     uol|      papiloscopista|      PAPILOSCOPISTA|      Papiloscopista|Olá felipepires, ...|   12|\n",
       "|stellamoraes@bol....|mw0AWYAs#s|    AC|      Marrom|            Aeromoça|        stellamoraes|     bol|            aeromoça|            AEROMOÇA|            Aeromoça|Olá stellamoraes,...|   13|\n",
       "| wcarvalho@ig.com.br|pGD%!2Pq5X|    AP|     Laranja|       Fonoaudiólogo|           wcarvalho|      ig|       fonoaudiólogo|       FONOAUDIÓLOGO|       Fonoaudiólogo|Olá wcarvalho, a ...|   10|\n",
       "|da-conceicaodavi-...|uhBbFxPA&9|    MG|        Rosa|             Taxista|da-conceicaodavi-...| hotmail|             taxista|             TAXISTA|             Taxista|Olá da-conceicaod...|   23|\n",
       "| efreitas@bol.com.br|s#q9VZt&xl|    MG|      Branco|Produtor De Audio...|            efreitas|     bol|produtor de audio...|PRODUTOR DE AUDIO...|Produtor De Audio...|Olá efreitas, a s...|    9|\n",
       "|   wnunes@bol.com.br|_8az1W%n7g|    SE|        Azul|          Cadeirinha|              wnunes|     bol|          cadeirinha|          CADEIRINHA|          Cadeirinha|Olá wnunes, a sua...|    7|\n",
       "| jribeiro@bol.com.br|MEf1X7fj_0|    PA|      Marrom|             Geólogo|            jribeiro|     bol|             geólogo|             GEÓLOGO|             Geólogo|Olá jribeiro, a s...|    9|\n",
       "|  murilo05@gmail.com|Te&gO7GkKs|    MT|      Marrom|      Técnico De Som|            murilo05|   gmail|      técnico de som|      TÉCNICO DE SOM|      Técnico De Som|Olá murilo05, a s...|    9|\n",
       "| joaquim57@ig.com.br|&2E1NY+ARc|    BA|        Rosa|         Esteticista|           joaquim57|      ig|         esteticista|         ESTETICISTA|         Esteticista|Olá joaquim57, a ...|   10|\n",
       "|alexiada-rocha@ig...|@f@!Z!2c*2|    MS|     Laranja|        Microfonista|      alexiada-rocha|      ig|        microfonista|        MICROFONISTA|        Microfonista|Olá alexiada-roch...|   15|\n",
       "|   pmendes@gmail.com|M+^XDBfe(2|    RR| Verde Claro|              Fiscal|             pmendes|   gmail|              fiscal|              FISCAL|              Fiscal|Olá pmendes, a su...|    8|\n",
       "|  renan46@bol.com.br|Rp%2pVqfe$|    PA|Verde Escuro|        Contabilista|             renan46|     bol|        contabilista|        CONTABILISTA|        Contabilista|Olá renan46, a su...|    8|\n",
       "|manuelada-rosa@ho...|#hEIEOztQ3|    SE|     Violeta| Seguidor De Compras|      manuelada-rosa| hotmail| seguidor de compras| SEGUIDOR DE COMPRAS| Seguidor De Compras|Olá manuelada-ros...|   15|\n",
       "|    usales@ig.com.br|b_8xaY$ozJ|    AM|        Rosa|           Almirante|              usales|      ig|           almirante|           ALMIRANTE|           Almirante|Olá usales, a sua...|    7|\n",
       "|pereiranicolas@ho...|YA9I85Wb+2|    MA|     Amarelo|   Consultor De Moda|      pereiranicolas| hotmail|   consultor de moda|   CONSULTOR DE MODA|   Consultor De Moda|Olá pereiranicola...|   15|\n",
       "|cardosolivia@ig.c...|yXkDW7Ebh*|    GO|     Laranja|            Barbeiro|        cardosolivia|      ig|            barbeiro|            BARBEIRO|            Barbeiro|Olá cardosolivia,...|   13|\n",
       "|  brenda39@ig.com.br|XS$84Hpsnw|    RJ|      Branco|  Promotor De Vendas|            brenda39|      ig|  promotor de vendas|  PROMOTOR DE VENDAS|  Promotor De Vendas|Olá brenda39, a s...|    9|\n",
       "|luizapeixoto@gmai...|TbKy82Kda$|    DF|       Ciano|    Implantodontista|        luizapeixoto|   gmail|    implantodontista|    IMPLANTODONTISTA|    Implantodontista|Olá luizapeixoto,...|   13|\n",
       "+--------------------+----------+------+------------+--------------------+--------------------+--------+--------------------+--------------------+--------------------+--------------------+-----+\n",
       "only showing top 20 rows"
      ]
     },
     "execution_count": 36,
     "metadata": {},
     "output_type": "execute_result"
    }
   ],
   "source": [
    "# podemos localizar o posicionamento de um caracter dentro do seu conjunto de string\n",
    "(\n",
    "    dfr.withColumn('instr', F.instr(F.col('email'), '@'))\n",
    ")"
   ]
  },
  {
   "cell_type": "code",
   "execution_count": 39,
   "metadata": {},
   "outputs": [
    {
     "data": {
      "text/html": [
       "<table border='1'>\n",
       "<tr><th>email</th><th>senha</th><th>estado</th><th>cor_favorita</th><th>profissao</th><th>usuario</th><th>provedor</th><th>lower</th><th>upper</th><th>primeira_letra_upper</th><th>format</th><th>length</th></tr>\n",
       "<tr><td>pedro-lucas53@gma...</td><td>+7^7E%xFBc</td><td>RR</td><td>Roxo</td><td>Jogador De Golfe</td><td>pedro-lucas53</td><td>gmail</td><td>jogador de golfe</td><td>JOGADOR DE GOLFE</td><td>Jogador De Golfe</td><td>Ol&aacute; pedro-lucas53...</td><td>23</td></tr>\n",
       "<tr><td>rezendeisaac@hotm...</td><td>_O_2GRnGOe</td><td>GO</td><td>Ciano</td><td>Atleta De Arremes...</td><td>rezendeisaac</td><td>hotmail</td><td>atleta de arremes...</td><td>ATLETA DE ARREMES...</td><td>Atleta De Arremes...</td><td>Ol&aacute; rezendeisaac,...</td><td>24</td></tr>\n",
       "<tr><td>felipepires@uol.c...</td><td>*Aw5EOAvy9</td><td>MG</td><td>Azul</td><td>Papiloscopista</td><td>felipepires</td><td>uol</td><td>papiloscopista</td><td>PAPILOSCOPISTA</td><td>Papiloscopista</td><td>Ol&aacute; felipepires, ...</td><td>22</td></tr>\n",
       "<tr><td>stellamoraes@bol....</td><td>mw0AWYAs#s</td><td>AC</td><td>Marrom</td><td>Aeromo&ccedil;a</td><td>stellamoraes</td><td>bol</td><td>aeromo&ccedil;a</td><td>AEROMO&Ccedil;A</td><td>Aeromo&ccedil;a</td><td>Ol&aacute; stellamoraes,...</td><td>23</td></tr>\n",
       "<tr><td>wcarvalho@ig.com.br</td><td>pGD%!2Pq5X</td><td>AP</td><td>Laranja</td><td>Fonoaudi&oacute;logo</td><td>wcarvalho</td><td>ig</td><td>fonoaudi&oacute;logo</td><td>FONOAUDI&Oacute;LOGO</td><td>Fonoaudi&oacute;logo</td><td>Ol&aacute; wcarvalho, a ...</td><td>19</td></tr>\n",
       "<tr><td>da-conceicaodavi-...</td><td>uhBbFxPA&amp;9</td><td>MG</td><td>Rosa</td><td>Taxista</td><td>da-conceicaodavi-...</td><td>hotmail</td><td>taxista</td><td>TAXISTA</td><td>Taxista</td><td>Ol&aacute; da-conceicaod...</td><td>34</td></tr>\n",
       "<tr><td>efreitas@bol.com.br</td><td>s#q9VZt&amp;xl</td><td>MG</td><td>Branco</td><td>Produtor De Audio...</td><td>efreitas</td><td>bol</td><td>produtor de audio...</td><td>PRODUTOR DE AUDIO...</td><td>Produtor De Audio...</td><td>Ol&aacute; efreitas, a s...</td><td>19</td></tr>\n",
       "<tr><td>wnunes@bol.com.br</td><td>_8az1W%n7g</td><td>SE</td><td>Azul</td><td>Cadeirinha</td><td>wnunes</td><td>bol</td><td>cadeirinha</td><td>CADEIRINHA</td><td>Cadeirinha</td><td>Ol&aacute; wnunes, a sua...</td><td>17</td></tr>\n",
       "<tr><td>jribeiro@bol.com.br</td><td>MEf1X7fj_0</td><td>PA</td><td>Marrom</td><td>Ge&oacute;logo</td><td>jribeiro</td><td>bol</td><td>ge&oacute;logo</td><td>GE&Oacute;LOGO</td><td>Ge&oacute;logo</td><td>Ol&aacute; jribeiro, a s...</td><td>19</td></tr>\n",
       "<tr><td>murilo05@gmail.com</td><td>Te&amp;gO7GkKs</td><td>MT</td><td>Marrom</td><td>T&eacute;cnico De Som</td><td>murilo05</td><td>gmail</td><td>t&eacute;cnico de som</td><td>T&Eacute;CNICO DE SOM</td><td>T&eacute;cnico De Som</td><td>Ol&aacute; murilo05, a s...</td><td>18</td></tr>\n",
       "<tr><td>joaquim57@ig.com.br</td><td>&amp;2E1NY+ARc</td><td>BA</td><td>Rosa</td><td>Esteticista</td><td>joaquim57</td><td>ig</td><td>esteticista</td><td>ESTETICISTA</td><td>Esteticista</td><td>Ol&aacute; joaquim57, a ...</td><td>19</td></tr>\n",
       "<tr><td>alexiada-rocha@ig...</td><td>@f@!Z!2c*2</td><td>MS</td><td>Laranja</td><td>Microfonista</td><td>alexiada-rocha</td><td>ig</td><td>microfonista</td><td>MICROFONISTA</td><td>Microfonista</td><td>Ol&aacute; alexiada-roch...</td><td>24</td></tr>\n",
       "<tr><td>pmendes@gmail.com</td><td>M+^XDBfe(2</td><td>RR</td><td>Verde Claro</td><td>Fiscal</td><td>pmendes</td><td>gmail</td><td>fiscal</td><td>FISCAL</td><td>Fiscal</td><td>Ol&aacute; pmendes, a su...</td><td>17</td></tr>\n",
       "<tr><td>renan46@bol.com.br</td><td>Rp%2pVqfe$</td><td>PA</td><td>Verde Escuro</td><td>Contabilista</td><td>renan46</td><td>bol</td><td>contabilista</td><td>CONTABILISTA</td><td>Contabilista</td><td>Ol&aacute; renan46, a su...</td><td>18</td></tr>\n",
       "<tr><td>manuelada-rosa@ho...</td><td>#hEIEOztQ3</td><td>SE</td><td>Violeta</td><td>Seguidor De Compras</td><td>manuelada-rosa</td><td>hotmail</td><td>seguidor de compras</td><td>SEGUIDOR DE COMPRAS</td><td>Seguidor De Compras</td><td>Ol&aacute; manuelada-ros...</td><td>26</td></tr>\n",
       "<tr><td>usales@ig.com.br</td><td>b_8xaY$ozJ</td><td>AM</td><td>Rosa</td><td>Almirante</td><td>usales</td><td>ig</td><td>almirante</td><td>ALMIRANTE</td><td>Almirante</td><td>Ol&aacute; usales, a sua...</td><td>16</td></tr>\n",
       "<tr><td>pereiranicolas@ho...</td><td>YA9I85Wb+2</td><td>MA</td><td>Amarelo</td><td>Consultor De Moda</td><td>pereiranicolas</td><td>hotmail</td><td>consultor de moda</td><td>CONSULTOR DE MODA</td><td>Consultor De Moda</td><td>Ol&aacute; pereiranicola...</td><td>26</td></tr>\n",
       "<tr><td>cardosolivia@ig.c...</td><td>yXkDW7Ebh*</td><td>GO</td><td>Laranja</td><td>Barbeiro</td><td>cardosolivia</td><td>ig</td><td>barbeiro</td><td>BARBEIRO</td><td>Barbeiro</td><td>Ol&aacute; cardosolivia,...</td><td>22</td></tr>\n",
       "<tr><td>brenda39@ig.com.br</td><td>XS$84Hpsnw</td><td>RJ</td><td>Branco</td><td>Promotor De Vendas</td><td>brenda39</td><td>ig</td><td>promotor de vendas</td><td>PROMOTOR DE VENDAS</td><td>Promotor De Vendas</td><td>Ol&aacute; brenda39, a s...</td><td>18</td></tr>\n",
       "<tr><td>luizapeixoto@gmai...</td><td>TbKy82Kda$</td><td>DF</td><td>Ciano</td><td>Implantodontista</td><td>luizapeixoto</td><td>gmail</td><td>implantodontista</td><td>IMPLANTODONTISTA</td><td>Implantodontista</td><td>Ol&aacute; luizapeixoto,...</td><td>22</td></tr>\n",
       "</table>\n",
       "only showing top 20 rows\n"
      ],
      "text/plain": [
       "+--------------------+----------+------+------------+--------------------+--------------------+--------+--------------------+--------------------+--------------------+--------------------+------+\n",
       "|               email|     senha|estado|cor_favorita|           profissao|             usuario|provedor|               lower|               upper|primeira_letra_upper|              format|length|\n",
       "+--------------------+----------+------+------------+--------------------+--------------------+--------+--------------------+--------------------+--------------------+--------------------+------+\n",
       "|pedro-lucas53@gma...|+7^7E%xFBc|    RR|        Roxo|    Jogador De Golfe|       pedro-lucas53|   gmail|    jogador de golfe|    JOGADOR DE GOLFE|    Jogador De Golfe|Olá pedro-lucas53...|    23|\n",
       "|rezendeisaac@hotm...|_O_2GRnGOe|    GO|       Ciano|Atleta De Arremes...|        rezendeisaac| hotmail|atleta de arremes...|ATLETA DE ARREMES...|Atleta De Arremes...|Olá rezendeisaac,...|    24|\n",
       "|felipepires@uol.c...|*Aw5EOAvy9|    MG|        Azul|      Papiloscopista|         felipepires|     uol|      papiloscopista|      PAPILOSCOPISTA|      Papiloscopista|Olá felipepires, ...|    22|\n",
       "|stellamoraes@bol....|mw0AWYAs#s|    AC|      Marrom|            Aeromoça|        stellamoraes|     bol|            aeromoça|            AEROMOÇA|            Aeromoça|Olá stellamoraes,...|    23|\n",
       "| wcarvalho@ig.com.br|pGD%!2Pq5X|    AP|     Laranja|       Fonoaudiólogo|           wcarvalho|      ig|       fonoaudiólogo|       FONOAUDIÓLOGO|       Fonoaudiólogo|Olá wcarvalho, a ...|    19|\n",
       "|da-conceicaodavi-...|uhBbFxPA&9|    MG|        Rosa|             Taxista|da-conceicaodavi-...| hotmail|             taxista|             TAXISTA|             Taxista|Olá da-conceicaod...|    34|\n",
       "| efreitas@bol.com.br|s#q9VZt&xl|    MG|      Branco|Produtor De Audio...|            efreitas|     bol|produtor de audio...|PRODUTOR DE AUDIO...|Produtor De Audio...|Olá efreitas, a s...|    19|\n",
       "|   wnunes@bol.com.br|_8az1W%n7g|    SE|        Azul|          Cadeirinha|              wnunes|     bol|          cadeirinha|          CADEIRINHA|          Cadeirinha|Olá wnunes, a sua...|    17|\n",
       "| jribeiro@bol.com.br|MEf1X7fj_0|    PA|      Marrom|             Geólogo|            jribeiro|     bol|             geólogo|             GEÓLOGO|             Geólogo|Olá jribeiro, a s...|    19|\n",
       "|  murilo05@gmail.com|Te&gO7GkKs|    MT|      Marrom|      Técnico De Som|            murilo05|   gmail|      técnico de som|      TÉCNICO DE SOM|      Técnico De Som|Olá murilo05, a s...|    18|\n",
       "| joaquim57@ig.com.br|&2E1NY+ARc|    BA|        Rosa|         Esteticista|           joaquim57|      ig|         esteticista|         ESTETICISTA|         Esteticista|Olá joaquim57, a ...|    19|\n",
       "|alexiada-rocha@ig...|@f@!Z!2c*2|    MS|     Laranja|        Microfonista|      alexiada-rocha|      ig|        microfonista|        MICROFONISTA|        Microfonista|Olá alexiada-roch...|    24|\n",
       "|   pmendes@gmail.com|M+^XDBfe(2|    RR| Verde Claro|              Fiscal|             pmendes|   gmail|              fiscal|              FISCAL|              Fiscal|Olá pmendes, a su...|    17|\n",
       "|  renan46@bol.com.br|Rp%2pVqfe$|    PA|Verde Escuro|        Contabilista|             renan46|     bol|        contabilista|        CONTABILISTA|        Contabilista|Olá renan46, a su...|    18|\n",
       "|manuelada-rosa@ho...|#hEIEOztQ3|    SE|     Violeta| Seguidor De Compras|      manuelada-rosa| hotmail| seguidor de compras| SEGUIDOR DE COMPRAS| Seguidor De Compras|Olá manuelada-ros...|    26|\n",
       "|    usales@ig.com.br|b_8xaY$ozJ|    AM|        Rosa|           Almirante|              usales|      ig|           almirante|           ALMIRANTE|           Almirante|Olá usales, a sua...|    16|\n",
       "|pereiranicolas@ho...|YA9I85Wb+2|    MA|     Amarelo|   Consultor De Moda|      pereiranicolas| hotmail|   consultor de moda|   CONSULTOR DE MODA|   Consultor De Moda|Olá pereiranicola...|    26|\n",
       "|cardosolivia@ig.c...|yXkDW7Ebh*|    GO|     Laranja|            Barbeiro|        cardosolivia|      ig|            barbeiro|            BARBEIRO|            Barbeiro|Olá cardosolivia,...|    22|\n",
       "|  brenda39@ig.com.br|XS$84Hpsnw|    RJ|      Branco|  Promotor De Vendas|            brenda39|      ig|  promotor de vendas|  PROMOTOR DE VENDAS|  Promotor De Vendas|Olá brenda39, a s...|    18|\n",
       "|luizapeixoto@gmai...|TbKy82Kda$|    DF|       Ciano|    Implantodontista|        luizapeixoto|   gmail|    implantodontista|    IMPLANTODONTISTA|    Implantodontista|Olá luizapeixoto,...|    22|\n",
       "+--------------------+----------+------+------------+--------------------+--------------------+--------+--------------------+--------------------+--------------------+--------------------+------+\n",
       "only showing top 20 rows"
      ]
     },
     "execution_count": 39,
     "metadata": {},
     "output_type": "execute_result"
    }
   ],
   "source": [
    "# podemos saber o tamanho de um conjunto de string\n",
    "(\n",
    "    dfr.withColumn('length', F.length(F.col('email')))\n",
    ")"
   ]
  },
  {
   "cell_type": "code",
   "execution_count": 43,
   "metadata": {},
   "outputs": [
    {
     "name": "stdout",
     "output_type": "stream",
     "text": [
      "+----------------------------------+----------+------+------------+---------------------------+----------------------+--------+---------------------------+---------------------------+---------------------------+-----------------------------------------------------+-----------------+----------+\n",
      "|email                             |senha     |estado|cor_favorita|profissao                  |usuario               |provedor|lower                      |upper                      |primeira_letra_upper       |format                                               |concat           |trim      |\n",
      "+----------------------------------+----------+------+------------+---------------------------+----------------------+--------+---------------------------+---------------------------+---------------------------+-----------------------------------------------------+-----------------+----------+\n",
      "|pedro-lucas53@gmail.com           |+7^7E%xFBc|RR    |Roxo        |Jogador De Golfe           |pedro-lucas53         |gmail   |jogador de golfe           |JOGADOR DE GOLFE           |Jogador De Golfe           |Olá pedro-lucas53, a sua cor favorita é Roxo         |    +7^7E%xFBc   |+7^7E%xFBc|\n",
      "|rezendeisaac@hotmail.com          |_O_2GRnGOe|GO    |Ciano       |Atleta De Arremesso De Peso|rezendeisaac          |hotmail |atleta de arremesso de peso|ATLETA DE ARREMESSO DE PESO|Atleta De Arremesso De Peso|Olá rezendeisaac, a sua cor favorita é Ciano         |    _O_2GRnGOe   |_O_2GRnGOe|\n",
      "|felipepires@uol.com.br            |*Aw5EOAvy9|MG    |Azul        |Papiloscopista             |felipepires           |uol     |papiloscopista             |PAPILOSCOPISTA             |Papiloscopista             |Olá felipepires, a sua cor favorita é Azul           |    *Aw5EOAvy9   |*Aw5EOAvy9|\n",
      "|stellamoraes@bol.com.br           |mw0AWYAs#s|AC    |Marrom      |Aeromoça                   |stellamoraes          |bol     |aeromoça                   |AEROMOÇA                   |Aeromoça                   |Olá stellamoraes, a sua cor favorita é Marrom        |    mw0AWYAs#s   |mw0AWYAs#s|\n",
      "|wcarvalho@ig.com.br               |pGD%!2Pq5X|AP    |Laranja     |Fonoaudiólogo              |wcarvalho             |ig      |fonoaudiólogo              |FONOAUDIÓLOGO              |Fonoaudiólogo              |Olá wcarvalho, a sua cor favorita é Laranja          |    pGD%!2Pq5X   |pGD%!2Pq5X|\n",
      "|da-conceicaodavi-lucas@hotmail.com|uhBbFxPA&9|MG    |Rosa        |Taxista                    |da-conceicaodavi-lucas|hotmail |taxista                    |TAXISTA                    |Taxista                    |Olá da-conceicaodavi-lucas, a sua cor favorita é Rosa|    uhBbFxPA&9   |uhBbFxPA&9|\n",
      "|efreitas@bol.com.br               |s#q9VZt&xl|MG    |Branco      |Produtor De Audio Visual   |efreitas              |bol     |produtor de audio visual   |PRODUTOR DE AUDIO VISUAL   |Produtor De Audio Visual   |Olá efreitas, a sua cor favorita é Branco            |    s#q9VZt&xl   |s#q9VZt&xl|\n",
      "|wnunes@bol.com.br                 |_8az1W%n7g|SE    |Azul        |Cadeirinha                 |wnunes                |bol     |cadeirinha                 |CADEIRINHA                 |Cadeirinha                 |Olá wnunes, a sua cor favorita é Azul                |    _8az1W%n7g   |_8az1W%n7g|\n",
      "|jribeiro@bol.com.br               |MEf1X7fj_0|PA    |Marrom      |Geólogo                    |jribeiro              |bol     |geólogo                    |GEÓLOGO                    |Geólogo                    |Olá jribeiro, a sua cor favorita é Marrom            |    MEf1X7fj_0   |MEf1X7fj_0|\n",
      "|murilo05@gmail.com                |Te&gO7GkKs|MT    |Marrom      |Técnico De Som             |murilo05              |gmail   |técnico de som             |TÉCNICO DE SOM             |Técnico De Som             |Olá murilo05, a sua cor favorita é Marrom            |    Te&gO7GkKs   |Te&gO7GkKs|\n",
      "|joaquim57@ig.com.br               |&2E1NY+ARc|BA    |Rosa        |Esteticista                |joaquim57             |ig      |esteticista                |ESTETICISTA                |Esteticista                |Olá joaquim57, a sua cor favorita é Rosa             |    &2E1NY+ARc   |&2E1NY+ARc|\n",
      "|alexiada-rocha@ig.com.br          |@f@!Z!2c*2|MS    |Laranja     |Microfonista               |alexiada-rocha        |ig      |microfonista               |MICROFONISTA               |Microfonista               |Olá alexiada-rocha, a sua cor favorita é Laranja     |    @f@!Z!2c*2   |@f@!Z!2c*2|\n",
      "|pmendes@gmail.com                 |M+^XDBfe(2|RR    |Verde Claro |Fiscal                     |pmendes               |gmail   |fiscal                     |FISCAL                     |Fiscal                     |Olá pmendes, a sua cor favorita é Verde Claro        |    M+^XDBfe(2   |M+^XDBfe(2|\n",
      "|renan46@bol.com.br                |Rp%2pVqfe$|PA    |Verde Escuro|Contabilista               |renan46               |bol     |contabilista               |CONTABILISTA               |Contabilista               |Olá renan46, a sua cor favorita é Verde Escuro       |    Rp%2pVqfe$   |Rp%2pVqfe$|\n",
      "|manuelada-rosa@hotmail.com        |#hEIEOztQ3|SE    |Violeta     |Seguidor De Compras        |manuelada-rosa        |hotmail |seguidor de compras        |SEGUIDOR DE COMPRAS        |Seguidor De Compras        |Olá manuelada-rosa, a sua cor favorita é Violeta     |    #hEIEOztQ3   |#hEIEOztQ3|\n",
      "|usales@ig.com.br                  |b_8xaY$ozJ|AM    |Rosa        |Almirante                  |usales                |ig      |almirante                  |ALMIRANTE                  |Almirante                  |Olá usales, a sua cor favorita é Rosa                |    b_8xaY$ozJ   |b_8xaY$ozJ|\n",
      "|pereiranicolas@hotmail.com        |YA9I85Wb+2|MA    |Amarelo     |Consultor De Moda          |pereiranicolas        |hotmail |consultor de moda          |CONSULTOR DE MODA          |Consultor De Moda          |Olá pereiranicolas, a sua cor favorita é Amarelo     |    YA9I85Wb+2   |YA9I85Wb+2|\n",
      "|cardosolivia@ig.com.br            |yXkDW7Ebh*|GO    |Laranja     |Barbeiro                   |cardosolivia          |ig      |barbeiro                   |BARBEIRO                   |Barbeiro                   |Olá cardosolivia, a sua cor favorita é Laranja       |    yXkDW7Ebh*   |yXkDW7Ebh*|\n",
      "|brenda39@ig.com.br                |XS$84Hpsnw|RJ    |Branco      |Promotor De Vendas         |brenda39              |ig      |promotor de vendas         |PROMOTOR DE VENDAS         |Promotor De Vendas         |Olá brenda39, a sua cor favorita é Branco            |    XS$84Hpsnw   |XS$84Hpsnw|\n",
      "|luizapeixoto@gmail.com            |TbKy82Kda$|DF    |Ciano       |Implantodontista           |luizapeixoto          |gmail   |implantodontista           |IMPLANTODONTISTA           |Implantodontista           |Olá luizapeixoto, a sua cor favorita é Ciano         |    TbKy82Kda$   |TbKy82Kda$|\n",
      "+----------------------------------+----------+------+------------+---------------------------+----------------------+--------+---------------------------+---------------------------+---------------------------+-----------------------------------------------------+-----------------+----------+\n",
      "only showing top 20 rows\n",
      "\n"
     ]
    }
   ],
   "source": [
    "# podemos fazer as limpezas dos espaços de uma string com o comando trim\n",
    "(\n",
    "    dfr\n",
    "    .withColumn('concat', F.concat(F.lit('    '), F.col('senha'), F.lit('   ')))\n",
    "    .withColumn('trim', F.trim(F.col('concat')))\n",
    "    .show(20, False)\n",
    ")"
   ]
  },
  {
   "cell_type": "code",
   "execution_count": 48,
   "metadata": {},
   "outputs": [
    {
     "data": {
      "text/html": [
       "<table border='1'>\n",
       "<tr><th>email</th><th>senha</th><th>estado</th><th>cor_favorita</th><th>profissao</th><th>usuario</th><th>provedor</th><th>lower</th><th>upper</th><th>primeira_letra_upper</th><th>format</th><th>rpad</th></tr>\n",
       "<tr><td>pedro-lucas53@gma...</td><td>+7^7E%xFBc</td><td>RR</td><td>Roxo</td><td>Jogador De Golfe</td><td>pedro-lucas53</td><td>gmail</td><td>jogador de golfe</td><td>JOGADOR DE GOLFE</td><td>Jogador De Golfe</td><td>Ol&aacute; pedro-lucas53...</td><td>Roxo&lt;&lt;&lt;&lt;&lt;&lt;</td></tr>\n",
       "<tr><td>rezendeisaac@hotm...</td><td>_O_2GRnGOe</td><td>GO</td><td>Ciano</td><td>Atleta De Arremes...</td><td>rezendeisaac</td><td>hotmail</td><td>atleta de arremes...</td><td>ATLETA DE ARREMES...</td><td>Atleta De Arremes...</td><td>Ol&aacute; rezendeisaac,...</td><td>Ciano&lt;&lt;&lt;&lt;&lt;</td></tr>\n",
       "<tr><td>felipepires@uol.c...</td><td>*Aw5EOAvy9</td><td>MG</td><td>Azul</td><td>Papiloscopista</td><td>felipepires</td><td>uol</td><td>papiloscopista</td><td>PAPILOSCOPISTA</td><td>Papiloscopista</td><td>Ol&aacute; felipepires, ...</td><td>Azul&lt;&lt;&lt;&lt;&lt;&lt;</td></tr>\n",
       "<tr><td>stellamoraes@bol....</td><td>mw0AWYAs#s</td><td>AC</td><td>Marrom</td><td>Aeromo&ccedil;a</td><td>stellamoraes</td><td>bol</td><td>aeromo&ccedil;a</td><td>AEROMO&Ccedil;A</td><td>Aeromo&ccedil;a</td><td>Ol&aacute; stellamoraes,...</td><td>Marrom&lt;&lt;&lt;&lt;</td></tr>\n",
       "<tr><td>wcarvalho@ig.com.br</td><td>pGD%!2Pq5X</td><td>AP</td><td>Laranja</td><td>Fonoaudi&oacute;logo</td><td>wcarvalho</td><td>ig</td><td>fonoaudi&oacute;logo</td><td>FONOAUDI&Oacute;LOGO</td><td>Fonoaudi&oacute;logo</td><td>Ol&aacute; wcarvalho, a ...</td><td>Laranja&lt;&lt;&lt;</td></tr>\n",
       "<tr><td>da-conceicaodavi-...</td><td>uhBbFxPA&amp;9</td><td>MG</td><td>Rosa</td><td>Taxista</td><td>da-conceicaodavi-...</td><td>hotmail</td><td>taxista</td><td>TAXISTA</td><td>Taxista</td><td>Ol&aacute; da-conceicaod...</td><td>Rosa&lt;&lt;&lt;&lt;&lt;&lt;</td></tr>\n",
       "<tr><td>efreitas@bol.com.br</td><td>s#q9VZt&amp;xl</td><td>MG</td><td>Branco</td><td>Produtor De Audio...</td><td>efreitas</td><td>bol</td><td>produtor de audio...</td><td>PRODUTOR DE AUDIO...</td><td>Produtor De Audio...</td><td>Ol&aacute; efreitas, a s...</td><td>Branco&lt;&lt;&lt;&lt;</td></tr>\n",
       "<tr><td>wnunes@bol.com.br</td><td>_8az1W%n7g</td><td>SE</td><td>Azul</td><td>Cadeirinha</td><td>wnunes</td><td>bol</td><td>cadeirinha</td><td>CADEIRINHA</td><td>Cadeirinha</td><td>Ol&aacute; wnunes, a sua...</td><td>Azul&lt;&lt;&lt;&lt;&lt;&lt;</td></tr>\n",
       "<tr><td>jribeiro@bol.com.br</td><td>MEf1X7fj_0</td><td>PA</td><td>Marrom</td><td>Ge&oacute;logo</td><td>jribeiro</td><td>bol</td><td>ge&oacute;logo</td><td>GE&Oacute;LOGO</td><td>Ge&oacute;logo</td><td>Ol&aacute; jribeiro, a s...</td><td>Marrom&lt;&lt;&lt;&lt;</td></tr>\n",
       "<tr><td>murilo05@gmail.com</td><td>Te&amp;gO7GkKs</td><td>MT</td><td>Marrom</td><td>T&eacute;cnico De Som</td><td>murilo05</td><td>gmail</td><td>t&eacute;cnico de som</td><td>T&Eacute;CNICO DE SOM</td><td>T&eacute;cnico De Som</td><td>Ol&aacute; murilo05, a s...</td><td>Marrom&lt;&lt;&lt;&lt;</td></tr>\n",
       "<tr><td>joaquim57@ig.com.br</td><td>&amp;2E1NY+ARc</td><td>BA</td><td>Rosa</td><td>Esteticista</td><td>joaquim57</td><td>ig</td><td>esteticista</td><td>ESTETICISTA</td><td>Esteticista</td><td>Ol&aacute; joaquim57, a ...</td><td>Rosa&lt;&lt;&lt;&lt;&lt;&lt;</td></tr>\n",
       "<tr><td>alexiada-rocha@ig...</td><td>@f@!Z!2c*2</td><td>MS</td><td>Laranja</td><td>Microfonista</td><td>alexiada-rocha</td><td>ig</td><td>microfonista</td><td>MICROFONISTA</td><td>Microfonista</td><td>Ol&aacute; alexiada-roch...</td><td>Laranja&lt;&lt;&lt;</td></tr>\n",
       "<tr><td>pmendes@gmail.com</td><td>M+^XDBfe(2</td><td>RR</td><td>Verde Claro</td><td>Fiscal</td><td>pmendes</td><td>gmail</td><td>fiscal</td><td>FISCAL</td><td>Fiscal</td><td>Ol&aacute; pmendes, a su...</td><td>Verde Clar</td></tr>\n",
       "<tr><td>renan46@bol.com.br</td><td>Rp%2pVqfe$</td><td>PA</td><td>Verde Escuro</td><td>Contabilista</td><td>renan46</td><td>bol</td><td>contabilista</td><td>CONTABILISTA</td><td>Contabilista</td><td>Ol&aacute; renan46, a su...</td><td>Verde Escu</td></tr>\n",
       "<tr><td>manuelada-rosa@ho...</td><td>#hEIEOztQ3</td><td>SE</td><td>Violeta</td><td>Seguidor De Compras</td><td>manuelada-rosa</td><td>hotmail</td><td>seguidor de compras</td><td>SEGUIDOR DE COMPRAS</td><td>Seguidor De Compras</td><td>Ol&aacute; manuelada-ros...</td><td>Violeta&lt;&lt;&lt;</td></tr>\n",
       "<tr><td>usales@ig.com.br</td><td>b_8xaY$ozJ</td><td>AM</td><td>Rosa</td><td>Almirante</td><td>usales</td><td>ig</td><td>almirante</td><td>ALMIRANTE</td><td>Almirante</td><td>Ol&aacute; usales, a sua...</td><td>Rosa&lt;&lt;&lt;&lt;&lt;&lt;</td></tr>\n",
       "<tr><td>pereiranicolas@ho...</td><td>YA9I85Wb+2</td><td>MA</td><td>Amarelo</td><td>Consultor De Moda</td><td>pereiranicolas</td><td>hotmail</td><td>consultor de moda</td><td>CONSULTOR DE MODA</td><td>Consultor De Moda</td><td>Ol&aacute; pereiranicola...</td><td>Amarelo&lt;&lt;&lt;</td></tr>\n",
       "<tr><td>cardosolivia@ig.c...</td><td>yXkDW7Ebh*</td><td>GO</td><td>Laranja</td><td>Barbeiro</td><td>cardosolivia</td><td>ig</td><td>barbeiro</td><td>BARBEIRO</td><td>Barbeiro</td><td>Ol&aacute; cardosolivia,...</td><td>Laranja&lt;&lt;&lt;</td></tr>\n",
       "<tr><td>brenda39@ig.com.br</td><td>XS$84Hpsnw</td><td>RJ</td><td>Branco</td><td>Promotor De Vendas</td><td>brenda39</td><td>ig</td><td>promotor de vendas</td><td>PROMOTOR DE VENDAS</td><td>Promotor De Vendas</td><td>Ol&aacute; brenda39, a s...</td><td>Branco&lt;&lt;&lt;&lt;</td></tr>\n",
       "<tr><td>luizapeixoto@gmai...</td><td>TbKy82Kda$</td><td>DF</td><td>Ciano</td><td>Implantodontista</td><td>luizapeixoto</td><td>gmail</td><td>implantodontista</td><td>IMPLANTODONTISTA</td><td>Implantodontista</td><td>Ol&aacute; luizapeixoto,...</td><td>Ciano&lt;&lt;&lt;&lt;&lt;</td></tr>\n",
       "</table>\n",
       "only showing top 20 rows\n"
      ],
      "text/plain": [
       "+--------------------+----------+------+------------+--------------------+--------------------+--------+--------------------+--------------------+--------------------+--------------------+----------+\n",
       "|               email|     senha|estado|cor_favorita|           profissao|             usuario|provedor|               lower|               upper|primeira_letra_upper|              format|      rpad|\n",
       "+--------------------+----------+------+------------+--------------------+--------------------+--------+--------------------+--------------------+--------------------+--------------------+----------+\n",
       "|pedro-lucas53@gma...|+7^7E%xFBc|    RR|        Roxo|    Jogador De Golfe|       pedro-lucas53|   gmail|    jogador de golfe|    JOGADOR DE GOLFE|    Jogador De Golfe|Olá pedro-lucas53...|Roxo<<<<<<|\n",
       "|rezendeisaac@hotm...|_O_2GRnGOe|    GO|       Ciano|Atleta De Arremes...|        rezendeisaac| hotmail|atleta de arremes...|ATLETA DE ARREMES...|Atleta De Arremes...|Olá rezendeisaac,...|Ciano<<<<<|\n",
       "|felipepires@uol.c...|*Aw5EOAvy9|    MG|        Azul|      Papiloscopista|         felipepires|     uol|      papiloscopista|      PAPILOSCOPISTA|      Papiloscopista|Olá felipepires, ...|Azul<<<<<<|\n",
       "|stellamoraes@bol....|mw0AWYAs#s|    AC|      Marrom|            Aeromoça|        stellamoraes|     bol|            aeromoça|            AEROMOÇA|            Aeromoça|Olá stellamoraes,...|Marrom<<<<|\n",
       "| wcarvalho@ig.com.br|pGD%!2Pq5X|    AP|     Laranja|       Fonoaudiólogo|           wcarvalho|      ig|       fonoaudiólogo|       FONOAUDIÓLOGO|       Fonoaudiólogo|Olá wcarvalho, a ...|Laranja<<<|\n",
       "|da-conceicaodavi-...|uhBbFxPA&9|    MG|        Rosa|             Taxista|da-conceicaodavi-...| hotmail|             taxista|             TAXISTA|             Taxista|Olá da-conceicaod...|Rosa<<<<<<|\n",
       "| efreitas@bol.com.br|s#q9VZt&xl|    MG|      Branco|Produtor De Audio...|            efreitas|     bol|produtor de audio...|PRODUTOR DE AUDIO...|Produtor De Audio...|Olá efreitas, a s...|Branco<<<<|\n",
       "|   wnunes@bol.com.br|_8az1W%n7g|    SE|        Azul|          Cadeirinha|              wnunes|     bol|          cadeirinha|          CADEIRINHA|          Cadeirinha|Olá wnunes, a sua...|Azul<<<<<<|\n",
       "| jribeiro@bol.com.br|MEf1X7fj_0|    PA|      Marrom|             Geólogo|            jribeiro|     bol|             geólogo|             GEÓLOGO|             Geólogo|Olá jribeiro, a s...|Marrom<<<<|\n",
       "|  murilo05@gmail.com|Te&gO7GkKs|    MT|      Marrom|      Técnico De Som|            murilo05|   gmail|      técnico de som|      TÉCNICO DE SOM|      Técnico De Som|Olá murilo05, a s...|Marrom<<<<|\n",
       "| joaquim57@ig.com.br|&2E1NY+ARc|    BA|        Rosa|         Esteticista|           joaquim57|      ig|         esteticista|         ESTETICISTA|         Esteticista|Olá joaquim57, a ...|Rosa<<<<<<|\n",
       "|alexiada-rocha@ig...|@f@!Z!2c*2|    MS|     Laranja|        Microfonista|      alexiada-rocha|      ig|        microfonista|        MICROFONISTA|        Microfonista|Olá alexiada-roch...|Laranja<<<|\n",
       "|   pmendes@gmail.com|M+^XDBfe(2|    RR| Verde Claro|              Fiscal|             pmendes|   gmail|              fiscal|              FISCAL|              Fiscal|Olá pmendes, a su...|Verde Clar|\n",
       "|  renan46@bol.com.br|Rp%2pVqfe$|    PA|Verde Escuro|        Contabilista|             renan46|     bol|        contabilista|        CONTABILISTA|        Contabilista|Olá renan46, a su...|Verde Escu|\n",
       "|manuelada-rosa@ho...|#hEIEOztQ3|    SE|     Violeta| Seguidor De Compras|      manuelada-rosa| hotmail| seguidor de compras| SEGUIDOR DE COMPRAS| Seguidor De Compras|Olá manuelada-ros...|Violeta<<<|\n",
       "|    usales@ig.com.br|b_8xaY$ozJ|    AM|        Rosa|           Almirante|              usales|      ig|           almirante|           ALMIRANTE|           Almirante|Olá usales, a sua...|Rosa<<<<<<|\n",
       "|pereiranicolas@ho...|YA9I85Wb+2|    MA|     Amarelo|   Consultor De Moda|      pereiranicolas| hotmail|   consultor de moda|   CONSULTOR DE MODA|   Consultor De Moda|Olá pereiranicola...|Amarelo<<<|\n",
       "|cardosolivia@ig.c...|yXkDW7Ebh*|    GO|     Laranja|            Barbeiro|        cardosolivia|      ig|            barbeiro|            BARBEIRO|            Barbeiro|Olá cardosolivia,...|Laranja<<<|\n",
       "|  brenda39@ig.com.br|XS$84Hpsnw|    RJ|      Branco|  Promotor De Vendas|            brenda39|      ig|  promotor de vendas|  PROMOTOR DE VENDAS|  Promotor De Vendas|Olá brenda39, a s...|Branco<<<<|\n",
       "|luizapeixoto@gmai...|TbKy82Kda$|    DF|       Ciano|    Implantodontista|        luizapeixoto|   gmail|    implantodontista|    IMPLANTODONTISTA|    Implantodontista|Olá luizapeixoto,...|Ciano<<<<<|\n",
       "+--------------------+----------+------+------------+--------------------+--------------------+--------+--------------------+--------------------+--------------------+--------------------+----------+\n",
       "only showing top 20 rows"
      ]
     },
     "execution_count": 48,
     "metadata": {},
     "output_type": "execute_result"
    }
   ],
   "source": [
    "# podemos utilizar o preencimento de string\n",
    "(\n",
    "    dfr\n",
    "    .withColumn('lpad', F.lpad(F.col('cor_favorita'), 10, '>'))\n",
    ")\n",
    "(\n",
    "    dfr\n",
    "    .withColumn('rpad', F.rpad(F.col('cor_favorita'), 10, '<'))\n",
    ")"
   ]
  }
 ],
 "metadata": {
  "kernelspec": {
   "display_name": "Python 3",
   "language": "python",
   "name": "python3"
  },
  "language_info": {
   "codemirror_mode": {
    "name": "ipython",
    "version": 3
   },
   "file_extension": ".py",
   "mimetype": "text/x-python",
   "name": "python",
   "nbconvert_exporter": "python",
   "pygments_lexer": "ipython3",
   "version": "3.11.8"
  }
 },
 "nbformat": 4,
 "nbformat_minor": 2
}
