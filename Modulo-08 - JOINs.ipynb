{
 "cells": [
  {
   "cell_type": "code",
   "execution_count": null,
   "metadata": {},
   "outputs": [],
   "source": [
    "!pip install pyspark==3.3.2"
   ]
  },
  {
   "cell_type": "code",
   "execution_count": 1,
   "metadata": {},
   "outputs": [],
   "source": [
    "from pyspark.sql import SparkSession\n",
    "import pyspark.sql.functions as F"
   ]
  },
  {
   "cell_type": "code",
   "execution_count": 2,
   "metadata": {},
   "outputs": [],
   "source": [
    "spark = (\n",
    "    SparkSession.builder.appName('Treinamento-02')\n",
    "    .config('spark.sql.repl.eagerEval.enabled', True)\n",
    "    .getOrCreate()\n",
    ")"
   ]
  },
  {
   "cell_type": "code",
   "execution_count": 3,
   "metadata": {},
   "outputs": [],
   "source": [
    "autores = spark.read.parquet(r'C:\\Meus\\Projetos\\Python\\VsCode\\Bases\\DATASETS\\AUTORES.parquet')\n",
    "livros = spark.read.parquet(r'C:\\Meus\\Projetos\\Python\\VsCode\\Bases\\DATASETS\\LIVROS.parquet')\n",
    "clientes = spark.read.parquet(r'C:\\Meus\\Projetos\\Python\\VsCode\\Bases\\DATASETS\\CLIENTES.parquet')\n",
    "compras = spark.read.parquet(r'C:\\Meus\\Projetos\\Python\\VsCode\\Bases\\DATASETS\\COMPRAS.parquet')"
   ]
  },
  {
   "cell_type": "code",
   "execution_count": 4,
   "metadata": {},
   "outputs": [],
   "source": [
    "# aA estrutura para fazer os join é a seginte:\n",
    "#     DF.join(\n",
    "#         other=(tabela que ira ser relacionada), \n",
    "#         on=(coluna que ira ser utilizado cara relacionamento), \n",
    "#         how=(qual tipo de join ira ser aplicado)\n",
    "#         )\n",
    "# \n",
    "# No campo on= pode ser utilizado 1 coluna de relacionamento ou varias colunas exemplo:\n",
    "#     DF.join(other=TABELA, on='id', how='inner')\n",
    "#     DF.join(other=TABELA, on=['id', 'cpf'], how='inner')\n",
    "# \n",
    "# Caso as colunas de relacionamento não tenha o mesmo nome pode ser utilizado a tipagem explicita\n",
    "#     DF_compras.join(other=DF_livros, on=DFcompras.cd_livro == DF_livros.codigo, how='inner')\n",
    "#     DF_compras.join(other=DF_livros, on=[DFcompras.cd_livro == DF_livros.codigo, DFcompras.id_livro == DF_livros.id], how='inner')"
   ]
  },
  {
   "cell_type": "code",
   "execution_count": 5,
   "metadata": {},
   "outputs": [
    {
     "data": {
      "text/html": [
       "<table border='1'>\n",
       "<tr><th>id</th><th>titulo</th><th>autor</th><th>cnpj_editora</th><th>data_lancamento</th><th>ean</th><th>isbn10</th><th>numero_paginas</th><th>preco</th></tr>\n",
       "<tr><td>106042959</td><td>1984&nbsp;</td><td>George Orwell</td><td>NULL</td><td>NULL</td><td>NULL</td><td>NULL</td><td>NULL</td><td>NULL</td></tr>\n",
       "<tr><td>017551704</td><td>200 Cr&ocirc;nicas Esco...</td><td>Rubem Braga</td><td>14.857.032/0001-12</td><td>2018-10-19</td><td>2352660010751</td><td>0-7433-6026-5</td><td>645</td><td>44.38</td></tr>\n",
       "<tr><td>054099410</td><td>A Alma Encantador...</td><td>Jo&atilde;o do Rio</td><td>NULL</td><td>NULL</td><td>NULL</td><td>NULL</td><td>NULL</td><td>NULL</td></tr>\n",
       "<tr><td>128422117</td><td>A Biblioteca da M...</td><td>Matt Haig</td><td>NULL</td><td>NULL</td><td>NULL</td><td>NULL</td><td>NULL</td><td>NULL</td></tr>\n",
       "<tr><td>049141399</td><td>A Coleira do C&atilde;o&nbsp;</td><td>Rubem Fonseca</td><td>NULL</td><td>NULL</td><td>NULL</td><td>NULL</td><td>NULL</td><td>NULL</td></tr>\n",
       "<tr><td>065490862</td><td>A Cor P&uacute;rpura&nbsp;</td><td>Alice Walker</td><td>NULL</td><td>NULL</td><td>NULL</td><td>NULL</td><td>NULL</td><td>NULL</td></tr>\n",
       "<tr><td>029077001</td><td>A Educa&ccedil;&atilde;o Sentim...</td><td>Gustave Flaubert</td><td>NULL</td><td>NULL</td><td>NULL</td><td>NULL</td><td>NULL</td><td>NULL</td></tr>\n",
       "<tr><td>032275599</td><td>A Escrava Isaura&nbsp;</td><td>Bernardo Guimar&atilde;es</td><td>49.037.512/0001-11</td><td>2001-05-15</td><td>2964406383663</td><td>1-83335-705-1</td><td>752</td><td>184.42</td></tr>\n",
       "<tr><td>090690941</td><td>A Estrela Sobe&nbsp;</td><td>Marques Rebelo</td><td>NULL</td><td>NULL</td><td>NULL</td><td>NULL</td><td>NULL</td><td>NULL</td></tr>\n",
       "<tr><td>095695255</td><td>A Hora da Estrela&nbsp;</td><td>Clarice Lispector</td><td>94.567.038/0001-94</td><td>2015-04-23</td><td>4084520465552</td><td>0-7650-7381-1</td><td>572</td><td>83.33</td></tr>\n",
       "<tr><td>036365230</td><td>A Hora dos Rumina...</td><td>Jos&eacute; J. Veiga</td><td>NULL</td><td>NULL</td><td>NULL</td><td>NULL</td><td>NULL</td><td>NULL</td></tr>\n",
       "<tr><td>069146824</td><td>A Letra Escarlate&nbsp;</td><td>Nathaniel Hawthorne</td><td>NULL</td><td>NULL</td><td>NULL</td><td>NULL</td><td>NULL</td><td>NULL</td></tr>\n",
       "<tr><td>025903823</td><td>A Metamorfose&nbsp;</td><td>Franz Kafka</td><td>64.315.082/0001-46</td><td>2006-01-05</td><td>7561853479861</td><td>0-10-032263-8</td><td>760</td><td>215.52</td></tr>\n",
       "<tr><td>015903574</td><td>A Montanha M&aacute;gica&nbsp;</td><td>Thomas Mann</td><td>25.908.643/0001-69</td><td>2006-03-03</td><td>7694802204365</td><td>0-931131-95-2</td><td>600</td><td>90.22</td></tr>\n",
       "<tr><td>076938216</td><td>A Moreninha&nbsp;</td><td>Joaquim Manuel de...</td><td>NULL</td><td>NULL</td><td>NULL</td><td>NULL</td><td>NULL</td><td>NULL</td></tr>\n",
       "<tr><td>010325500</td><td>A Obscena Senhora D&nbsp;</td><td>Hilda Hilst</td><td>27.689.540/0001-80</td><td>2000-09-09</td><td>8793472196570</td><td>0-933627-98-X</td><td>306</td><td>30.62</td></tr>\n",
       "<tr><td>095678890</td><td>A Paix&atilde;o Segundo ...</td><td>Clarice Lispector</td><td>NULL</td><td>NULL</td><td>NULL</td><td>NULL</td><td>NULL</td><td>NULL</td></tr>\n",
       "<tr><td>073269564</td><td>A Revolu&ccedil;&atilde;o dos B...</td><td>George Orwell</td><td>NULL</td><td>NULL</td><td>NULL</td><td>NULL</td><td>NULL</td><td>NULL</td></tr>\n",
       "<tr><td>076121829</td><td>A Rosa do Povo&nbsp;</td><td>Carlos Drummond d...</td><td>NULL</td><td>NULL</td><td>NULL</td><td>NULL</td><td>NULL</td><td>NULL</td></tr>\n",
       "<tr><td>087365849</td><td>A Senhorita Simpson&nbsp;</td><td>S&eacute;rgio Sant&rsquo;anna</td><td>NULL</td><td>NULL</td><td>NULL</td><td>NULL</td><td>NULL</td><td>NULL</td></tr>\n",
       "</table>\n",
       "only showing top 20 rows\n"
      ],
      "text/plain": [
       "+---------+--------------------+--------------------+------------------+---------------+-------------+-------------+--------------+------+\n",
       "|       id|              titulo|               autor|      cnpj_editora|data_lancamento|          ean|       isbn10|numero_paginas| preco|\n",
       "+---------+--------------------+--------------------+------------------+---------------+-------------+-------------+--------------+------+\n",
       "|106042959|               1984 |       George Orwell|              NULL|           NULL|         NULL|         NULL|          NULL|  NULL|\n",
       "|017551704|200 Crônicas Esco...|         Rubem Braga|14.857.032/0001-12|     2018-10-19|2352660010751|0-7433-6026-5|           645| 44.38|\n",
       "|054099410|A Alma Encantador...|         João do Rio|              NULL|           NULL|         NULL|         NULL|          NULL|  NULL|\n",
       "|128422117|A Biblioteca da M...|           Matt Haig|              NULL|           NULL|         NULL|         NULL|          NULL|  NULL|\n",
       "|049141399|   A Coleira do Cão |       Rubem Fonseca|              NULL|           NULL|         NULL|         NULL|          NULL|  NULL|\n",
       "|065490862|      A Cor Púrpura |        Alice Walker|              NULL|           NULL|         NULL|         NULL|          NULL|  NULL|\n",
       "|029077001|A Educação Sentim...|    Gustave Flaubert|              NULL|           NULL|         NULL|         NULL|          NULL|  NULL|\n",
       "|032275599|   A Escrava Isaura |  Bernardo Guimarães|49.037.512/0001-11|     2001-05-15|2964406383663|1-83335-705-1|           752|184.42|\n",
       "|090690941|     A Estrela Sobe |      Marques Rebelo|              NULL|           NULL|         NULL|         NULL|          NULL|  NULL|\n",
       "|095695255|  A Hora da Estrela |   Clarice Lispector|94.567.038/0001-94|     2015-04-23|4084520465552|0-7650-7381-1|           572| 83.33|\n",
       "|036365230|A Hora dos Rumina...|       José J. Veiga|              NULL|           NULL|         NULL|         NULL|          NULL|  NULL|\n",
       "|069146824|  A Letra Escarlate | Nathaniel Hawthorne|              NULL|           NULL|         NULL|         NULL|          NULL|  NULL|\n",
       "|025903823|      A Metamorfose |         Franz Kafka|64.315.082/0001-46|     2006-01-05|7561853479861|0-10-032263-8|           760|215.52|\n",
       "|015903574|  A Montanha Mágica |         Thomas Mann|25.908.643/0001-69|     2006-03-03|7694802204365|0-931131-95-2|           600| 90.22|\n",
       "|076938216|        A Moreninha |Joaquim Manuel de...|              NULL|           NULL|         NULL|         NULL|          NULL|  NULL|\n",
       "|010325500|A Obscena Senhora D |         Hilda Hilst|27.689.540/0001-80|     2000-09-09|8793472196570|0-933627-98-X|           306| 30.62|\n",
       "|095678890|A Paixão Segundo ...|   Clarice Lispector|              NULL|           NULL|         NULL|         NULL|          NULL|  NULL|\n",
       "|073269564|A Revolução dos B...|       George Orwell|              NULL|           NULL|         NULL|         NULL|          NULL|  NULL|\n",
       "|076121829|     A Rosa do Povo |Carlos Drummond d...|              NULL|           NULL|         NULL|         NULL|          NULL|  NULL|\n",
       "|087365849|A Senhorita Simpson |    Sérgio Sant’anna|              NULL|           NULL|         NULL|         NULL|          NULL|  NULL|\n",
       "+---------+--------------------+--------------------+------------------+---------------+-------------+-------------+--------------+------+\n",
       "only showing top 20 rows"
      ]
     },
     "execution_count": 5,
     "metadata": {},
     "output_type": "execute_result"
    }
   ],
   "source": [
    "# Left Join\n",
    "autores.join(other=livros, on='id', how='left')"
   ]
  },
  {
   "cell_type": "code",
   "execution_count": 6,
   "metadata": {},
   "outputs": [
    {
     "data": {
      "text/html": [
       "<table border='1'>\n",
       "<tr><th>id</th><th>titulo</th><th>autor</th><th>cnpj_editora</th><th>data_lancamento</th><th>ean</th><th>isbn10</th><th>numero_paginas</th><th>preco</th></tr>\n",
       "<tr><td>102961160</td><td>NULL</td><td>NULL</td><td>54.317.982/0001-79</td><td>2011-09-19</td><td>4367115749184</td><td>0-06-594558-1</td><td>516</td><td>113.84</td></tr>\n",
       "<tr><td>043636240</td><td>NULL</td><td>NULL</td><td>16.938.042/0001-08</td><td>2019-05-11</td><td>1239569754256</td><td>0-611-23680-X</td><td>371</td><td>207.67</td></tr>\n",
       "<tr><td>052928059</td><td>NULL</td><td>NULL</td><td>57.624.038/0001-52</td><td>2003-08-03</td><td>5462162528221</td><td>1-109-29542-1</td><td>198</td><td>107.89</td></tr>\n",
       "<tr><td>088482271</td><td>NULL</td><td>NULL</td><td>16.249.378/0001-63</td><td>2022-09-07</td><td>5713629047213</td><td>1-229-68842-0</td><td>632</td><td>143.95</td></tr>\n",
       "<tr><td>028125446</td><td>NULL</td><td>NULL</td><td>90.425.178/0001-77</td><td>2011-07-25</td><td>2226757040245</td><td>0-657-66391-3</td><td>384</td><td>156.49</td></tr>\n",
       "<tr><td>055610005</td><td>NULL</td><td>NULL</td><td>20.756.194/0001-67</td><td>2006-03-22</td><td>2114468195241</td><td>0-455-43278-3</td><td>419</td><td>37.08</td></tr>\n",
       "<tr><td>049806867</td><td>NULL</td><td>NULL</td><td>93.617.240/0001-10</td><td>2022-02-17</td><td>3166123637398</td><td>1-4822-8784-6</td><td>378</td><td>162.97</td></tr>\n",
       "<tr><td>102803370</td><td>NULL</td><td>NULL</td><td>48.760.531/0001-09</td><td>2011-12-13</td><td>2550608407612</td><td>0-399-05121-X</td><td>732</td><td>75.62</td></tr>\n",
       "<tr><td>084858867</td><td>NULL</td><td>NULL</td><td>10.752.843/0001-06</td><td>2015-04-30</td><td>6207011925788</td><td>1-03-549652-6</td><td>635</td><td>237.67</td></tr>\n",
       "<tr><td>059303729</td><td>NULL</td><td>NULL</td><td>05.129.783/0001-21</td><td>2001-08-25</td><td>1641133648784</td><td>0-620-46508-5</td><td>107</td><td>61.41</td></tr>\n",
       "<tr><td>064175052</td><td>NULL</td><td>NULL</td><td>65.301.927/0001-07</td><td>2008-05-29</td><td>6905480714673</td><td>1-876722-64-9</td><td>795</td><td>85.56</td></tr>\n",
       "<tr><td>080608956</td><td>Viva o Povo Brasi...</td><td>Jo&atilde;o Ubaldo Ribeiro</td><td>90.563.247/0001-09</td><td>2011-10-05</td><td>0332981484891</td><td>1-925760-25-1</td><td>203</td><td>107.63</td></tr>\n",
       "<tr><td>018453254</td><td>Grande Sert&atilde;o: Ve...</td><td>Guimar&atilde;es Rosa</td><td>95.367.280/0001-87</td><td>2012-11-02</td><td>0507454098268</td><td>0-609-21722-4</td><td>043</td><td>52.94</td></tr>\n",
       "<tr><td>021765997</td><td>As Aventuras de H...</td><td>Mark Twain</td><td>59.374.801/0001-60</td><td>2014-05-17</td><td>4743679337089</td><td>1-85580-232-5</td><td>499</td><td>143.43</td></tr>\n",
       "<tr><td>023911383</td><td>Catatau&nbsp;</td><td>Paulo Leminski</td><td>98.526.047/0001-98</td><td>2005-11-12</td><td>4165252098109</td><td>1-369-22273-4</td><td>599</td><td>121.0</td></tr>\n",
       "<tr><td>029667220</td><td>NULL</td><td>NULL</td><td>20.136.498/0001-21</td><td>2008-09-22</td><td>9813450961422</td><td>0-466-92503-4</td><td>474</td><td>175.32</td></tr>\n",
       "<tr><td>030099528</td><td>Retrato do Artist...</td><td>James Joyce</td><td>28.103.975/0001-64</td><td>2000-02-06</td><td>9164658045347</td><td>0-904222-71-3</td><td>292</td><td>208.39</td></tr>\n",
       "<tr><td>034553086</td><td>NULL</td><td>NULL</td><td>29.507.683/0001-50</td><td>2016-12-29</td><td>7318970609554</td><td>1-4989-7802-9</td><td>540</td><td>113.52</td></tr>\n",
       "<tr><td>035350343</td><td>NULL</td><td>NULL</td><td>25.491.073/0001-54</td><td>2003-11-29</td><td>7630092024962</td><td>1-957157-95-X</td><td>109</td><td>58.61</td></tr>\n",
       "<tr><td>017477529</td><td>NULL</td><td>NULL</td><td>39.507.184/0001-16</td><td>2005-09-23</td><td>5930606400018</td><td>1-393-77728-7</td><td>747</td><td>232.65</td></tr>\n",
       "</table>\n",
       "only showing top 20 rows\n"
      ],
      "text/plain": [
       "+---------+--------------------+-------------------+------------------+---------------+-------------+-------------+--------------+------+\n",
       "|       id|              titulo|              autor|      cnpj_editora|data_lancamento|          ean|       isbn10|numero_paginas| preco|\n",
       "+---------+--------------------+-------------------+------------------+---------------+-------------+-------------+--------------+------+\n",
       "|102961160|                NULL|               NULL|54.317.982/0001-79|     2011-09-19|4367115749184|0-06-594558-1|           516|113.84|\n",
       "|043636240|                NULL|               NULL|16.938.042/0001-08|     2019-05-11|1239569754256|0-611-23680-X|           371|207.67|\n",
       "|052928059|                NULL|               NULL|57.624.038/0001-52|     2003-08-03|5462162528221|1-109-29542-1|           198|107.89|\n",
       "|088482271|                NULL|               NULL|16.249.378/0001-63|     2022-09-07|5713629047213|1-229-68842-0|           632|143.95|\n",
       "|028125446|                NULL|               NULL|90.425.178/0001-77|     2011-07-25|2226757040245|0-657-66391-3|           384|156.49|\n",
       "|055610005|                NULL|               NULL|20.756.194/0001-67|     2006-03-22|2114468195241|0-455-43278-3|           419| 37.08|\n",
       "|049806867|                NULL|               NULL|93.617.240/0001-10|     2022-02-17|3166123637398|1-4822-8784-6|           378|162.97|\n",
       "|102803370|                NULL|               NULL|48.760.531/0001-09|     2011-12-13|2550608407612|0-399-05121-X|           732| 75.62|\n",
       "|084858867|                NULL|               NULL|10.752.843/0001-06|     2015-04-30|6207011925788|1-03-549652-6|           635|237.67|\n",
       "|059303729|                NULL|               NULL|05.129.783/0001-21|     2001-08-25|1641133648784|0-620-46508-5|           107| 61.41|\n",
       "|064175052|                NULL|               NULL|65.301.927/0001-07|     2008-05-29|6905480714673|1-876722-64-9|           795| 85.56|\n",
       "|080608956|Viva o Povo Brasi...|João Ubaldo Ribeiro|90.563.247/0001-09|     2011-10-05|0332981484891|1-925760-25-1|           203|107.63|\n",
       "|018453254|Grande Sertão: Ve...|     Guimarães Rosa|95.367.280/0001-87|     2012-11-02|0507454098268|0-609-21722-4|           043| 52.94|\n",
       "|021765997|As Aventuras de H...|         Mark Twain|59.374.801/0001-60|     2014-05-17|4743679337089|1-85580-232-5|           499|143.43|\n",
       "|023911383|            Catatau |     Paulo Leminski|98.526.047/0001-98|     2005-11-12|4165252098109|1-369-22273-4|           599| 121.0|\n",
       "|029667220|                NULL|               NULL|20.136.498/0001-21|     2008-09-22|9813450961422|0-466-92503-4|           474|175.32|\n",
       "|030099528|Retrato do Artist...|        James Joyce|28.103.975/0001-64|     2000-02-06|9164658045347|0-904222-71-3|           292|208.39|\n",
       "|034553086|                NULL|               NULL|29.507.683/0001-50|     2016-12-29|7318970609554|1-4989-7802-9|           540|113.52|\n",
       "|035350343|                NULL|               NULL|25.491.073/0001-54|     2003-11-29|7630092024962|1-957157-95-X|           109| 58.61|\n",
       "|017477529|                NULL|               NULL|39.507.184/0001-16|     2005-09-23|5930606400018|1-393-77728-7|           747|232.65|\n",
       "+---------+--------------------+-------------------+------------------+---------------+-------------+-------------+--------------+------+\n",
       "only showing top 20 rows"
      ]
     },
     "execution_count": 6,
     "metadata": {},
     "output_type": "execute_result"
    }
   ],
   "source": [
    "# Right Join\n",
    "autores.join(other=livros, on='id', how='right')"
   ]
  },
  {
   "cell_type": "code",
   "execution_count": 7,
   "metadata": {},
   "outputs": [
    {
     "data": {
      "text/html": [
       "<table border='1'>\n",
       "<tr><th>id</th><th>titulo</th><th>autor</th><th>cnpj_editora</th><th>data_lancamento</th><th>ean</th><th>isbn10</th><th>numero_paginas</th><th>preco</th></tr>\n",
       "<tr><td>080608956</td><td>Viva o Povo Brasi...</td><td>Jo&atilde;o Ubaldo Ribeiro</td><td>90.563.247/0001-09</td><td>2011-10-05</td><td>0332981484891</td><td>1-925760-25-1</td><td>203</td><td>107.63</td></tr>\n",
       "<tr><td>018453254</td><td>Grande Sert&atilde;o: Ve...</td><td>Guimar&atilde;es Rosa</td><td>95.367.280/0001-87</td><td>2012-11-02</td><td>0507454098268</td><td>0-609-21722-4</td><td>043</td><td>52.94</td></tr>\n",
       "<tr><td>021765997</td><td>As Aventuras de H...</td><td>Mark Twain</td><td>59.374.801/0001-60</td><td>2014-05-17</td><td>4743679337089</td><td>1-85580-232-5</td><td>499</td><td>143.43</td></tr>\n",
       "<tr><td>023911383</td><td>Catatau&nbsp;</td><td>Paulo Leminski</td><td>98.526.047/0001-98</td><td>2005-11-12</td><td>4165252098109</td><td>1-369-22273-4</td><td>599</td><td>121.0</td></tr>\n",
       "<tr><td>030099528</td><td>Retrato do Artist...</td><td>James Joyce</td><td>28.103.975/0001-64</td><td>2000-02-06</td><td>9164658045347</td><td>0-904222-71-3</td><td>292</td><td>208.39</td></tr>\n",
       "<tr><td>030334762</td><td>Em Busca do Tempo...</td><td>Marcel Proust</td><td>80.463.719/0001-06</td><td>2013-05-08</td><td>7122725133429</td><td>0-85193-340-8</td><td>099</td><td>123.47</td></tr>\n",
       "<tr><td>035940339</td><td>Adeus &agrave;s Armas&nbsp;</td><td>Ernest Hemingway</td><td>71.530.496/0001-53</td><td>2014-08-11</td><td>6764222732753</td><td>1-396-90787-4</td><td>327</td><td>213.6</td></tr>\n",
       "<tr><td>026925428</td><td>Sing, Unburied, S...</td><td>Jesmyn Ward</td><td>97.156.423/0001-37</td><td>2011-09-04</td><td>7828100308177</td><td>0-491-15648-0</td><td>793</td><td>193.19</td></tr>\n",
       "<tr><td>010045097</td><td>Moby Dick&nbsp;</td><td>Herman Melville</td><td>93.167.508/0001-60</td><td>2003-12-17</td><td>5404258649298</td><td>1-198-80360-6</td><td>209</td><td>138.69</td></tr>\n",
       "<tr><td>010366161</td><td>Luc&iacute;ola&nbsp;</td><td>Jos&eacute; de Alencar</td><td>70.293.541/0001-30</td><td>2022-02-18</td><td>9429320742345</td><td>0-356-75493-6</td><td>968</td><td>200.6</td></tr>\n",
       "<tr><td>022395641</td><td>O Sol Tamb&eacute;m se L...</td><td>Ernest Hemingway</td><td>64.395.017/0001-78</td><td>2000-03-08</td><td>8190873212302</td><td>1-79261-939-1</td><td>244</td><td>112.33</td></tr>\n",
       "<tr><td>024027632</td><td>O Mestre e Margar...</td><td>Mikhail Bulg&aacute;kov</td><td>52.097.134/0001-76</td><td>2002-07-25</td><td>0908234894085</td><td>0-214-19455-8</td><td>965</td><td>248.4</td></tr>\n",
       "<tr><td>025331136</td><td>E O Vento Levou&nbsp;</td><td>Margaret Mitchell</td><td>13.649.820/0001-50</td><td>2001-04-17</td><td>6928869770794</td><td>0-337-49672-2</td><td>919</td><td>133.42</td></tr>\n",
       "<tr><td>028590563</td><td>Br&aacute;s, Bexiga e Ba...</td><td>Ant&ocirc;nio de Alc&acirc;nt...</td><td>83.652.071/0001-04</td><td>2017-10-01</td><td>4098655700235</td><td>0-09-656628-0</td><td>580</td><td>18.31</td></tr>\n",
       "<tr><td>015903574</td><td>A Montanha M&aacute;gica&nbsp;</td><td>Thomas Mann</td><td>25.908.643/0001-69</td><td>2006-03-03</td><td>7694802204365</td><td>0-931131-95-2</td><td>600</td><td>90.22</td></tr>\n",
       "<tr><td>034173770</td><td>Viva Vaia&nbsp;</td><td>Augusto de Campos</td><td>42.036.185/0001-34</td><td>2022-11-21</td><td>6414689158305</td><td>0-06-622504-3</td><td>433</td><td>83.01</td></tr>\n",
       "<tr><td>016430211</td><td>O Homem e Sua Hora&nbsp;</td><td>M&aacute;rio Faustino</td><td>49.168.732/0001-84</td><td>2016-03-22</td><td>3851979617518</td><td>0-400-61604-1</td><td>059</td><td>113.07</td></tr>\n",
       "<tr><td>022112497</td><td>Mrs Dalloway&nbsp;</td><td>Virginia Woolf</td><td>82.074.936/0001-21</td><td>2021-01-06</td><td>5078165920063</td><td>0-7763-1592-7</td><td>799</td><td>10.84</td></tr>\n",
       "<tr><td>030144651</td><td>Zero&nbsp;</td><td>Ign&aacute;cio De Loyola...</td><td>24.631.097/0001-07</td><td>2011-04-14</td><td>5139658472558</td><td>0-8390-6301-6</td><td>146</td><td>242.2</td></tr>\n",
       "<tr><td>012489208</td><td>Triste Fim de Pol...</td><td>Lima Barreto</td><td>76.035.284/0001-13</td><td>2011-10-30</td><td>5442868630558</td><td>1-927216-40-0</td><td>113</td><td>160.53</td></tr>\n",
       "</table>\n",
       "only showing top 20 rows\n"
      ],
      "text/plain": [
       "+---------+--------------------+--------------------+------------------+---------------+-------------+-------------+--------------+------+\n",
       "|       id|              titulo|               autor|      cnpj_editora|data_lancamento|          ean|       isbn10|numero_paginas| preco|\n",
       "+---------+--------------------+--------------------+------------------+---------------+-------------+-------------+--------------+------+\n",
       "|080608956|Viva o Povo Brasi...| João Ubaldo Ribeiro|90.563.247/0001-09|     2011-10-05|0332981484891|1-925760-25-1|           203|107.63|\n",
       "|018453254|Grande Sertão: Ve...|      Guimarães Rosa|95.367.280/0001-87|     2012-11-02|0507454098268|0-609-21722-4|           043| 52.94|\n",
       "|021765997|As Aventuras de H...|          Mark Twain|59.374.801/0001-60|     2014-05-17|4743679337089|1-85580-232-5|           499|143.43|\n",
       "|023911383|            Catatau |      Paulo Leminski|98.526.047/0001-98|     2005-11-12|4165252098109|1-369-22273-4|           599| 121.0|\n",
       "|030099528|Retrato do Artist...|         James Joyce|28.103.975/0001-64|     2000-02-06|9164658045347|0-904222-71-3|           292|208.39|\n",
       "|030334762|Em Busca do Tempo...|       Marcel Proust|80.463.719/0001-06|     2013-05-08|7122725133429|0-85193-340-8|           099|123.47|\n",
       "|035940339|     Adeus às Armas |    Ernest Hemingway|71.530.496/0001-53|     2014-08-11|6764222732753|1-396-90787-4|           327| 213.6|\n",
       "|026925428|Sing, Unburied, S...|         Jesmyn Ward|97.156.423/0001-37|     2011-09-04|7828100308177|0-491-15648-0|           793|193.19|\n",
       "|010045097|          Moby Dick |     Herman Melville|93.167.508/0001-60|     2003-12-17|5404258649298|1-198-80360-6|           209|138.69|\n",
       "|010366161|            Lucíola |     José de Alencar|70.293.541/0001-30|     2022-02-18|9429320742345|0-356-75493-6|           968| 200.6|\n",
       "|022395641|O Sol Também se L...|    Ernest Hemingway|64.395.017/0001-78|     2000-03-08|8190873212302|1-79261-939-1|           244|112.33|\n",
       "|024027632|O Mestre e Margar...|    Mikhail Bulgákov|52.097.134/0001-76|     2002-07-25|0908234894085|0-214-19455-8|           965| 248.4|\n",
       "|025331136|    E O Vento Levou |   Margaret Mitchell|13.649.820/0001-50|     2001-04-17|6928869770794|0-337-49672-2|           919|133.42|\n",
       "|028590563|Brás, Bexiga e Ba...|Antônio de Alcânt...|83.652.071/0001-04|     2017-10-01|4098655700235|0-09-656628-0|           580| 18.31|\n",
       "|015903574|  A Montanha Mágica |         Thomas Mann|25.908.643/0001-69|     2006-03-03|7694802204365|0-931131-95-2|           600| 90.22|\n",
       "|034173770|          Viva Vaia |   Augusto de Campos|42.036.185/0001-34|     2022-11-21|6414689158305|0-06-622504-3|           433| 83.01|\n",
       "|016430211| O Homem e Sua Hora |      Mário Faustino|49.168.732/0001-84|     2016-03-22|3851979617518|0-400-61604-1|           059|113.07|\n",
       "|022112497|       Mrs Dalloway |      Virginia Woolf|82.074.936/0001-21|     2021-01-06|5078165920063|0-7763-1592-7|           799| 10.84|\n",
       "|030144651|               Zero |Ignácio De Loyola...|24.631.097/0001-07|     2011-04-14|5139658472558|0-8390-6301-6|           146| 242.2|\n",
       "|012489208|Triste Fim de Pol...|        Lima Barreto|76.035.284/0001-13|     2011-10-30|5442868630558|1-927216-40-0|           113|160.53|\n",
       "+---------+--------------------+--------------------+------------------+---------------+-------------+-------------+--------------+------+\n",
       "only showing top 20 rows"
      ]
     },
     "execution_count": 7,
     "metadata": {},
     "output_type": "execute_result"
    }
   ],
   "source": [
    " # Inner Join\n",
    "autores.join(other=livros, on='id', how='inner')"
   ]
  },
  {
   "cell_type": "code",
   "execution_count": 8,
   "metadata": {},
   "outputs": [
    {
     "data": {
      "text/html": [
       "<table border='1'>\n",
       "<tr><th>id</th><th>cartao_data_expiracao</th><th>cartao_numero</th><th>cartao_bandeira</th><th>cartao_cvc</th><th>codigo_transacao_bancaria</th><th>data</th><th>hora</th><th>ipv4</th><th>ipv6</th><th>cep_entrega</th><th>cd_livro</th><th>cd_cliente</th><th>id</th><th>cnpj_editora</th><th>data_lancamento</th><th>ean</th><th>isbn10</th><th>numero_paginas</th><th>preco</th></tr>\n",
       "<tr><td>013478</td><td>07/24</td><td>3560452545224585</td><td>VISA 16 digit</td><td>126</td><td>GB63LUHF437452702...</td><td>2020-05-10</td><td>02:33:28</td><td>105.127.245.188</td><td>dd79:3fca:9d38:98...</td><td>10354-560</td><td>019488257</td><td>670483</td><td>019488257</td><td>56.783.210/0001-58</td><td>2013-05-19</td><td>3993489629534</td><td>0-589-10612-0</td><td>734</td><td>17.11</td></tr>\n",
       "<tr><td>013872</td><td>07/23</td><td>4952338434848309</td><td>Diners Club / Car...</td><td>819</td><td>GB41XVXY400107428...</td><td>2021-08-22</td><td>17:37:59</td><td>147.118.38.208</td><td>d48b:ab5d:327b:6d...</td><td>50797397</td><td>019488257</td><td>6697506</td><td>019488257</td><td>56.783.210/0001-58</td><td>2013-05-19</td><td>3993489629534</td><td>0-589-10612-0</td><td>734</td><td>17.11</td></tr>\n",
       "<tr><td>013982</td><td>09/29</td><td>4038585675040</td><td>Discover</td><td>7216</td><td>GB84RVQY136325329...</td><td>2022-11-27</td><td>19:02:58</td><td>7.143.13.17</td><td>24d0:2dc0:d949:50...</td><td>86760-124</td><td>089889624</td><td>1137203</td><td>089889624</td><td>16.294.870/0001-50</td><td>2001-06-29</td><td>4718107862235</td><td>1-346-02899-0</td><td>830</td><td>10.86</td></tr>\n",
       "<tr><td>013986</td><td>09/30</td><td>639035218598</td><td>Discover</td><td>523</td><td>GB61CWZY130021839...</td><td>2021-03-08</td><td>01:53:20</td><td>122.69.181.27</td><td>723d:2fea:8d8f:ec...</td><td>57200958</td><td>097717319</td><td>3619947</td><td>097717319</td><td>29.635.084/0001-11</td><td>2018-01-27</td><td>6029658867845</td><td>0-417-50357-1</td><td>919</td><td>10.87</td></tr>\n",
       "<tr><td>015293</td><td>07/25</td><td>3556739121440148</td><td>American Express</td><td>545</td><td>GB48XYOL916840705...</td><td>2023-01-17</td><td>11:18:13</td><td>213.234.224.146</td><td>826f:59e0:495:da8...</td><td>95212-264</td><td>020113375</td><td>318091</td><td>020113375</td><td>72.513.640/0001-06</td><td>2004-05-20</td><td>6368864423927</td><td>1-4262-9302-X</td><td>979</td><td>11.22</td></tr>\n",
       "<tr><td>015863</td><td>12/29</td><td>4983537390091472</td><td>Maestro</td><td>406</td><td>GB59QYGX056760205...</td><td>2021-04-08</td><td>07:37:15</td><td>156.144.19.163</td><td>64e6:80d4:ce1c:5a...</td><td>45279614</td><td>019488257</td><td>53125</td><td>019488257</td><td>56.783.210/0001-58</td><td>2013-05-19</td><td>3993489629534</td><td>0-589-10612-0</td><td>734</td><td>17.11</td></tr>\n",
       "<tr><td>016284</td><td>07/25</td><td>4995253124034962</td><td>Mastercard</td><td>316</td><td>GB45KZNR247418910...</td><td>2020-10-06</td><td>05:12:49</td><td>94.195.142.102</td><td>7ee3:bf8c:b0b1:5a...</td><td>40695-781</td><td>012719596</td><td>3713338</td><td>012719596</td><td>91.572.403/0001-60</td><td>2019-09-02</td><td>0416248524886</td><td>1-71012-481-4</td><td>617</td><td>11.74</td></tr>\n",
       "<tr><td>016582</td><td>02/28</td><td>630420703716</td><td>Maestro</td><td>165</td><td>GB79DCQT534343620...</td><td>2020-12-24</td><td>18:15:30</td><td>169.153.0.0</td><td>adb6:5235:d0e0:c8...</td><td>30931631</td><td>012719596</td><td>6795126</td><td>012719596</td><td>91.572.403/0001-60</td><td>2019-09-02</td><td>0416248524886</td><td>1-71012-481-4</td><td>617</td><td>11.74</td></tr>\n",
       "<tr><td>021783</td><td>09/24</td><td>3587017635827925</td><td>Mastercard</td><td>382</td><td>GB95JQHA912163308...</td><td>2022-10-28</td><td>05:33:09</td><td>136.229.183.46</td><td>1811:d388:ac92:f3...</td><td>66885-884</td><td>028590563</td><td>4971867</td><td>028590563</td><td>83.652.071/0001-04</td><td>2017-10-01</td><td>4098655700235</td><td>0-09-656628-0</td><td>580</td><td>18.31</td></tr>\n",
       "<tr><td>023894</td><td>08/32</td><td>501807167868</td><td>VISA 16 digit</td><td>105</td><td>GB19DOED601855855...</td><td>2022-01-24</td><td>01:34:17</td><td>113.208.19.90</td><td>5f45:533c:1785:3b...</td><td>14017-629</td><td>028590563</td><td>2519720</td><td>028590563</td><td>83.652.071/0001-04</td><td>2017-10-01</td><td>4098655700235</td><td>0-09-656628-0</td><td>580</td><td>18.31</td></tr>\n",
       "<tr><td>025364</td><td>05/31</td><td>6523737094843820</td><td>VISA 16 digit</td><td>843</td><td>GB24WJNV544995827...</td><td>2023-02-17</td><td>13:26:08</td><td>214.115.78.67</td><td>40e:3f6b:d6f4:1ca...</td><td>28638540</td><td>019488257</td><td>7754582</td><td>019488257</td><td>56.783.210/0001-58</td><td>2013-05-19</td><td>3993489629534</td><td>0-589-10612-0</td><td>734</td><td>17.11</td></tr>\n",
       "<tr><td>026184</td><td>05/27</td><td>4213460012148657</td><td>Mastercard</td><td>895</td><td>GB38JREB002871238...</td><td>2020-02-16</td><td>08:43:56</td><td>64.150.100.169</td><td>bec3:500c:759a:a2...</td><td>56539-909</td><td>097717319</td><td>3731803</td><td>097717319</td><td>29.635.084/0001-11</td><td>2018-01-27</td><td>6029658867845</td><td>0-417-50357-1</td><td>919</td><td>10.87</td></tr>\n",
       "<tr><td>026978</td><td>01/27</td><td>346549511041328</td><td>VISA 16 digit</td><td>154</td><td>GB53ZGAO277263843...</td><td>2020-06-04</td><td>05:20:54</td><td>170.171.213.67</td><td>c326:526e:7fe8:41...</td><td>99487-723</td><td>089889624</td><td>7257149</td><td>089889624</td><td>16.294.870/0001-50</td><td>2001-06-29</td><td>4718107862235</td><td>1-346-02899-0</td><td>830</td><td>10.86</td></tr>\n",
       "<tr><td>027458</td><td>01/24</td><td>4595390161573</td><td>JCB 15 digit</td><td>438</td><td>GB08PCUS795009233...</td><td>2022-12-24</td><td>22:14:27</td><td>155.165.182.67</td><td>7e35:5372:a8d2:99...</td><td>86066105</td><td>089889624</td><td>6939379</td><td>089889624</td><td>16.294.870/0001-50</td><td>2001-06-29</td><td>4718107862235</td><td>1-346-02899-0</td><td>830</td><td>10.86</td></tr>\n",
       "<tr><td>027534</td><td>04/30</td><td>341201325730846</td><td>American Express</td><td>724</td><td>GB51YZOU341035018...</td><td>2022-05-24</td><td>06:03:17</td><td>179.57.223.203</td><td>8821:e434:12e0:78...</td><td>98301-728</td><td>028590563</td><td>1220093</td><td>028590563</td><td>83.652.071/0001-04</td><td>2017-10-01</td><td>4098655700235</td><td>0-09-656628-0</td><td>580</td><td>18.31</td></tr>\n",
       "<tr><td>027693</td><td>10/27</td><td>30417576698633</td><td>VISA 13 digit</td><td>021</td><td>GB15BSAQ747167733...</td><td>2022-09-18</td><td>14:15:31</td><td>82.78.32.15</td><td>30cd:6dff:9bae:db...</td><td>10828-649</td><td>089889624</td><td>5525063</td><td>089889624</td><td>16.294.870/0001-50</td><td>2001-06-29</td><td>4718107862235</td><td>1-346-02899-0</td><td>830</td><td>10.86</td></tr>\n",
       "<tr><td>028136</td><td>07/32</td><td>213138242609957</td><td>JCB 15 digit</td><td>387</td><td>GB30WYCM492053915...</td><td>2021-03-09</td><td>19:05:20</td><td>165.155.35.235</td><td>bbd8:e967:de71:f1...</td><td>40025-011</td><td>028590563</td><td>4379849</td><td>028590563</td><td>83.652.071/0001-04</td><td>2017-10-01</td><td>4098655700235</td><td>0-09-656628-0</td><td>580</td><td>18.31</td></tr>\n",
       "<tr><td>029758</td><td>02/30</td><td>3541503490537126</td><td>American Express</td><td>195</td><td>GB93ZUZX995042659...</td><td>2022-06-17</td><td>05:14:31</td><td>34.115.251.249</td><td>88c8:19e6:a1ce:f1...</td><td>99742343</td><td>031940993</td><td>4657085</td><td>031940993</td><td>03.854.176/0001-07</td><td>2018-01-06</td><td>8713441956769</td><td>1-380-31131-4</td><td>798</td><td>16.98</td></tr>\n",
       "<tr><td>031594</td><td>09/27</td><td>36861285627439</td><td>Maestro</td><td>393</td><td>GB95NDPF758548474...</td><td>2020-09-07</td><td>16:29:48</td><td>65.141.217.106</td><td>2089:39e5:609e:af...</td><td>23272-551</td><td>019488257</td><td>6544316</td><td>019488257</td><td>56.783.210/0001-58</td><td>2013-05-19</td><td>3993489629534</td><td>0-589-10612-0</td><td>734</td><td>17.11</td></tr>\n",
       "<tr><td>032418</td><td>07/26</td><td>180086279614573</td><td>VISA 16 digit</td><td>576</td><td>GB82ZALE016986811...</td><td>2020-07-16</td><td>10:55:36</td><td>134.187.20.204</td><td>6048:5f72:a506:4b...</td><td>58250-895</td><td>031940993</td><td>1442665</td><td>031940993</td><td>03.854.176/0001-07</td><td>2018-01-06</td><td>8713441956769</td><td>1-380-31131-4</td><td>798</td><td>16.98</td></tr>\n",
       "</table>\n",
       "only showing top 20 rows\n"
      ],
      "text/plain": [
       "+------+---------------------+----------------+--------------------+----------+-------------------------+----------+--------+---------------+--------------------+-----------+---------+----------+---------+------------------+---------------+-------------+-------------+--------------+-----+\n",
       "|    id|cartao_data_expiracao|   cartao_numero|     cartao_bandeira|cartao_cvc|codigo_transacao_bancaria|      data|    hora|           ipv4|                ipv6|cep_entrega| cd_livro|cd_cliente|       id|      cnpj_editora|data_lancamento|          ean|       isbn10|numero_paginas|preco|\n",
       "+------+---------------------+----------------+--------------------+----------+-------------------------+----------+--------+---------------+--------------------+-----------+---------+----------+---------+------------------+---------------+-------------+-------------+--------------+-----+\n",
       "|013478|                07/24|3560452545224585|       VISA 16 digit|       126|     GB63LUHF437452702...|2020-05-10|02:33:28|105.127.245.188|dd79:3fca:9d38:98...|  10354-560|019488257|    670483|019488257|56.783.210/0001-58|     2013-05-19|3993489629534|0-589-10612-0|           734|17.11|\n",
       "|013872|                07/23|4952338434848309|Diners Club / Car...|       819|     GB41XVXY400107428...|2021-08-22|17:37:59| 147.118.38.208|d48b:ab5d:327b:6d...|   50797397|019488257|   6697506|019488257|56.783.210/0001-58|     2013-05-19|3993489629534|0-589-10612-0|           734|17.11|\n",
       "|013982|                09/29|   4038585675040|            Discover|      7216|     GB84RVQY136325329...|2022-11-27|19:02:58|    7.143.13.17|24d0:2dc0:d949:50...|  86760-124|089889624|   1137203|089889624|16.294.870/0001-50|     2001-06-29|4718107862235|1-346-02899-0|           830|10.86|\n",
       "|013986|                09/30|    639035218598|            Discover|       523|     GB61CWZY130021839...|2021-03-08|01:53:20|  122.69.181.27|723d:2fea:8d8f:ec...|   57200958|097717319|   3619947|097717319|29.635.084/0001-11|     2018-01-27|6029658867845|0-417-50357-1|           919|10.87|\n",
       "|015293|                07/25|3556739121440148|    American Express|       545|     GB48XYOL916840705...|2023-01-17|11:18:13|213.234.224.146|826f:59e0:495:da8...|  95212-264|020113375|    318091|020113375|72.513.640/0001-06|     2004-05-20|6368864423927|1-4262-9302-X|           979|11.22|\n",
       "|015863|                12/29|4983537390091472|             Maestro|       406|     GB59QYGX056760205...|2021-04-08|07:37:15| 156.144.19.163|64e6:80d4:ce1c:5a...|   45279614|019488257|     53125|019488257|56.783.210/0001-58|     2013-05-19|3993489629534|0-589-10612-0|           734|17.11|\n",
       "|016284|                07/25|4995253124034962|          Mastercard|       316|     GB45KZNR247418910...|2020-10-06|05:12:49| 94.195.142.102|7ee3:bf8c:b0b1:5a...|  40695-781|012719596|   3713338|012719596|91.572.403/0001-60|     2019-09-02|0416248524886|1-71012-481-4|           617|11.74|\n",
       "|016582|                02/28|    630420703716|             Maestro|       165|     GB79DCQT534343620...|2020-12-24|18:15:30|    169.153.0.0|adb6:5235:d0e0:c8...|   30931631|012719596|   6795126|012719596|91.572.403/0001-60|     2019-09-02|0416248524886|1-71012-481-4|           617|11.74|\n",
       "|021783|                09/24|3587017635827925|          Mastercard|       382|     GB95JQHA912163308...|2022-10-28|05:33:09| 136.229.183.46|1811:d388:ac92:f3...|  66885-884|028590563|   4971867|028590563|83.652.071/0001-04|     2017-10-01|4098655700235|0-09-656628-0|           580|18.31|\n",
       "|023894|                08/32|    501807167868|       VISA 16 digit|       105|     GB19DOED601855855...|2022-01-24|01:34:17|  113.208.19.90|5f45:533c:1785:3b...|  14017-629|028590563|   2519720|028590563|83.652.071/0001-04|     2017-10-01|4098655700235|0-09-656628-0|           580|18.31|\n",
       "|025364|                05/31|6523737094843820|       VISA 16 digit|       843|     GB24WJNV544995827...|2023-02-17|13:26:08|  214.115.78.67|40e:3f6b:d6f4:1ca...|   28638540|019488257|   7754582|019488257|56.783.210/0001-58|     2013-05-19|3993489629534|0-589-10612-0|           734|17.11|\n",
       "|026184|                05/27|4213460012148657|          Mastercard|       895|     GB38JREB002871238...|2020-02-16|08:43:56| 64.150.100.169|bec3:500c:759a:a2...|  56539-909|097717319|   3731803|097717319|29.635.084/0001-11|     2018-01-27|6029658867845|0-417-50357-1|           919|10.87|\n",
       "|026978|                01/27| 346549511041328|       VISA 16 digit|       154|     GB53ZGAO277263843...|2020-06-04|05:20:54| 170.171.213.67|c326:526e:7fe8:41...|  99487-723|089889624|   7257149|089889624|16.294.870/0001-50|     2001-06-29|4718107862235|1-346-02899-0|           830|10.86|\n",
       "|027458|                01/24|   4595390161573|        JCB 15 digit|       438|     GB08PCUS795009233...|2022-12-24|22:14:27| 155.165.182.67|7e35:5372:a8d2:99...|   86066105|089889624|   6939379|089889624|16.294.870/0001-50|     2001-06-29|4718107862235|1-346-02899-0|           830|10.86|\n",
       "|027534|                04/30| 341201325730846|    American Express|       724|     GB51YZOU341035018...|2022-05-24|06:03:17| 179.57.223.203|8821:e434:12e0:78...|  98301-728|028590563|   1220093|028590563|83.652.071/0001-04|     2017-10-01|4098655700235|0-09-656628-0|           580|18.31|\n",
       "|027693|                10/27|  30417576698633|       VISA 13 digit|       021|     GB15BSAQ747167733...|2022-09-18|14:15:31|    82.78.32.15|30cd:6dff:9bae:db...|  10828-649|089889624|   5525063|089889624|16.294.870/0001-50|     2001-06-29|4718107862235|1-346-02899-0|           830|10.86|\n",
       "|028136|                07/32| 213138242609957|        JCB 15 digit|       387|     GB30WYCM492053915...|2021-03-09|19:05:20| 165.155.35.235|bbd8:e967:de71:f1...|  40025-011|028590563|   4379849|028590563|83.652.071/0001-04|     2017-10-01|4098655700235|0-09-656628-0|           580|18.31|\n",
       "|029758|                02/30|3541503490537126|    American Express|       195|     GB93ZUZX995042659...|2022-06-17|05:14:31| 34.115.251.249|88c8:19e6:a1ce:f1...|   99742343|031940993|   4657085|031940993|03.854.176/0001-07|     2018-01-06|8713441956769|1-380-31131-4|           798|16.98|\n",
       "|031594|                09/27|  36861285627439|             Maestro|       393|     GB95NDPF758548474...|2020-09-07|16:29:48| 65.141.217.106|2089:39e5:609e:af...|  23272-551|019488257|   6544316|019488257|56.783.210/0001-58|     2013-05-19|3993489629534|0-589-10612-0|           734|17.11|\n",
       "|032418|                07/26| 180086279614573|       VISA 16 digit|       576|     GB82ZALE016986811...|2020-07-16|10:55:36| 134.187.20.204|6048:5f72:a506:4b...|  58250-895|031940993|   1442665|031940993|03.854.176/0001-07|     2018-01-06|8713441956769|1-380-31131-4|           798|16.98|\n",
       "+------+---------------------+----------------+--------------------+----------+-------------------------+----------+--------+---------------+--------------------+-----------+---------+----------+---------+------------------+---------------+-------------+-------------+--------------+-----+\n",
       "only showing top 20 rows"
      ]
     },
     "execution_count": 8,
     "metadata": {},
     "output_type": "execute_result"
    }
   ],
   "source": [
    " # Join com condicao\n",
    "cond = [compras.cd_livro == livros.id, livros.preco < 20]\n",
    "compras.join(other=livros, on=cond, how='inner')"
   ]
  },
  {
   "cell_type": "code",
   "execution_count": 9,
   "metadata": {},
   "outputs": [
    {
     "data": {
      "text/html": [
       "<table border='1'>\n",
       "<tr><th>id</th><th>titulo</th><th>autor</th><th>cnpj_editora</th><th>data_lancamento</th><th>ean</th><th>isbn10</th><th>numero_paginas</th><th>preco</th></tr>\n",
       "<tr><td>010033025</td><td>NULL</td><td>NULL</td><td>06.849.371/0001-29</td><td>2005-07-05</td><td>3363492241854</td><td>1-196-97629-5</td><td>095</td><td>80.63</td></tr>\n",
       "<tr><td>010045097</td><td>Moby Dick&nbsp;</td><td>Herman Melville</td><td>93.167.508/0001-60</td><td>2003-12-17</td><td>5404258649298</td><td>1-198-80360-6</td><td>209</td><td>138.69</td></tr>\n",
       "<tr><td>010249547</td><td>NULL</td><td>NULL</td><td>10.345.968/0001-03</td><td>2017-12-04</td><td>7005400578046</td><td>0-7705-1411-1</td><td>246</td><td>81.2</td></tr>\n",
       "<tr><td>010325500</td><td>A Obscena Senhora D&nbsp;</td><td>Hilda Hilst</td><td>27.689.540/0001-80</td><td>2000-09-09</td><td>8793472196570</td><td>0-933627-98-X</td><td>306</td><td>30.62</td></tr>\n",
       "<tr><td>010366161</td><td>Luc&iacute;ola&nbsp;</td><td>Jos&eacute; de Alencar</td><td>70.293.541/0001-30</td><td>2022-02-18</td><td>9429320742345</td><td>0-356-75493-6</td><td>968</td><td>200.6</td></tr>\n",
       "<tr><td>010409138</td><td>Romanceiro da Inc...</td><td>Cec&iacute;lia Meireles</td><td>NULL</td><td>NULL</td><td>NULL</td><td>NULL</td><td>NULL</td><td>NULL</td></tr>\n",
       "<tr><td>010745876</td><td>Garg&acirc;ntua e Panta...</td><td>Fran&ccedil;ois Rabelais</td><td>01.427.369/0001-48</td><td>2017-06-12</td><td>0666233842154</td><td>0-14-758390-X</td><td>910</td><td>237.77</td></tr>\n",
       "<tr><td>010838220</td><td>Fic&ccedil;&otilde;es&nbsp;</td><td>Jorge Luis Borges</td><td>34.927.681/0001-50</td><td>2009-06-15</td><td>7773545068127</td><td>0-536-43094-2</td><td>368</td><td>129.9</td></tr>\n",
       "<tr><td>011195894</td><td>Journey to the En...</td><td>Louis-Ferdinand C...</td><td>NULL</td><td>NULL</td><td>NULL</td><td>NULL</td><td>NULL</td><td>NULL</td></tr>\n",
       "<tr><td>011247991</td><td>Lavoura Arcaica&nbsp;</td><td>Raduan Nassar</td><td>97.352.048/0001-09</td><td>2009-05-03</td><td>1126815895613</td><td>0-625-59780-X</td><td>616</td><td>106.29</td></tr>\n",
       "<tr><td>011267609</td><td>&Oacute;pera dos Mortos&nbsp;</td><td>Autran Dourado</td><td>65.470.981/0001-86</td><td>2007-07-27</td><td>6524135816526</td><td>1-80516-004-4</td><td>297</td><td>62.96</td></tr>\n",
       "<tr><td>011553384</td><td>NULL</td><td>NULL</td><td>40.853.726/0001-91</td><td>2015-03-28</td><td>9156435776292</td><td>0-9948946-4-3</td><td>269</td><td>20.79</td></tr>\n",
       "<tr><td>011576248</td><td>O Conto da Aia&nbsp;</td><td>Margaret Atwood</td><td>34.697.852/0001-00</td><td>2017-06-19</td><td>0932670524947</td><td>0-8158-8294-7</td><td>946</td><td>50.56</td></tr>\n",
       "<tr><td>011653983</td><td>O Tronco&nbsp;</td><td>Bernardo &Eacute;lis</td><td>20.349.157/0001-34</td><td>2009-03-06</td><td>9259604942426</td><td>1-949368-17-3</td><td>026</td><td>50.57</td></tr>\n",
       "<tr><td>011997254</td><td>Cana&atilde;&nbsp;</td><td>Gra&ccedil;a Aranha</td><td>NULL</td><td>NULL</td><td>NULL</td><td>NULL</td><td>NULL</td><td>NULL</td></tr>\n",
       "<tr><td>012034239</td><td>Espumas Flutuantes&nbsp;</td><td>Castro Alves</td><td>72.514.380/0001-93</td><td>2015-06-10</td><td>0382801014395</td><td>1-317-72702-9</td><td>290</td><td>129.74</td></tr>\n",
       "<tr><td>012242979</td><td>Faithful and Virt...</td><td>Louise Gl&uuml;ck</td><td>27.358.691/0001-56</td><td>2010-08-09</td><td>0284854891179</td><td>1-329-90922-4</td><td>101</td><td>109.68</td></tr>\n",
       "<tr><td>012331534</td><td>NULL</td><td>NULL</td><td>84.317.925/0001-50</td><td>2010-05-29</td><td>3177832263150</td><td>1-62649-755-9</td><td>129</td><td>175.67</td></tr>\n",
       "<tr><td>012401215</td><td>Rebecca&nbsp;</td><td>Daphne du Maurier</td><td>15.209.874/0001-20</td><td>2018-02-20</td><td>9130572281611</td><td>1-159-82903-9</td><td>773</td><td>51.84</td></tr>\n",
       "<tr><td>012413805</td><td>NULL</td><td>NULL</td><td>16.948.253/0001-21</td><td>2016-10-13</td><td>7081447826562</td><td>0-266-19518-0</td><td>090</td><td>78.97</td></tr>\n",
       "</table>\n",
       "only showing top 20 rows\n"
      ],
      "text/plain": [
       "+---------+--------------------+--------------------+------------------+---------------+-------------+-------------+--------------+------+\n",
       "|       id|              titulo|               autor|      cnpj_editora|data_lancamento|          ean|       isbn10|numero_paginas| preco|\n",
       "+---------+--------------------+--------------------+------------------+---------------+-------------+-------------+--------------+------+\n",
       "|010033025|                NULL|                NULL|06.849.371/0001-29|     2005-07-05|3363492241854|1-196-97629-5|           095| 80.63|\n",
       "|010045097|          Moby Dick |     Herman Melville|93.167.508/0001-60|     2003-12-17|5404258649298|1-198-80360-6|           209|138.69|\n",
       "|010249547|                NULL|                NULL|10.345.968/0001-03|     2017-12-04|7005400578046|0-7705-1411-1|           246|  81.2|\n",
       "|010325500|A Obscena Senhora D |         Hilda Hilst|27.689.540/0001-80|     2000-09-09|8793472196570|0-933627-98-X|           306| 30.62|\n",
       "|010366161|            Lucíola |     José de Alencar|70.293.541/0001-30|     2022-02-18|9429320742345|0-356-75493-6|           968| 200.6|\n",
       "|010409138|Romanceiro da Inc...|    Cecília Meireles|              NULL|           NULL|         NULL|         NULL|          NULL|  NULL|\n",
       "|010745876|Gargântua e Panta...|   François Rabelais|01.427.369/0001-48|     2017-06-12|0666233842154|0-14-758390-X|           910|237.77|\n",
       "|010838220|            Ficções |   Jorge Luis Borges|34.927.681/0001-50|     2009-06-15|7773545068127|0-536-43094-2|           368| 129.9|\n",
       "|011195894|Journey to the En...|Louis-Ferdinand C...|              NULL|           NULL|         NULL|         NULL|          NULL|  NULL|\n",
       "|011247991|    Lavoura Arcaica |       Raduan Nassar|97.352.048/0001-09|     2009-05-03|1126815895613|0-625-59780-X|           616|106.29|\n",
       "|011267609|   Ópera dos Mortos |      Autran Dourado|65.470.981/0001-86|     2007-07-27|6524135816526|1-80516-004-4|           297| 62.96|\n",
       "|011553384|                NULL|                NULL|40.853.726/0001-91|     2015-03-28|9156435776292|0-9948946-4-3|           269| 20.79|\n",
       "|011576248|     O Conto da Aia |     Margaret Atwood|34.697.852/0001-00|     2017-06-19|0932670524947|0-8158-8294-7|           946| 50.56|\n",
       "|011653983|           O Tronco |       Bernardo Élis|20.349.157/0001-34|     2009-03-06|9259604942426|1-949368-17-3|           026| 50.57|\n",
       "|011997254|              Canaã |        Graça Aranha|              NULL|           NULL|         NULL|         NULL|          NULL|  NULL|\n",
       "|012034239| Espumas Flutuantes |        Castro Alves|72.514.380/0001-93|     2015-06-10|0382801014395|1-317-72702-9|           290|129.74|\n",
       "|012242979|Faithful and Virt...|        Louise Glück|27.358.691/0001-56|     2010-08-09|0284854891179|1-329-90922-4|           101|109.68|\n",
       "|012331534|                NULL|                NULL|84.317.925/0001-50|     2010-05-29|3177832263150|1-62649-755-9|           129|175.67|\n",
       "|012401215|            Rebecca |   Daphne du Maurier|15.209.874/0001-20|     2018-02-20|9130572281611|1-159-82903-9|           773| 51.84|\n",
       "|012413805|                NULL|                NULL|16.948.253/0001-21|     2016-10-13|7081447826562|0-266-19518-0|           090| 78.97|\n",
       "+---------+--------------------+--------------------+------------------+---------------+-------------+-------------+--------------+------+\n",
       "only showing top 20 rows"
      ]
     },
     "execution_count": 9,
     "metadata": {},
     "output_type": "execute_result"
    }
   ],
   "source": [
    " # Full Join\n",
    "autores.join(other=livros, on='id', how='full')"
   ]
  },
  {
   "cell_type": "code",
   "execution_count": 10,
   "metadata": {},
   "outputs": [
    {
     "data": {
      "text/html": [
       "<table border='1'>\n",
       "<tr><th>id</th><th>titulo</th><th>autor</th><th>id</th><th>cnpj_editora</th><th>data_lancamento</th><th>ean</th><th>isbn10</th><th>numero_paginas</th><th>preco</th></tr>\n",
       "<tr><td>106042959</td><td>1984&nbsp;</td><td>George Orwell</td><td>102961160</td><td>54.317.982/0001-79</td><td>2011-09-19</td><td>4367115749184</td><td>0-06-594558-1</td><td>516</td><td>113.84</td></tr>\n",
       "<tr><td>017551704</td><td>200 Cr&ocirc;nicas Esco...</td><td>Rubem Braga</td><td>102961160</td><td>54.317.982/0001-79</td><td>2011-09-19</td><td>4367115749184</td><td>0-06-594558-1</td><td>516</td><td>113.84</td></tr>\n",
       "<tr><td>054099410</td><td>A Alma Encantador...</td><td>Jo&atilde;o do Rio</td><td>102961160</td><td>54.317.982/0001-79</td><td>2011-09-19</td><td>4367115749184</td><td>0-06-594558-1</td><td>516</td><td>113.84</td></tr>\n",
       "<tr><td>128422117</td><td>A Biblioteca da M...</td><td>Matt Haig</td><td>102961160</td><td>54.317.982/0001-79</td><td>2011-09-19</td><td>4367115749184</td><td>0-06-594558-1</td><td>516</td><td>113.84</td></tr>\n",
       "<tr><td>049141399</td><td>A Coleira do C&atilde;o&nbsp;</td><td>Rubem Fonseca</td><td>102961160</td><td>54.317.982/0001-79</td><td>2011-09-19</td><td>4367115749184</td><td>0-06-594558-1</td><td>516</td><td>113.84</td></tr>\n",
       "<tr><td>065490862</td><td>A Cor P&uacute;rpura&nbsp;</td><td>Alice Walker</td><td>102961160</td><td>54.317.982/0001-79</td><td>2011-09-19</td><td>4367115749184</td><td>0-06-594558-1</td><td>516</td><td>113.84</td></tr>\n",
       "<tr><td>029077001</td><td>A Educa&ccedil;&atilde;o Sentim...</td><td>Gustave Flaubert</td><td>102961160</td><td>54.317.982/0001-79</td><td>2011-09-19</td><td>4367115749184</td><td>0-06-594558-1</td><td>516</td><td>113.84</td></tr>\n",
       "<tr><td>032275599</td><td>A Escrava Isaura&nbsp;</td><td>Bernardo Guimar&atilde;es</td><td>102961160</td><td>54.317.982/0001-79</td><td>2011-09-19</td><td>4367115749184</td><td>0-06-594558-1</td><td>516</td><td>113.84</td></tr>\n",
       "<tr><td>090690941</td><td>A Estrela Sobe&nbsp;</td><td>Marques Rebelo</td><td>102961160</td><td>54.317.982/0001-79</td><td>2011-09-19</td><td>4367115749184</td><td>0-06-594558-1</td><td>516</td><td>113.84</td></tr>\n",
       "<tr><td>095695255</td><td>A Hora da Estrela&nbsp;</td><td>Clarice Lispector</td><td>102961160</td><td>54.317.982/0001-79</td><td>2011-09-19</td><td>4367115749184</td><td>0-06-594558-1</td><td>516</td><td>113.84</td></tr>\n",
       "<tr><td>036365230</td><td>A Hora dos Rumina...</td><td>Jos&eacute; J. Veiga</td><td>102961160</td><td>54.317.982/0001-79</td><td>2011-09-19</td><td>4367115749184</td><td>0-06-594558-1</td><td>516</td><td>113.84</td></tr>\n",
       "<tr><td>069146824</td><td>A Letra Escarlate&nbsp;</td><td>Nathaniel Hawthorne</td><td>102961160</td><td>54.317.982/0001-79</td><td>2011-09-19</td><td>4367115749184</td><td>0-06-594558-1</td><td>516</td><td>113.84</td></tr>\n",
       "<tr><td>025903823</td><td>A Metamorfose&nbsp;</td><td>Franz Kafka</td><td>102961160</td><td>54.317.982/0001-79</td><td>2011-09-19</td><td>4367115749184</td><td>0-06-594558-1</td><td>516</td><td>113.84</td></tr>\n",
       "<tr><td>015903574</td><td>A Montanha M&aacute;gica&nbsp;</td><td>Thomas Mann</td><td>102961160</td><td>54.317.982/0001-79</td><td>2011-09-19</td><td>4367115749184</td><td>0-06-594558-1</td><td>516</td><td>113.84</td></tr>\n",
       "<tr><td>076938216</td><td>A Moreninha&nbsp;</td><td>Joaquim Manuel de...</td><td>102961160</td><td>54.317.982/0001-79</td><td>2011-09-19</td><td>4367115749184</td><td>0-06-594558-1</td><td>516</td><td>113.84</td></tr>\n",
       "<tr><td>010325500</td><td>A Obscena Senhora D&nbsp;</td><td>Hilda Hilst</td><td>102961160</td><td>54.317.982/0001-79</td><td>2011-09-19</td><td>4367115749184</td><td>0-06-594558-1</td><td>516</td><td>113.84</td></tr>\n",
       "<tr><td>095678890</td><td>A Paix&atilde;o Segundo ...</td><td>Clarice Lispector</td><td>102961160</td><td>54.317.982/0001-79</td><td>2011-09-19</td><td>4367115749184</td><td>0-06-594558-1</td><td>516</td><td>113.84</td></tr>\n",
       "<tr><td>073269564</td><td>A Revolu&ccedil;&atilde;o dos B...</td><td>George Orwell</td><td>102961160</td><td>54.317.982/0001-79</td><td>2011-09-19</td><td>4367115749184</td><td>0-06-594558-1</td><td>516</td><td>113.84</td></tr>\n",
       "<tr><td>076121829</td><td>A Rosa do Povo&nbsp;</td><td>Carlos Drummond d...</td><td>102961160</td><td>54.317.982/0001-79</td><td>2011-09-19</td><td>4367115749184</td><td>0-06-594558-1</td><td>516</td><td>113.84</td></tr>\n",
       "<tr><td>087365849</td><td>A Senhorita Simpson&nbsp;</td><td>S&eacute;rgio Sant&rsquo;anna</td><td>102961160</td><td>54.317.982/0001-79</td><td>2011-09-19</td><td>4367115749184</td><td>0-06-594558-1</td><td>516</td><td>113.84</td></tr>\n",
       "</table>\n",
       "only showing top 20 rows\n"
      ],
      "text/plain": [
       "+---------+--------------------+--------------------+---------+------------------+---------------+-------------+-------------+--------------+------+\n",
       "|       id|              titulo|               autor|       id|      cnpj_editora|data_lancamento|          ean|       isbn10|numero_paginas| preco|\n",
       "+---------+--------------------+--------------------+---------+------------------+---------------+-------------+-------------+--------------+------+\n",
       "|106042959|               1984 |       George Orwell|102961160|54.317.982/0001-79|     2011-09-19|4367115749184|0-06-594558-1|           516|113.84|\n",
       "|017551704|200 Crônicas Esco...|         Rubem Braga|102961160|54.317.982/0001-79|     2011-09-19|4367115749184|0-06-594558-1|           516|113.84|\n",
       "|054099410|A Alma Encantador...|         João do Rio|102961160|54.317.982/0001-79|     2011-09-19|4367115749184|0-06-594558-1|           516|113.84|\n",
       "|128422117|A Biblioteca da M...|           Matt Haig|102961160|54.317.982/0001-79|     2011-09-19|4367115749184|0-06-594558-1|           516|113.84|\n",
       "|049141399|   A Coleira do Cão |       Rubem Fonseca|102961160|54.317.982/0001-79|     2011-09-19|4367115749184|0-06-594558-1|           516|113.84|\n",
       "|065490862|      A Cor Púrpura |        Alice Walker|102961160|54.317.982/0001-79|     2011-09-19|4367115749184|0-06-594558-1|           516|113.84|\n",
       "|029077001|A Educação Sentim...|    Gustave Flaubert|102961160|54.317.982/0001-79|     2011-09-19|4367115749184|0-06-594558-1|           516|113.84|\n",
       "|032275599|   A Escrava Isaura |  Bernardo Guimarães|102961160|54.317.982/0001-79|     2011-09-19|4367115749184|0-06-594558-1|           516|113.84|\n",
       "|090690941|     A Estrela Sobe |      Marques Rebelo|102961160|54.317.982/0001-79|     2011-09-19|4367115749184|0-06-594558-1|           516|113.84|\n",
       "|095695255|  A Hora da Estrela |   Clarice Lispector|102961160|54.317.982/0001-79|     2011-09-19|4367115749184|0-06-594558-1|           516|113.84|\n",
       "|036365230|A Hora dos Rumina...|       José J. Veiga|102961160|54.317.982/0001-79|     2011-09-19|4367115749184|0-06-594558-1|           516|113.84|\n",
       "|069146824|  A Letra Escarlate | Nathaniel Hawthorne|102961160|54.317.982/0001-79|     2011-09-19|4367115749184|0-06-594558-1|           516|113.84|\n",
       "|025903823|      A Metamorfose |         Franz Kafka|102961160|54.317.982/0001-79|     2011-09-19|4367115749184|0-06-594558-1|           516|113.84|\n",
       "|015903574|  A Montanha Mágica |         Thomas Mann|102961160|54.317.982/0001-79|     2011-09-19|4367115749184|0-06-594558-1|           516|113.84|\n",
       "|076938216|        A Moreninha |Joaquim Manuel de...|102961160|54.317.982/0001-79|     2011-09-19|4367115749184|0-06-594558-1|           516|113.84|\n",
       "|010325500|A Obscena Senhora D |         Hilda Hilst|102961160|54.317.982/0001-79|     2011-09-19|4367115749184|0-06-594558-1|           516|113.84|\n",
       "|095678890|A Paixão Segundo ...|   Clarice Lispector|102961160|54.317.982/0001-79|     2011-09-19|4367115749184|0-06-594558-1|           516|113.84|\n",
       "|073269564|A Revolução dos B...|       George Orwell|102961160|54.317.982/0001-79|     2011-09-19|4367115749184|0-06-594558-1|           516|113.84|\n",
       "|076121829|     A Rosa do Povo |Carlos Drummond d...|102961160|54.317.982/0001-79|     2011-09-19|4367115749184|0-06-594558-1|           516|113.84|\n",
       "|087365849|A Senhorita Simpson |    Sérgio Sant’anna|102961160|54.317.982/0001-79|     2011-09-19|4367115749184|0-06-594558-1|           516|113.84|\n",
       "+---------+--------------------+--------------------+---------+------------------+---------------+-------------+-------------+--------------+------+\n",
       "only showing top 20 rows"
      ]
     },
     "execution_count": 10,
     "metadata": {},
     "output_type": "execute_result"
    }
   ],
   "source": [
    " # Cross Join\n",
    "autores.join(other=livros, how='cross')"
   ]
  }
 ],
 "metadata": {
  "kernelspec": {
   "display_name": "Python 3",
   "language": "python",
   "name": "python3"
  },
  "language_info": {
   "codemirror_mode": {
    "name": "ipython",
    "version": 3
   },
   "file_extension": ".py",
   "mimetype": "text/x-python",
   "name": "python",
   "nbconvert_exporter": "python",
   "pygments_lexer": "ipython3",
   "version": "3.11.8"
  }
 },
 "nbformat": 4,
 "nbformat_minor": 2
}
