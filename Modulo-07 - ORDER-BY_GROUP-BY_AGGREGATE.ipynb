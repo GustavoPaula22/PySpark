{
 "cells": [
  {
   "cell_type": "code",
   "execution_count": null,
   "metadata": {},
   "outputs": [],
   "source": [
    "!pip install pyspark==3.3.2"
   ]
  },
  {
   "cell_type": "code",
   "execution_count": 1,
   "metadata": {},
   "outputs": [],
   "source": [
    "from pyspark.sql import SparkSession\n",
    "import pyspark.sql.functions as F"
   ]
  },
  {
   "cell_type": "code",
   "execution_count": 2,
   "metadata": {},
   "outputs": [],
   "source": [
    "spark = (\n",
    "    SparkSession.builder.appName('Treinamento-02')\n",
    "    .config('spark.sql.repl.eagerEval.enabled', True)\n",
    "    .getOrCreate()\n",
    ")"
   ]
  },
  {
   "cell_type": "code",
   "execution_count": 3,
   "metadata": {},
   "outputs": [],
   "source": [
    "df = spark.read.parquet(r'C:\\Meus\\Projetos\\Python\\VsCode\\Bases\\DATASETS\\LOGINS.parquet')"
   ]
  },
  {
   "cell_type": "code",
   "execution_count": 4,
   "metadata": {},
   "outputs": [
    {
     "data": {
      "text/html": [
       "<table border='1'>\n",
       "<tr><th>cpf</th><th>email</th><th>senha</th><th>data_de_nascimento</th><th>estado</th><th>data_cadastro</th><th>ipv4</th><th>cor_favorita</th><th>profissao</th><th>telefone</th></tr>\n",
       "<tr><td>981.507.362-12</td><td>pedro-lucas53@gma...</td><td>+7^7E%xFBc</td><td>2006-12-18</td><td>RR</td><td>2023-02-26</td><td>99.107.250.210</td><td>Roxo</td><td>Jogador De Golfe</td><td>31 7785-4046</td></tr>\n",
       "<tr><td>493.705.168-75</td><td>rezendeisaac@hotm...</td><td>_O_2GRnGOe</td><td>1992-06-17</td><td>GO</td><td>2023-02-16</td><td>197.11.26.213</td><td>Ciano</td><td>Atleta De Arremes...</td><td>(031) 0803-6753</td></tr>\n",
       "<tr><td>398.471.625-73</td><td>felipepires@uol.c...</td><td>*Aw5EOAvy9</td><td>1921-11-11</td><td>MG</td><td>2023-01-02</td><td>181.90.63.58</td><td>Azul</td><td>Papiloscopista</td><td>11 9674-0553</td></tr>\n",
       "<tr><td>092.618.354-06</td><td>stellamoraes@bol....</td><td>mw0AWYAs#s</td><td>2021-06-01</td><td>AC</td><td>2023-01-08</td><td>26.121.127.94</td><td>Marrom</td><td>Aeromo&ccedil;a</td><td>+55 (071) 3033 9177</td></tr>\n",
       "<tr><td>509.427.136-99</td><td>wcarvalho@ig.com.br</td><td>pGD%!2Pq5X</td><td>1969-10-28</td><td>AP</td><td>2023-02-14</td><td>76.184.52.163</td><td>Laranja</td><td>Fonoaudi&oacute;logo</td><td>+55 (071) 6272 2468</td></tr>\n",
       "<tr><td>218.795.460-94</td><td>da-conceicaodavi-...</td><td>uhBbFxPA&amp;9</td><td>1986-05-19</td><td>MG</td><td>2023-03-07</td><td>192.93.0.24</td><td>Rosa</td><td>Taxista</td><td>+55 84 0652 9691</td></tr>\n",
       "<tr><td>715.836.940-48</td><td>efreitas@bol.com.br</td><td>s#q9VZt&amp;xl</td><td>2018-04-20</td><td>MG</td><td>2023-01-13</td><td>76.251.188.148</td><td>Branco</td><td>Produtor De Audio...</td><td>+55 (084) 1363 0052</td></tr>\n",
       "<tr><td>475.698.032-56</td><td>wnunes@bol.com.br</td><td>_8az1W%n7g</td><td>1996-05-12</td><td>SE</td><td>2023-02-04</td><td>139.196.176.154</td><td>Azul</td><td>Cadeirinha</td><td>(071) 1640-3388</td></tr>\n",
       "<tr><td>217.639.540-99</td><td>jribeiro@bol.com.br</td><td>MEf1X7fj_0</td><td>2021-10-05</td><td>PA</td><td>2023-03-02</td><td>71.22.224.5</td><td>Marrom</td><td>Ge&oacute;logo</td><td>21 1432 4092</td></tr>\n",
       "<tr><td>261.938.750-77</td><td>murilo05@gmail.com</td><td>Te&amp;gO7GkKs</td><td>1917-01-05</td><td>MT</td><td>2023-02-21</td><td>136.54.123.165</td><td>Marrom</td><td>T&eacute;cnico De Som</td><td>+55 (084) 5878-3346</td></tr>\n",
       "<tr><td>520.831.796-68</td><td>joaquim57@ig.com.br</td><td>&amp;2E1NY+ARc</td><td>1912-05-25</td><td>BA</td><td>2023-01-25</td><td>78.196.255.126</td><td>Rosa</td><td>Esteticista</td><td>41 7914-3753</td></tr>\n",
       "<tr><td>413.087.526-44</td><td>alexiada-rocha@ig...</td><td>@f@!Z!2c*2</td><td>1920-05-26</td><td>MS</td><td>2023-02-18</td><td>182.61.65.201</td><td>Laranja</td><td>Microfonista</td><td>(021) 3739-2944</td></tr>\n",
       "<tr><td>509.287.143-14</td><td>pmendes@gmail.com</td><td>M+^XDBfe(2</td><td>1938-03-11</td><td>RR</td><td>2023-01-19</td><td>61.234.208.17</td><td>Verde Claro</td><td>Fiscal</td><td>+55 (084) 5940-1932</td></tr>\n",
       "<tr><td>563.170.492-70</td><td>renan46@bol.com.br</td><td>Rp%2pVqfe$</td><td>1922-09-01</td><td>PA</td><td>2023-02-01</td><td>122.203.83.177</td><td>Verde Escuro</td><td>Contabilista</td><td>+55 41 6248 5773</td></tr>\n",
       "<tr><td>098.712.346-78</td><td>manuelada-rosa@ho...</td><td>#hEIEOztQ3</td><td>2013-01-10</td><td>SE</td><td>2023-01-07</td><td>175.18.73.211</td><td>Violeta</td><td>Seguidor De Compras</td><td>51 0278 0564</td></tr>\n",
       "<tr><td>345.709.261-34</td><td>usales@ig.com.br</td><td>b_8xaY$ozJ</td><td>1992-10-16</td><td>AM</td><td>2023-01-05</td><td>97.93.29.75</td><td>Rosa</td><td>Almirante</td><td>(084) 8993-4521</td></tr>\n",
       "<tr><td>318.254.906-51</td><td>pereiranicolas@ho...</td><td>YA9I85Wb+2</td><td>1945-11-18</td><td>MA</td><td>2023-01-24</td><td>182.195.33.137</td><td>Amarelo</td><td>Consultor De Moda</td><td>(084) 4591 3795</td></tr>\n",
       "<tr><td>610.287.453-62</td><td>cardosolivia@ig.c...</td><td>yXkDW7Ebh*</td><td>1915-11-15</td><td>GO</td><td>2023-01-22</td><td>195.194.63.184</td><td>Laranja</td><td>Barbeiro</td><td>+55 61 8967-9563</td></tr>\n",
       "<tr><td>615.790.842-49</td><td>brenda39@ig.com.br</td><td>XS$84Hpsnw</td><td>1964-02-01</td><td>RJ</td><td>2023-02-16</td><td>21.252.226.29</td><td>Branco</td><td>Promotor De Vendas</td><td>+55 (021) 4751 2004</td></tr>\n",
       "<tr><td>624.095.138-24</td><td>luizapeixoto@gmai...</td><td>TbKy82Kda$</td><td>1959-02-01</td><td>DF</td><td>2023-02-25</td><td>105.107.23.13</td><td>Ciano</td><td>Implantodontista</td><td>84 1293 1906</td></tr>\n",
       "</table>\n",
       "only showing top 20 rows\n"
      ],
      "text/plain": [
       "+--------------+--------------------+----------+------------------+------+-------------+---------------+------------+--------------------+-------------------+\n",
       "|           cpf|               email|     senha|data_de_nascimento|estado|data_cadastro|           ipv4|cor_favorita|           profissao|           telefone|\n",
       "+--------------+--------------------+----------+------------------+------+-------------+---------------+------------+--------------------+-------------------+\n",
       "|981.507.362-12|pedro-lucas53@gma...|+7^7E%xFBc|        2006-12-18|    RR|   2023-02-26| 99.107.250.210|        Roxo|    Jogador De Golfe|       31 7785-4046|\n",
       "|493.705.168-75|rezendeisaac@hotm...|_O_2GRnGOe|        1992-06-17|    GO|   2023-02-16|  197.11.26.213|       Ciano|Atleta De Arremes...|    (031) 0803-6753|\n",
       "|398.471.625-73|felipepires@uol.c...|*Aw5EOAvy9|        1921-11-11|    MG|   2023-01-02|   181.90.63.58|        Azul|      Papiloscopista|       11 9674-0553|\n",
       "|092.618.354-06|stellamoraes@bol....|mw0AWYAs#s|        2021-06-01|    AC|   2023-01-08|  26.121.127.94|      Marrom|            Aeromoça|+55 (071) 3033 9177|\n",
       "|509.427.136-99| wcarvalho@ig.com.br|pGD%!2Pq5X|        1969-10-28|    AP|   2023-02-14|  76.184.52.163|     Laranja|       Fonoaudiólogo|+55 (071) 6272 2468|\n",
       "|218.795.460-94|da-conceicaodavi-...|uhBbFxPA&9|        1986-05-19|    MG|   2023-03-07|    192.93.0.24|        Rosa|             Taxista|   +55 84 0652 9691|\n",
       "|715.836.940-48| efreitas@bol.com.br|s#q9VZt&xl|        2018-04-20|    MG|   2023-01-13| 76.251.188.148|      Branco|Produtor De Audio...|+55 (084) 1363 0052|\n",
       "|475.698.032-56|   wnunes@bol.com.br|_8az1W%n7g|        1996-05-12|    SE|   2023-02-04|139.196.176.154|        Azul|          Cadeirinha|    (071) 1640-3388|\n",
       "|217.639.540-99| jribeiro@bol.com.br|MEf1X7fj_0|        2021-10-05|    PA|   2023-03-02|    71.22.224.5|      Marrom|             Geólogo|       21 1432 4092|\n",
       "|261.938.750-77|  murilo05@gmail.com|Te&gO7GkKs|        1917-01-05|    MT|   2023-02-21| 136.54.123.165|      Marrom|      Técnico De Som|+55 (084) 5878-3346|\n",
       "|520.831.796-68| joaquim57@ig.com.br|&2E1NY+ARc|        1912-05-25|    BA|   2023-01-25| 78.196.255.126|        Rosa|         Esteticista|       41 7914-3753|\n",
       "|413.087.526-44|alexiada-rocha@ig...|@f@!Z!2c*2|        1920-05-26|    MS|   2023-02-18|  182.61.65.201|     Laranja|        Microfonista|    (021) 3739-2944|\n",
       "|509.287.143-14|   pmendes@gmail.com|M+^XDBfe(2|        1938-03-11|    RR|   2023-01-19|  61.234.208.17| Verde Claro|              Fiscal|+55 (084) 5940-1932|\n",
       "|563.170.492-70|  renan46@bol.com.br|Rp%2pVqfe$|        1922-09-01|    PA|   2023-02-01| 122.203.83.177|Verde Escuro|        Contabilista|   +55 41 6248 5773|\n",
       "|098.712.346-78|manuelada-rosa@ho...|#hEIEOztQ3|        2013-01-10|    SE|   2023-01-07|  175.18.73.211|     Violeta| Seguidor De Compras|       51 0278 0564|\n",
       "|345.709.261-34|    usales@ig.com.br|b_8xaY$ozJ|        1992-10-16|    AM|   2023-01-05|    97.93.29.75|        Rosa|           Almirante|    (084) 8993-4521|\n",
       "|318.254.906-51|pereiranicolas@ho...|YA9I85Wb+2|        1945-11-18|    MA|   2023-01-24| 182.195.33.137|     Amarelo|   Consultor De Moda|    (084) 4591 3795|\n",
       "|610.287.453-62|cardosolivia@ig.c...|yXkDW7Ebh*|        1915-11-15|    GO|   2023-01-22| 195.194.63.184|     Laranja|            Barbeiro|   +55 61 8967-9563|\n",
       "|615.790.842-49|  brenda39@ig.com.br|XS$84Hpsnw|        1964-02-01|    RJ|   2023-02-16|  21.252.226.29|      Branco|  Promotor De Vendas|+55 (021) 4751 2004|\n",
       "|624.095.138-24|luizapeixoto@gmai...|TbKy82Kda$|        1959-02-01|    DF|   2023-02-25|  105.107.23.13|       Ciano|    Implantodontista|       84 1293 1906|\n",
       "+--------------+--------------------+----------+------------------+------+-------------+---------------+------------+--------------------+-------------------+\n",
       "only showing top 20 rows"
      ]
     },
     "execution_count": 4,
     "metadata": {},
     "output_type": "execute_result"
    }
   ],
   "source": [
    "df"
   ]
  },
  {
   "cell_type": "code",
   "execution_count": 11,
   "metadata": {},
   "outputs": [
    {
     "data": {
      "text/html": [
       "<table border='1'>\n",
       "<tr><th>cpf</th><th>email</th><th>senha</th><th>data_de_nascimento</th><th>estado</th><th>data_cadastro</th><th>ipv4</th><th>cor_favorita</th><th>profissao</th><th>telefone</th></tr>\n",
       "<tr><td>392.615.704-61</td><td>luiz-henrique62@y...</td><td>NE+1Up(Iyx</td><td>2022-01-12</td><td>AC</td><td>2023-03-14</td><td>78.158.15.10</td><td>Roxo</td><td>Oculista</td><td>+55 11 4782-0994</td></tr>\n",
       "<tr><td>092.618.354-06</td><td>stellamoraes@bol....</td><td>mw0AWYAs#s</td><td>2021-06-01</td><td>AC</td><td>2023-01-08</td><td>26.121.127.94</td><td>Marrom</td><td>Aeromo&ccedil;a</td><td>+55 (071) 3033 9177</td></tr>\n",
       "<tr><td>048.321.596-15</td><td>nunesbryan@hotmai...</td><td>Dg0D8rT5x*</td><td>2015-10-31</td><td>AC</td><td>2023-02-19</td><td>91.2.110.119</td><td>Azul</td><td>Personal Stylist</td><td>+55 84 2533-4191</td></tr>\n",
       "<tr><td>587.194.036-66</td><td>pedro-henrique62@...</td><td>wN1FOvl4c_</td><td>2011-06-04</td><td>AC</td><td>2023-02-14</td><td>138.235.184.248</td><td>Preto</td><td>Camel&ocirc;</td><td>81 8156-9596</td></tr>\n",
       "<tr><td>640.819.273-40</td><td>ccampos@yahoo.com.br</td><td>2(1Zl@#aZT</td><td>2010-06-10</td><td>AC</td><td>2023-01-28</td><td>115.38.244.24</td><td>Azul</td><td>Pedicure</td><td>+55 71 9382-8891</td></tr>\n",
       "<tr><td>069.382.471-96</td><td>bernardo78@gmail.com</td><td>2oQQtOOW!5</td><td>2003-10-11</td><td>AC</td><td>2023-01-08</td><td>153.126.72.36</td><td>Roxo</td><td>Major</td><td>61 8633 7694</td></tr>\n",
       "<tr><td>561.438.072-80</td><td>ymoraes@ig.com.br</td><td>c(6&amp;FoouMR</td><td>1998-02-23</td><td>AC</td><td>2023-02-15</td><td>8.207.21.132</td><td>Marrom</td><td>Odontologista Pre...</td><td>(061) 5069 4948</td></tr>\n",
       "<tr><td>340.879.561-48</td><td>ana-vitoria98@gma...</td><td>i0_lIkL9)P</td><td>1994-08-12</td><td>AC</td><td>2023-01-04</td><td>121.45.91.188</td><td>Marrom</td><td>Gestor De Recurso...</td><td>0300 277 1989</td></tr>\n",
       "<tr><td>417.902.385-79</td><td>vda-cruz@bol.com.br</td><td>g8NiwxWC_z</td><td>1994-05-11</td><td>AC</td><td>2023-02-07</td><td>146.83.148.200</td><td>Ciano</td><td>Profissional De I...</td><td>+55 (071) 9845-9087</td></tr>\n",
       "<tr><td>613.948.520-70</td><td>julia44@gmail.com</td><td>&amp;asN*lDI2f</td><td>1992-07-06</td><td>AC</td><td>2023-01-18</td><td>182.219.231.186</td><td>Branco</td><td>Manicure</td><td>+55 21 9340 4355</td></tr>\n",
       "<tr><td>245.891.307-50</td><td>souzamaria-luiza@...</td><td>f!Yj8Whpal</td><td>1992-03-19</td><td>AC</td><td>2023-03-12</td><td>90.220.127.58</td><td>Rosa</td><td>Nutrologista</td><td>+55 (071) 9265 9745</td></tr>\n",
       "<tr><td>127.643.985-73</td><td>emoraes@ig.com.br</td><td>!J6u!cSjPW</td><td>1988-09-13</td><td>AC</td><td>2023-01-28</td><td>18.170.136.154</td><td>Preto</td><td>Quiropraxista</td><td>+55 81 0646 7649</td></tr>\n",
       "<tr><td>107.896.452-11</td><td>noliveira@ig.com.br</td><td>_yz7O!TmJ)</td><td>1983-04-18</td><td>AC</td><td>2023-02-01</td><td>40.237.149.73</td><td>Azul Escuro</td><td>Diplomata</td><td>+55 61 8031 9299</td></tr>\n",
       "<tr><td>852.637.194-00</td><td>miguel01@gmail.com</td><td>*0H6kcApJz</td><td>1980-01-26</td><td>AC</td><td>2023-01-11</td><td>54.56.177.130</td><td>Marrom</td><td>Pol&iacute;tico</td><td>(041) 7434-8164</td></tr>\n",
       "<tr><td>496.703.258-38</td><td>nuneskevin@bol.co...</td><td>t2ZhCYvQ(N</td><td>1979-07-19</td><td>AC</td><td>2023-03-07</td><td>147.47.117.28</td><td>Rosa</td><td>Motorista</td><td>81 2452 1195</td></tr>\n",
       "<tr><td>803.697.254-92</td><td>da-luzjoana@gmail...</td><td>*ubv^RIl+8</td><td>1977-03-30</td><td>AC</td><td>2023-01-23</td><td>204.226.56.149</td><td>Marrom</td><td>Fisioterapeuta</td><td>(084) 9169-7053</td></tr>\n",
       "<tr><td>195.047.632-43</td><td>ramoseduarda@yaho...</td><td>_9$Vtn5A(E</td><td>1976-07-22</td><td>AC</td><td>2023-02-03</td><td>58.217.210.56</td><td>Branco</td><td>Engenheiro Ac&uacute;stico</td><td>61 6019-9240</td></tr>\n",
       "<tr><td>651.804.729-11</td><td>mariateixeira@hot...</td><td>&amp;LpKf0Fcx3</td><td>1976-05-15</td><td>AC</td><td>2023-03-12</td><td>65.188.181.106</td><td>Cinza</td><td>Montador De Negat...</td><td>+55 (071) 0906-0892</td></tr>\n",
       "<tr><td>789.604.513-39</td><td>ana-sophia73@uol....</td><td>5N^x%@Bw!j</td><td>1973-03-09</td><td>AC</td><td>2023-01-18</td><td>144.86.229.3</td><td>Azul</td><td>Produtor Musical</td><td>+55 (061) 7367 9582</td></tr>\n",
       "<tr><td>573.809.621-59</td><td>novaesana-julia@h...</td><td>DfbV7W1^&amp;4</td><td>1972-08-15</td><td>AC</td><td>2023-01-04</td><td>208.213.179.222</td><td>Laranja</td><td>Tecel&atilde;o</td><td>+55 (031) 6916 9086</td></tr>\n",
       "</table>\n",
       "only showing top 20 rows\n"
      ],
      "text/plain": [
       "+--------------+--------------------+----------+------------------+------+-------------+---------------+------------+--------------------+-------------------+\n",
       "|           cpf|               email|     senha|data_de_nascimento|estado|data_cadastro|           ipv4|cor_favorita|           profissao|           telefone|\n",
       "+--------------+--------------------+----------+------------------+------+-------------+---------------+------------+--------------------+-------------------+\n",
       "|392.615.704-61|luiz-henrique62@y...|NE+1Up(Iyx|        2022-01-12|    AC|   2023-03-14|   78.158.15.10|        Roxo|            Oculista|   +55 11 4782-0994|\n",
       "|092.618.354-06|stellamoraes@bol....|mw0AWYAs#s|        2021-06-01|    AC|   2023-01-08|  26.121.127.94|      Marrom|            Aeromoça|+55 (071) 3033 9177|\n",
       "|048.321.596-15|nunesbryan@hotmai...|Dg0D8rT5x*|        2015-10-31|    AC|   2023-02-19|   91.2.110.119|        Azul|    Personal Stylist|   +55 84 2533-4191|\n",
       "|587.194.036-66|pedro-henrique62@...|wN1FOvl4c_|        2011-06-04|    AC|   2023-02-14|138.235.184.248|       Preto|              Camelô|       81 8156-9596|\n",
       "|640.819.273-40|ccampos@yahoo.com.br|2(1Zl@#aZT|        2010-06-10|    AC|   2023-01-28|  115.38.244.24|        Azul|            Pedicure|   +55 71 9382-8891|\n",
       "|069.382.471-96|bernardo78@gmail.com|2oQQtOOW!5|        2003-10-11|    AC|   2023-01-08|  153.126.72.36|        Roxo|               Major|       61 8633 7694|\n",
       "|561.438.072-80|   ymoraes@ig.com.br|c(6&FoouMR|        1998-02-23|    AC|   2023-02-15|   8.207.21.132|      Marrom|Odontologista Pre...|    (061) 5069 4948|\n",
       "|340.879.561-48|ana-vitoria98@gma...|i0_lIkL9)P|        1994-08-12|    AC|   2023-01-04|  121.45.91.188|      Marrom|Gestor De Recurso...|      0300 277 1989|\n",
       "|417.902.385-79| vda-cruz@bol.com.br|g8NiwxWC_z|        1994-05-11|    AC|   2023-02-07| 146.83.148.200|       Ciano|Profissional De I...|+55 (071) 9845-9087|\n",
       "|613.948.520-70|   julia44@gmail.com|&asN*lDI2f|        1992-07-06|    AC|   2023-01-18|182.219.231.186|      Branco|            Manicure|   +55 21 9340 4355|\n",
       "|245.891.307-50|souzamaria-luiza@...|f!Yj8Whpal|        1992-03-19|    AC|   2023-03-12|  90.220.127.58|        Rosa|        Nutrologista|+55 (071) 9265 9745|\n",
       "|127.643.985-73|   emoraes@ig.com.br|!J6u!cSjPW|        1988-09-13|    AC|   2023-01-28| 18.170.136.154|       Preto|       Quiropraxista|   +55 81 0646 7649|\n",
       "|107.896.452-11| noliveira@ig.com.br|_yz7O!TmJ)|        1983-04-18|    AC|   2023-02-01|  40.237.149.73| Azul Escuro|           Diplomata|   +55 61 8031 9299|\n",
       "|852.637.194-00|  miguel01@gmail.com|*0H6kcApJz|        1980-01-26|    AC|   2023-01-11|  54.56.177.130|      Marrom|            Político|    (041) 7434-8164|\n",
       "|496.703.258-38|nuneskevin@bol.co...|t2ZhCYvQ(N|        1979-07-19|    AC|   2023-03-07|  147.47.117.28|        Rosa|           Motorista|       81 2452 1195|\n",
       "|803.697.254-92|da-luzjoana@gmail...|*ubv^RIl+8|        1977-03-30|    AC|   2023-01-23| 204.226.56.149|      Marrom|      Fisioterapeuta|    (084) 9169-7053|\n",
       "|195.047.632-43|ramoseduarda@yaho...|_9$Vtn5A(E|        1976-07-22|    AC|   2023-02-03|  58.217.210.56|      Branco| Engenheiro Acústico|       61 6019-9240|\n",
       "|651.804.729-11|mariateixeira@hot...|&LpKf0Fcx3|        1976-05-15|    AC|   2023-03-12| 65.188.181.106|       Cinza|Montador De Negat...|+55 (071) 0906-0892|\n",
       "|789.604.513-39|ana-sophia73@uol....|5N^x%@Bw!j|        1973-03-09|    AC|   2023-01-18|   144.86.229.3|        Azul|    Produtor Musical|+55 (061) 7367 9582|\n",
       "|573.809.621-59|novaesana-julia@h...|DfbV7W1^&4|        1972-08-15|    AC|   2023-01-04|208.213.179.222|     Laranja|             Tecelão|+55 (031) 6916 9086|\n",
       "+--------------+--------------------+----------+------------------+------+-------------+---------------+------------+--------------------+-------------------+\n",
       "only showing top 20 rows"
      ]
     },
     "execution_count": 11,
     "metadata": {},
     "output_type": "execute_result"
    }
   ],
   "source": [
    "# ordernar o DF\n",
    "(\n",
    "    df.orderBy(F.col('data_de_nascimento')) # ordena modo cresente asc\n",
    "    .withColumn('ordem', F.lit('ASC')) # ordena modo decresente desc\n",
    ")\n",
    "(\n",
    "    df.orderBy(F.desc(F.col('data_de_nascimento')))\n",
    "    .withColumn('ordem', F.lit('DESC')) # ordena modo decresente desc\n",
    ")\n",
    "\n",
    "# pode ser ordenado mais de uma coluna\n",
    "(\n",
    "    df.orderBy(F.asc(F.col('estado')), F.desc(F.col('data_de_nascimento')))\n",
    ")"
   ]
  },
  {
   "cell_type": "code",
   "execution_count": 19,
   "metadata": {},
   "outputs": [
    {
     "data": {
      "text/html": [
       "<table border='1'>\n",
       "<tr><th>estado</th><th>avg(count)</th></tr>\n",
       "<tr><td>SC</td><td>3.142857142857143</td></tr>\n",
       "<tr><td>RO</td><td>2.4375</td></tr>\n",
       "<tr><td>PI</td><td>2.5</td></tr>\n",
       "<tr><td>AM</td><td>2.4285714285714284</td></tr>\n",
       "<tr><td>RR</td><td>2.5384615384615383</td></tr>\n",
       "<tr><td>GO</td><td>2.8125</td></tr>\n",
       "<tr><td>TO</td><td>2.4285714285714284</td></tr>\n",
       "<tr><td>MT</td><td>2.0714285714285716</td></tr>\n",
       "<tr><td>SP</td><td>3.2666666666666666</td></tr>\n",
       "<tr><td>ES</td><td>2.533333333333333</td></tr>\n",
       "<tr><td>PB</td><td>2.2666666666666666</td></tr>\n",
       "<tr><td>RS</td><td>2.6</td></tr>\n",
       "<tr><td>MS</td><td>3.0</td></tr>\n",
       "<tr><td>AL</td><td>2.4</td></tr>\n",
       "<tr><td>MG</td><td>2.875</td></tr>\n",
       "<tr><td>PA</td><td>2.0</td></tr>\n",
       "<tr><td>BA</td><td>3.0</td></tr>\n",
       "<tr><td>SE</td><td>2.933333333333333</td></tr>\n",
       "<tr><td>PE</td><td>2.4285714285714284</td></tr>\n",
       "<tr><td>CE</td><td>2.8125</td></tr>\n",
       "</table>\n",
       "only showing top 20 rows\n"
      ],
      "text/plain": [
       "+------+------------------+\n",
       "|estado|        avg(count)|\n",
       "+------+------------------+\n",
       "|    SC| 3.142857142857143|\n",
       "|    RO|            2.4375|\n",
       "|    PI|               2.5|\n",
       "|    AM|2.4285714285714284|\n",
       "|    RR|2.5384615384615383|\n",
       "|    GO|            2.8125|\n",
       "|    TO|2.4285714285714284|\n",
       "|    MT|2.0714285714285716|\n",
       "|    SP|3.2666666666666666|\n",
       "|    ES| 2.533333333333333|\n",
       "|    PB|2.2666666666666666|\n",
       "|    RS|               2.6|\n",
       "|    MS|               3.0|\n",
       "|    AL|               2.4|\n",
       "|    MG|             2.875|\n",
       "|    PA|               2.0|\n",
       "|    BA|               3.0|\n",
       "|    SE| 2.933333333333333|\n",
       "|    PE|2.4285714285714284|\n",
       "|    CE|            2.8125|\n",
       "+------+------------------+\n",
       "only showing top 20 rows"
      ]
     },
     "execution_count": 19,
     "metadata": {},
     "output_type": "execute_result"
    }
   ],
   "source": [
    "# pode ser feito o agrupaento por uma coluna tambem\n",
    "(\n",
    "    df.groupBy(F.col('estado')).count() # agrupando e fazendo a contagem de linhas\n",
    ")\n",
    "(\n",
    "    df.groupBy(F.col('estado')).sum() # agrupando e fazendo a soma dos valores para visualizar\n",
    ")\n",
    "\n",
    "# agrupando por 2 colunas, depois fazendo a contagem de valores e agrupando eles novamente e tirando a media de registros deles \n",
    "(\n",
    "    df.groupBy(F.col('estado'), F.col('cor_favorita')).count().groupBy('estado').avg('count') \n",
    ")"
   ]
  },
  {
   "cell_type": "code",
   "execution_count": 24,
   "metadata": {},
   "outputs": [
    {
     "data": {
      "text/html": [
       "<table border='1'>\n",
       "<tr><th>cor_favorita</th><th>count(1)</th><th>sum(dia)</th><th>max(dia)</th><th>min(dia)</th><th>avg(dia)</th><th>stddev(dia)</th></tr>\n",
       "<tr><td>Preto</td><td>57</td><td>893</td><td>31</td><td>1</td><td>15.666666666666666</td><td>9.158004565354158</td></tr>\n",
       "<tr><td>Violeta</td><td>47</td><td>773</td><td>31</td><td>1</td><td>16.4468085106383</td><td>8.609419792191972</td></tr>\n",
       "<tr><td>Rosa</td><td>81</td><td>1146</td><td>31</td><td>1</td><td>14.148148148148149</td><td>8.153390569436604</td></tr>\n",
       "<tr><td>Marrom</td><td>62</td><td>916</td><td>31</td><td>1</td><td>14.774193548387096</td><td>8.952368227455667</td></tr>\n",
       "<tr><td>Ciano</td><td>59</td><td>1085</td><td>31</td><td>1</td><td>18.389830508474578</td><td>9.02681245369735</td></tr>\n",
       "<tr><td>Laranja</td><td>53</td><td>956</td><td>31</td><td>1</td><td>18.037735849056602</td><td>8.735344350904686</td></tr>\n",
       "<tr><td>Azul</td><td>76</td><td>1295</td><td>31</td><td>1</td><td>17.039473684210527</td><td>9.107419377589803</td></tr>\n",
       "<tr><td>Verde Claro</td><td>66</td><td>1179</td><td>31</td><td>1</td><td>17.863636363636363</td><td>9.121211734002424</td></tr>\n",
       "<tr><td>Roxo</td><td>64</td><td>1025</td><td>31</td><td>1</td><td>16.015625</td><td>9.005275680364543</td></tr>\n",
       "<tr><td>Branco</td><td>66</td><td>1085</td><td>31</td><td>1</td><td>16.439393939393938</td><td>9.907462281422465</td></tr>\n",
       "<tr><td>Verde Escuro</td><td>65</td><td>1103</td><td>31</td><td>1</td><td>16.96923076923077</td><td>8.96341388431542</td></tr>\n",
       "<tr><td>Azul Escuro</td><td>62</td><td>1042</td><td>31</td><td>1</td><td>16.806451612903224</td><td>9.289229987459422</td></tr>\n",
       "<tr><td>Verde</td><td>53</td><td>858</td><td>31</td><td>1</td><td>16.18867924528302</td><td>8.991569991629305</td></tr>\n",
       "<tr><td>Magenta</td><td>54</td><td>935</td><td>29</td><td>1</td><td>17.314814814814813</td><td>8.871884941650764</td></tr>\n",
       "<tr><td>Cinza</td><td>75</td><td>1208</td><td>31</td><td>1</td><td>16.106666666666666</td><td>8.658027572226912</td></tr>\n",
       "<tr><td>Amarelo</td><td>60</td><td>828</td><td>30</td><td>1</td><td>13.8</td><td>9.34607685301019</td></tr>\n",
       "</table>\n"
      ],
      "text/plain": [
       "+------------+--------+--------+--------+--------+------------------+-----------------+\n",
       "|cor_favorita|count(1)|sum(dia)|max(dia)|min(dia)|          avg(dia)|      stddev(dia)|\n",
       "+------------+--------+--------+--------+--------+------------------+-----------------+\n",
       "|       Preto|      57|     893|      31|       1|15.666666666666666|9.158004565354158|\n",
       "|     Violeta|      47|     773|      31|       1|  16.4468085106383|8.609419792191972|\n",
       "|        Rosa|      81|    1146|      31|       1|14.148148148148149|8.153390569436604|\n",
       "|      Marrom|      62|     916|      31|       1|14.774193548387096|8.952368227455667|\n",
       "|       Ciano|      59|    1085|      31|       1|18.389830508474578| 9.02681245369735|\n",
       "|     Laranja|      53|     956|      31|       1|18.037735849056602|8.735344350904686|\n",
       "|        Azul|      76|    1295|      31|       1|17.039473684210527|9.107419377589803|\n",
       "| Verde Claro|      66|    1179|      31|       1|17.863636363636363|9.121211734002424|\n",
       "|        Roxo|      64|    1025|      31|       1|         16.015625|9.005275680364543|\n",
       "|      Branco|      66|    1085|      31|       1|16.439393939393938|9.907462281422465|\n",
       "|Verde Escuro|      65|    1103|      31|       1| 16.96923076923077| 8.96341388431542|\n",
       "| Azul Escuro|      62|    1042|      31|       1|16.806451612903224|9.289229987459422|\n",
       "|       Verde|      53|     858|      31|       1| 16.18867924528302|8.991569991629305|\n",
       "|     Magenta|      54|     935|      29|       1|17.314814814814813|8.871884941650764|\n",
       "|       Cinza|      75|    1208|      31|       1|16.106666666666666|8.658027572226912|\n",
       "|     Amarelo|      60|     828|      30|       1|              13.8| 9.34607685301019|\n",
       "+------------+--------+--------+--------+--------+------------------+-----------------+"
      ]
     },
     "execution_count": 24,
     "metadata": {},
     "output_type": "execute_result"
    }
   ],
   "source": [
    " # temos o aggregate que nos permite fazer varias funções em um unico gorupBY\n",
    "df = (\n",
    "    df\n",
    "    .withColumn('dia', F.dayofmonth(F.col('data_de_nascimento')))\n",
    ")\n",
    "\n",
    "(\n",
    "    df.groupBy(F.col('cor_favorita')).agg(F.count('*'), F.sum(F.col('dia')), F.max(F.col('dia')), F.min(F.col('dia')), F.avg(F.col('dia')), F.stddev(F.col('dia')))\n",
    ")"
   ]
  }
 ],
 "metadata": {
  "kernelspec": {
   "display_name": "Python 3",
   "language": "python",
   "name": "python3"
  },
  "language_info": {
   "codemirror_mode": {
    "name": "ipython",
    "version": 3
   },
   "file_extension": ".py",
   "mimetype": "text/x-python",
   "name": "python",
   "nbconvert_exporter": "python",
   "pygments_lexer": "ipython3",
   "version": "3.11.8"
  }
 },
 "nbformat": 4,
 "nbformat_minor": 2
}
