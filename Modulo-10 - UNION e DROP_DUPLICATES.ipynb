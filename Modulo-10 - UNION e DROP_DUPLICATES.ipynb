{
 "cells": [
  {
   "cell_type": "code",
   "execution_count": null,
   "metadata": {},
   "outputs": [],
   "source": [
    "!pip install pyspark==3.3.2"
   ]
  },
  {
   "cell_type": "code",
   "execution_count": 1,
   "metadata": {},
   "outputs": [],
   "source": [
    "from pyspark.sql import SparkSession\n",
    "import pyspark.sql.functions as F"
   ]
  },
  {
   "cell_type": "code",
   "execution_count": 2,
   "metadata": {},
   "outputs": [],
   "source": [
    "spark = (\n",
    "    SparkSession.builder.appName('Treinamento-02')\n",
    "    .config('spark.sql.repl.eagerEval.enabled', True)\n",
    "    .getOrCreate()\n",
    ")"
   ]
  },
  {
   "cell_type": "code",
   "execution_count": 3,
   "metadata": {},
   "outputs": [],
   "source": [
    "autores = spark.read.parquet(r'C:\\Meus\\Projetos\\Python\\VsCode\\Bases\\DATASETS\\AUTORES.parquet')\n",
    "livros = spark.read.parquet(r'C:\\Meus\\Projetos\\Python\\VsCode\\Bases\\DATASETS\\LIVROS.parquet')\n",
    "clientes = spark.read.parquet(r'C:\\Meus\\Projetos\\Python\\VsCode\\Bases\\DATASETS\\CLIENTES.parquet')\n",
    "compras = spark.read.parquet(r'C:\\Meus\\Projetos\\Python\\VsCode\\Bases\\DATASETS\\COMPRAS.parquet')\n",
    "logins = spark.read.parquet(r'C:\\Meus\\Projetos\\Python\\VsCode\\Bases\\DATASETS\\LOGINS.parquet')"
   ]
  },
  {
   "cell_type": "code",
   "execution_count": 9,
   "metadata": {},
   "outputs": [
    {
     "data": {
      "text/html": [
       "<table border='1'>\n",
       "<tr><th>id</th><th>titulo</th><th>autor</th></tr>\n",
       "<tr><td>106042959</td><td>1984&nbsp;</td><td>George Orwell</td></tr>\n",
       "<tr><td>106042959</td><td>1984&nbsp;</td><td>George Orwell</td></tr>\n",
       "<tr><td>017551704</td><td>200 Cr&ocirc;nicas Esco...</td><td>Rubem Braga</td></tr>\n",
       "<tr><td>017551704</td><td>200 Cr&ocirc;nicas Esco...</td><td>Rubem Braga</td></tr>\n",
       "<tr><td>054099410</td><td>A Alma Encantador...</td><td>Jo&atilde;o do Rio</td></tr>\n",
       "<tr><td>054099410</td><td>A Alma Encantador...</td><td>Jo&atilde;o do Rio</td></tr>\n",
       "<tr><td>128422117</td><td>A Biblioteca da M...</td><td>Matt Haig</td></tr>\n",
       "<tr><td>128422117</td><td>A Biblioteca da M...</td><td>Matt Haig</td></tr>\n",
       "<tr><td>049141399</td><td>A Coleira do C&atilde;o&nbsp;</td><td>Rubem Fonseca</td></tr>\n",
       "<tr><td>049141399</td><td>A Coleira do C&atilde;o&nbsp;</td><td>Rubem Fonseca</td></tr>\n",
       "<tr><td>065490862</td><td>A Cor P&uacute;rpura&nbsp;</td><td>Alice Walker</td></tr>\n",
       "<tr><td>065490862</td><td>A Cor P&uacute;rpura&nbsp;</td><td>Alice Walker</td></tr>\n",
       "<tr><td>029077001</td><td>A Educa&ccedil;&atilde;o Sentim...</td><td>Gustave Flaubert</td></tr>\n",
       "<tr><td>029077001</td><td>A Educa&ccedil;&atilde;o Sentim...</td><td>Gustave Flaubert</td></tr>\n",
       "<tr><td>032275599</td><td>A Escrava Isaura&nbsp;</td><td>Bernardo Guimar&atilde;es</td></tr>\n",
       "<tr><td>032275599</td><td>A Escrava Isaura&nbsp;</td><td>Bernardo Guimar&atilde;es</td></tr>\n",
       "<tr><td>090690941</td><td>A Estrela Sobe&nbsp;</td><td>Marques Rebelo</td></tr>\n",
       "<tr><td>090690941</td><td>A Estrela Sobe&nbsp;</td><td>Marques Rebelo</td></tr>\n",
       "<tr><td>095695255</td><td>A Hora da Estrela&nbsp;</td><td>Clarice Lispector</td></tr>\n",
       "<tr><td>095695255</td><td>A Hora da Estrela&nbsp;</td><td>Clarice Lispector</td></tr>\n",
       "</table>\n",
       "only showing top 20 rows\n"
      ],
      "text/plain": [
       "+---------+--------------------+------------------+\n",
       "|       id|              titulo|             autor|\n",
       "+---------+--------------------+------------------+\n",
       "|106042959|               1984 |     George Orwell|\n",
       "|106042959|               1984 |     George Orwell|\n",
       "|017551704|200 Crônicas Esco...|       Rubem Braga|\n",
       "|017551704|200 Crônicas Esco...|       Rubem Braga|\n",
       "|054099410|A Alma Encantador...|       João do Rio|\n",
       "|054099410|A Alma Encantador...|       João do Rio|\n",
       "|128422117|A Biblioteca da M...|         Matt Haig|\n",
       "|128422117|A Biblioteca da M...|         Matt Haig|\n",
       "|049141399|   A Coleira do Cão |     Rubem Fonseca|\n",
       "|049141399|   A Coleira do Cão |     Rubem Fonseca|\n",
       "|065490862|      A Cor Púrpura |      Alice Walker|\n",
       "|065490862|      A Cor Púrpura |      Alice Walker|\n",
       "|029077001|A Educação Sentim...|  Gustave Flaubert|\n",
       "|029077001|A Educação Sentim...|  Gustave Flaubert|\n",
       "|032275599|   A Escrava Isaura |Bernardo Guimarães|\n",
       "|032275599|   A Escrava Isaura |Bernardo Guimarães|\n",
       "|090690941|     A Estrela Sobe |    Marques Rebelo|\n",
       "|090690941|     A Estrela Sobe |    Marques Rebelo|\n",
       "|095695255|  A Hora da Estrela | Clarice Lispector|\n",
       "|095695255|  A Hora da Estrela | Clarice Lispector|\n",
       "+---------+--------------------+------------------+\n",
       "only showing top 20 rows"
      ]
     },
     "execution_count": 9,
     "metadata": {},
     "output_type": "execute_result"
    }
   ],
   "source": [
    "# O comando UNION é utilizado para empilhar ou agrupar varios DF tendo eles as mesmas quantidade de colunas\n",
    "auto = autores.union(autores)\n",
    "\n",
    "auto.orderBy(F.col('titulo'))\n",
    "#pode notar que como fiz o union do mesmo DF os valores foram todos duplicados"
   ]
  },
  {
   "cell_type": "code",
   "execution_count": 19,
   "metadata": {},
   "outputs": [
    {
     "data": {
      "text/html": [
       "<table border='1'>\n",
       "<tr><th>titulo</th><th>autor</th><th>id</th></tr>\n",
       "<tr><td>Moby Dick&nbsp;</td><td>Herman Melville</td><td>010045097</td></tr>\n",
       "<tr><td>Moby Dick&nbsp;</td><td>Herman Melville</td><td>010045097</td></tr>\n",
       "<tr><td>A Obscena Senhora D&nbsp;</td><td>Hilda Hilst</td><td>010325500</td></tr>\n",
       "<tr><td>A Obscena Senhora D&nbsp;</td><td>Hilda Hilst</td><td>010325500</td></tr>\n",
       "<tr><td>Luc&iacute;ola&nbsp;</td><td>Jos&eacute; de Alencar</td><td>010366161</td></tr>\n",
       "<tr><td>Luc&iacute;ola&nbsp;</td><td>Jos&eacute; de Alencar</td><td>010366161</td></tr>\n",
       "<tr><td>Romanceiro da Inc...</td><td>Cec&iacute;lia Meireles</td><td>010409138</td></tr>\n",
       "<tr><td>Romanceiro da Inc...</td><td>Cec&iacute;lia Meireles</td><td>010409138</td></tr>\n",
       "<tr><td>Garg&acirc;ntua e Panta...</td><td>Fran&ccedil;ois Rabelais</td><td>010745876</td></tr>\n",
       "<tr><td>Garg&acirc;ntua e Panta...</td><td>Fran&ccedil;ois Rabelais</td><td>010745876</td></tr>\n",
       "<tr><td>Fic&ccedil;&otilde;es&nbsp;</td><td>Jorge Luis Borges</td><td>010838220</td></tr>\n",
       "<tr><td>Fic&ccedil;&otilde;es&nbsp;</td><td>Jorge Luis Borges</td><td>010838220</td></tr>\n",
       "<tr><td>Journey to the En...</td><td>Louis-Ferdinand C...</td><td>011195894</td></tr>\n",
       "<tr><td>Journey to the En...</td><td>Louis-Ferdinand C...</td><td>011195894</td></tr>\n",
       "<tr><td>Lavoura Arcaica&nbsp;</td><td>Raduan Nassar</td><td>011247991</td></tr>\n",
       "<tr><td>Lavoura Arcaica&nbsp;</td><td>Raduan Nassar</td><td>011247991</td></tr>\n",
       "<tr><td>&Oacute;pera dos Mortos&nbsp;</td><td>Autran Dourado</td><td>011267609</td></tr>\n",
       "<tr><td>&Oacute;pera dos Mortos&nbsp;</td><td>Autran Dourado</td><td>011267609</td></tr>\n",
       "<tr><td>O Conto da Aia&nbsp;</td><td>Margaret Atwood</td><td>011576248</td></tr>\n",
       "<tr><td>O Conto da Aia&nbsp;</td><td>Margaret Atwood</td><td>011576248</td></tr>\n",
       "</table>\n",
       "only showing top 20 rows\n"
      ],
      "text/plain": [
       "+--------------------+--------------------+---------+\n",
       "|              titulo|               autor|       id|\n",
       "+--------------------+--------------------+---------+\n",
       "|          Moby Dick |     Herman Melville|010045097|\n",
       "|          Moby Dick |     Herman Melville|010045097|\n",
       "|A Obscena Senhora D |         Hilda Hilst|010325500|\n",
       "|A Obscena Senhora D |         Hilda Hilst|010325500|\n",
       "|            Lucíola |     José de Alencar|010366161|\n",
       "|            Lucíola |     José de Alencar|010366161|\n",
       "|Romanceiro da Inc...|    Cecília Meireles|010409138|\n",
       "|Romanceiro da Inc...|    Cecília Meireles|010409138|\n",
       "|Gargântua e Panta...|   François Rabelais|010745876|\n",
       "|Gargântua e Panta...|   François Rabelais|010745876|\n",
       "|            Ficções |   Jorge Luis Borges|010838220|\n",
       "|            Ficções |   Jorge Luis Borges|010838220|\n",
       "|Journey to the En...|Louis-Ferdinand C...|011195894|\n",
       "|Journey to the En...|Louis-Ferdinand C...|011195894|\n",
       "|    Lavoura Arcaica |       Raduan Nassar|011247991|\n",
       "|    Lavoura Arcaica |       Raduan Nassar|011247991|\n",
       "|   Ópera dos Mortos |      Autran Dourado|011267609|\n",
       "|   Ópera dos Mortos |      Autran Dourado|011267609|\n",
       "|     O Conto da Aia |     Margaret Atwood|011576248|\n",
       "|     O Conto da Aia |     Margaret Atwood|011576248|\n",
       "+--------------------+--------------------+---------+\n",
       "only showing top 20 rows"
      ]
     },
     "execution_count": 19,
     "metadata": {},
     "output_type": "execute_result"
    }
   ],
   "source": [
    "# Pode ser utilizado o UNIONBYNAME ele faz o mesmo processo porem obrigado empilhar o mesmo nome de colunas de ambos os DF\n",
    "df1 = autores.select(F.col('titulo'), F.col('autor'), F.col('id'))\n",
    "df2 = autores.select(F.col('autor'), F.col('titulo'), F.col('id'))\n",
    "\n",
    "#note que tenho o mesmo DF com ordens de colunas deferente\n",
    "# Com o union normal o resultado ficaria assim\n",
    "df3 = df1.union(df2)\n",
    "\n",
    "# O resultado ficou oposto tento o valor da coluna autor de um DF na coluna titulo do outro \n",
    "df3.orderBy(F.col('id'))\n",
    "\n",
    "# Porem com o UNIONBYNAME esse problema não ira ocorrer mesmo as colunas estando em possições diferentes\n",
    "df3 = df1.unionByName(df2)\n",
    "\n",
    "df3.orderBy(F.col('id'))"
   ]
  },
  {
   "cell_type": "code",
   "execution_count": 20,
   "metadata": {},
   "outputs": [
    {
     "data": {
      "text/html": [
       "<table border='1'>\n",
       "<tr><th>titulo</th><th>autor</th><th>id</th></tr>\n",
       "<tr><td>O Guarani&nbsp;</td><td>Jos&eacute; de Alencar</td><td>016958971</td></tr>\n",
       "<tr><td>Romance d&rsquo;a Pedra...</td><td>Ariano Suassuna</td><td>047368307</td></tr>\n",
       "<tr><td>A Cor P&uacute;rpura&nbsp;</td><td>Alice Walker</td><td>065490862</td></tr>\n",
       "<tr><td>La&ccedil;os de Fam&iacute;lia&nbsp;</td><td>Clarice Lispector</td><td>019142836</td></tr>\n",
       "<tr><td>As Viagens de Gul...</td><td>Jonathan Swift</td><td>044344625</td></tr>\n",
       "<tr><td>Cinquenta Tons de...</td><td>E. L. James</td><td>041644195</td></tr>\n",
       "<tr><td>O Mestre e Margar...</td><td>Mikhail Bulg&aacute;kov</td><td>024027632</td></tr>\n",
       "<tr><td>O Som e A F&uacute;ria&nbsp;</td><td>William Faulkner</td><td>050336494</td></tr>\n",
       "<tr><td>Os Melhores Conto...</td><td>Edgar Allan Poe</td><td>069309548</td></tr>\n",
       "<tr><td>Viva Vaia&nbsp;</td><td>Augusto de Campos</td><td>034173770</td></tr>\n",
       "<tr><td>A Estrela Sobe&nbsp;</td><td>Marques Rebelo</td><td>090690941</td></tr>\n",
       "<tr><td>A Terra In&uacute;til&nbsp;</td><td>T. S. Eliot</td><td>045836954</td></tr>\n",
       "<tr><td>Ardil-22&nbsp;</td><td>Joseph Heller</td><td>016152337</td></tr>\n",
       "<tr><td>Gabriela, Cravo e...</td><td>Jorge Amado</td><td>026026330</td></tr>\n",
       "<tr><td>Absal&atilde;o, Absal&atilde;o!&nbsp;</td><td>William Faulkner</td><td>109661324</td></tr>\n",
       "<tr><td>Vestido de Noiva&nbsp;</td><td>Nelson Rodrigues</td><td>068632465</td></tr>\n",
       "<tr><td>Mem&oacute;rias Sentimen...</td><td>Oswald de Andrade</td><td>036896107</td></tr>\n",
       "<tr><td>Tom Jones&nbsp;</td><td>Henry Fielding</td><td>058186918</td></tr>\n",
       "<tr><td>Harry Potter e a ...</td><td>J.K. Rowling</td><td>028971140</td></tr>\n",
       "<tr><td>Middlemarch: Um E...</td><td>George Eliot</td><td>077240958</td></tr>\n",
       "</table>\n",
       "only showing top 20 rows\n"
      ],
      "text/plain": [
       "+--------------------+-----------------+---------+\n",
       "|              titulo|            autor|       id|\n",
       "+--------------------+-----------------+---------+\n",
       "|          O Guarani |  José de Alencar|016958971|\n",
       "|Romance d’a Pedra...|  Ariano Suassuna|047368307|\n",
       "|      A Cor Púrpura |     Alice Walker|065490862|\n",
       "|   Laços de Família |Clarice Lispector|019142836|\n",
       "|As Viagens de Gul...|   Jonathan Swift|044344625|\n",
       "|Cinquenta Tons de...|      E. L. James|041644195|\n",
       "|O Mestre e Margar...| Mikhail Bulgákov|024027632|\n",
       "|    O Som e A Fúria | William Faulkner|050336494|\n",
       "|Os Melhores Conto...|  Edgar Allan Poe|069309548|\n",
       "|          Viva Vaia |Augusto de Campos|034173770|\n",
       "|     A Estrela Sobe |   Marques Rebelo|090690941|\n",
       "|     A Terra Inútil |      T. S. Eliot|045836954|\n",
       "|           Ardil-22 |    Joseph Heller|016152337|\n",
       "|Gabriela, Cravo e...|      Jorge Amado|026026330|\n",
       "|  Absalão, Absalão! | William Faulkner|109661324|\n",
       "|   Vestido de Noiva | Nelson Rodrigues|068632465|\n",
       "|Memórias Sentimen...|Oswald de Andrade|036896107|\n",
       "|          Tom Jones |   Henry Fielding|058186918|\n",
       "|Harry Potter e a ...|     J.K. Rowling|028971140|\n",
       "|Middlemarch: Um E...|     George Eliot|077240958|\n",
       "+--------------------+-----------------+---------+\n",
       "only showing top 20 rows"
      ]
     },
     "execution_count": 20,
     "metadata": {},
     "output_type": "execute_result"
    }
   ],
   "source": [
    "# Para remover valores duplicados pode ser utilizado esse comando\n",
    "df3.drop_duplicates()"
   ]
  }
 ],
 "metadata": {
  "kernelspec": {
   "display_name": "Python 3",
   "language": "python",
   "name": "python3"
  },
  "language_info": {
   "codemirror_mode": {
    "name": "ipython",
    "version": 3
   },
   "file_extension": ".py",
   "mimetype": "text/x-python",
   "name": "python",
   "nbconvert_exporter": "python",
   "pygments_lexer": "ipython3",
   "version": "3.11.8"
  }
 },
 "nbformat": 4,
 "nbformat_minor": 2
}
