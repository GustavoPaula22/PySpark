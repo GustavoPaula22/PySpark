{
 "cells": [
  {
   "cell_type": "code",
   "execution_count": null,
   "metadata": {},
   "outputs": [],
   "source": [
    "!pip install pyspark==3.3.2"
   ]
  },
  {
   "cell_type": "code",
   "execution_count": 1,
   "metadata": {},
   "outputs": [],
   "source": [
    "from pyspark.sql import SparkSession\n",
    "import pyspark.sql.functions as F"
   ]
  },
  {
   "cell_type": "code",
   "execution_count": 2,
   "metadata": {},
   "outputs": [],
   "source": [
    "spark = (\n",
    "    SparkSession.builder.appName('Treinamento-02')\n",
    "    .config('spark.sql.repl.eagerEval.enabled', True)\n",
    "    .getOrCreate()\n",
    ")"
   ]
  },
  {
   "cell_type": "code",
   "execution_count": 6,
   "metadata": {},
   "outputs": [],
   "source": [
    "df = spark.read.parquet(r'C:\\Meus\\Projetos\\Python\\VsCode\\Bases\\DATASETS\\LOGINS.parquet').select('data_de_nascimento', 'data_cadastro')"
   ]
  },
  {
   "cell_type": "code",
   "execution_count": 7,
   "metadata": {},
   "outputs": [
    {
     "data": {
      "text/html": [
       "<table border='1'>\n",
       "<tr><th>data_de_nascimento</th><th>data_cadastro</th></tr>\n",
       "<tr><td>2006-12-18</td><td>2023-02-26</td></tr>\n",
       "<tr><td>1992-06-17</td><td>2023-02-16</td></tr>\n",
       "<tr><td>1921-11-11</td><td>2023-01-02</td></tr>\n",
       "<tr><td>2021-06-01</td><td>2023-01-08</td></tr>\n",
       "<tr><td>1969-10-28</td><td>2023-02-14</td></tr>\n",
       "<tr><td>1986-05-19</td><td>2023-03-07</td></tr>\n",
       "<tr><td>2018-04-20</td><td>2023-01-13</td></tr>\n",
       "<tr><td>1996-05-12</td><td>2023-02-04</td></tr>\n",
       "<tr><td>2021-10-05</td><td>2023-03-02</td></tr>\n",
       "<tr><td>1917-01-05</td><td>2023-02-21</td></tr>\n",
       "<tr><td>1912-05-25</td><td>2023-01-25</td></tr>\n",
       "<tr><td>1920-05-26</td><td>2023-02-18</td></tr>\n",
       "<tr><td>1938-03-11</td><td>2023-01-19</td></tr>\n",
       "<tr><td>1922-09-01</td><td>2023-02-01</td></tr>\n",
       "<tr><td>2013-01-10</td><td>2023-01-07</td></tr>\n",
       "<tr><td>1992-10-16</td><td>2023-01-05</td></tr>\n",
       "<tr><td>1945-11-18</td><td>2023-01-24</td></tr>\n",
       "<tr><td>1915-11-15</td><td>2023-01-22</td></tr>\n",
       "<tr><td>1964-02-01</td><td>2023-02-16</td></tr>\n",
       "<tr><td>1959-02-01</td><td>2023-02-25</td></tr>\n",
       "</table>\n",
       "only showing top 20 rows\n"
      ],
      "text/plain": [
       "+------------------+-------------+\n",
       "|data_de_nascimento|data_cadastro|\n",
       "+------------------+-------------+\n",
       "|        2006-12-18|   2023-02-26|\n",
       "|        1992-06-17|   2023-02-16|\n",
       "|        1921-11-11|   2023-01-02|\n",
       "|        2021-06-01|   2023-01-08|\n",
       "|        1969-10-28|   2023-02-14|\n",
       "|        1986-05-19|   2023-03-07|\n",
       "|        2018-04-20|   2023-01-13|\n",
       "|        1996-05-12|   2023-02-04|\n",
       "|        2021-10-05|   2023-03-02|\n",
       "|        1917-01-05|   2023-02-21|\n",
       "|        1912-05-25|   2023-01-25|\n",
       "|        1920-05-26|   2023-02-18|\n",
       "|        1938-03-11|   2023-01-19|\n",
       "|        1922-09-01|   2023-02-01|\n",
       "|        2013-01-10|   2023-01-07|\n",
       "|        1992-10-16|   2023-01-05|\n",
       "|        1945-11-18|   2023-01-24|\n",
       "|        1915-11-15|   2023-01-22|\n",
       "|        1964-02-01|   2023-02-16|\n",
       "|        1959-02-01|   2023-02-25|\n",
       "+------------------+-------------+\n",
       "only showing top 20 rows"
      ]
     },
     "execution_count": 7,
     "metadata": {},
     "output_type": "execute_result"
    }
   ],
   "source": [
    "df"
   ]
  },
  {
   "cell_type": "code",
   "execution_count": 11,
   "metadata": {},
   "outputs": [
    {
     "data": {
      "text/html": [
       "<table border='1'>\n",
       "<tr><th>data_de_nascimento</th><th>data_cadastro</th><th>add_mes_+</th><th>add_mes_-</th></tr>\n",
       "<tr><td>2006-12-18</td><td>2023-02-26</td><td>2023-05-26</td><td>2023-01-26</td></tr>\n",
       "<tr><td>1992-06-17</td><td>2023-02-16</td><td>2023-05-16</td><td>2023-01-16</td></tr>\n",
       "<tr><td>1921-11-11</td><td>2023-01-02</td><td>2023-04-02</td><td>2022-12-02</td></tr>\n",
       "<tr><td>2021-06-01</td><td>2023-01-08</td><td>2023-04-08</td><td>2022-12-08</td></tr>\n",
       "<tr><td>1969-10-28</td><td>2023-02-14</td><td>2023-05-14</td><td>2023-01-14</td></tr>\n",
       "<tr><td>1986-05-19</td><td>2023-03-07</td><td>2023-06-07</td><td>2023-02-07</td></tr>\n",
       "<tr><td>2018-04-20</td><td>2023-01-13</td><td>2023-04-13</td><td>2022-12-13</td></tr>\n",
       "<tr><td>1996-05-12</td><td>2023-02-04</td><td>2023-05-04</td><td>2023-01-04</td></tr>\n",
       "<tr><td>2021-10-05</td><td>2023-03-02</td><td>2023-06-02</td><td>2023-02-02</td></tr>\n",
       "<tr><td>1917-01-05</td><td>2023-02-21</td><td>2023-05-21</td><td>2023-01-21</td></tr>\n",
       "<tr><td>1912-05-25</td><td>2023-01-25</td><td>2023-04-25</td><td>2022-12-25</td></tr>\n",
       "<tr><td>1920-05-26</td><td>2023-02-18</td><td>2023-05-18</td><td>2023-01-18</td></tr>\n",
       "<tr><td>1938-03-11</td><td>2023-01-19</td><td>2023-04-19</td><td>2022-12-19</td></tr>\n",
       "<tr><td>1922-09-01</td><td>2023-02-01</td><td>2023-05-01</td><td>2023-01-01</td></tr>\n",
       "<tr><td>2013-01-10</td><td>2023-01-07</td><td>2023-04-07</td><td>2022-12-07</td></tr>\n",
       "<tr><td>1992-10-16</td><td>2023-01-05</td><td>2023-04-05</td><td>2022-12-05</td></tr>\n",
       "<tr><td>1945-11-18</td><td>2023-01-24</td><td>2023-04-24</td><td>2022-12-24</td></tr>\n",
       "<tr><td>1915-11-15</td><td>2023-01-22</td><td>2023-04-22</td><td>2022-12-22</td></tr>\n",
       "<tr><td>1964-02-01</td><td>2023-02-16</td><td>2023-05-16</td><td>2023-01-16</td></tr>\n",
       "<tr><td>1959-02-01</td><td>2023-02-25</td><td>2023-05-25</td><td>2023-01-25</td></tr>\n",
       "</table>\n",
       "only showing top 20 rows\n"
      ],
      "text/plain": [
       "+------------------+-------------+----------+----------+\n",
       "|data_de_nascimento|data_cadastro| add_mes_+| add_mes_-|\n",
       "+------------------+-------------+----------+----------+\n",
       "|        2006-12-18|   2023-02-26|2023-05-26|2023-01-26|\n",
       "|        1992-06-17|   2023-02-16|2023-05-16|2023-01-16|\n",
       "|        1921-11-11|   2023-01-02|2023-04-02|2022-12-02|\n",
       "|        2021-06-01|   2023-01-08|2023-04-08|2022-12-08|\n",
       "|        1969-10-28|   2023-02-14|2023-05-14|2023-01-14|\n",
       "|        1986-05-19|   2023-03-07|2023-06-07|2023-02-07|\n",
       "|        2018-04-20|   2023-01-13|2023-04-13|2022-12-13|\n",
       "|        1996-05-12|   2023-02-04|2023-05-04|2023-01-04|\n",
       "|        2021-10-05|   2023-03-02|2023-06-02|2023-02-02|\n",
       "|        1917-01-05|   2023-02-21|2023-05-21|2023-01-21|\n",
       "|        1912-05-25|   2023-01-25|2023-04-25|2022-12-25|\n",
       "|        1920-05-26|   2023-02-18|2023-05-18|2023-01-18|\n",
       "|        1938-03-11|   2023-01-19|2023-04-19|2022-12-19|\n",
       "|        1922-09-01|   2023-02-01|2023-05-01|2023-01-01|\n",
       "|        2013-01-10|   2023-01-07|2023-04-07|2022-12-07|\n",
       "|        1992-10-16|   2023-01-05|2023-04-05|2022-12-05|\n",
       "|        1945-11-18|   2023-01-24|2023-04-24|2022-12-24|\n",
       "|        1915-11-15|   2023-01-22|2023-04-22|2022-12-22|\n",
       "|        1964-02-01|   2023-02-16|2023-05-16|2023-01-16|\n",
       "|        1959-02-01|   2023-02-25|2023-05-25|2023-01-25|\n",
       "+------------------+-------------+----------+----------+\n",
       "only showing top 20 rows"
      ]
     },
     "execution_count": 11,
     "metadata": {},
     "output_type": "execute_result"
    }
   ],
   "source": [
    "# a função add_months pode manipular o mes das datas tirando messes ou acrecentando\n",
    "(\n",
    "    df\n",
    "    .withColumn('add_mes_+', F.add_months(F.col('data_cadastro'), 3))\n",
    "    .withColumn('add_mes_-', F.add_months(F.col('data_cadastro'), -1))\n",
    ")"
   ]
  },
  {
   "cell_type": "code",
   "execution_count": 15,
   "metadata": {},
   "outputs": [
    {
     "data": {
      "text/html": [
       "<table border='1'>\n",
       "<tr><th>data_de_nascimento</th><th>data_cadastro</th><th>data_atual</th></tr>\n",
       "<tr><td>2006-12-18</td><td>2023-02-26</td><td>America/Sao_Paulo</td></tr>\n",
       "<tr><td>1992-06-17</td><td>2023-02-16</td><td>America/Sao_Paulo</td></tr>\n",
       "<tr><td>1921-11-11</td><td>2023-01-02</td><td>America/Sao_Paulo</td></tr>\n",
       "<tr><td>2021-06-01</td><td>2023-01-08</td><td>America/Sao_Paulo</td></tr>\n",
       "<tr><td>1969-10-28</td><td>2023-02-14</td><td>America/Sao_Paulo</td></tr>\n",
       "<tr><td>1986-05-19</td><td>2023-03-07</td><td>America/Sao_Paulo</td></tr>\n",
       "<tr><td>2018-04-20</td><td>2023-01-13</td><td>America/Sao_Paulo</td></tr>\n",
       "<tr><td>1996-05-12</td><td>2023-02-04</td><td>America/Sao_Paulo</td></tr>\n",
       "<tr><td>2021-10-05</td><td>2023-03-02</td><td>America/Sao_Paulo</td></tr>\n",
       "<tr><td>1917-01-05</td><td>2023-02-21</td><td>America/Sao_Paulo</td></tr>\n",
       "<tr><td>1912-05-25</td><td>2023-01-25</td><td>America/Sao_Paulo</td></tr>\n",
       "<tr><td>1920-05-26</td><td>2023-02-18</td><td>America/Sao_Paulo</td></tr>\n",
       "<tr><td>1938-03-11</td><td>2023-01-19</td><td>America/Sao_Paulo</td></tr>\n",
       "<tr><td>1922-09-01</td><td>2023-02-01</td><td>America/Sao_Paulo</td></tr>\n",
       "<tr><td>2013-01-10</td><td>2023-01-07</td><td>America/Sao_Paulo</td></tr>\n",
       "<tr><td>1992-10-16</td><td>2023-01-05</td><td>America/Sao_Paulo</td></tr>\n",
       "<tr><td>1945-11-18</td><td>2023-01-24</td><td>America/Sao_Paulo</td></tr>\n",
       "<tr><td>1915-11-15</td><td>2023-01-22</td><td>America/Sao_Paulo</td></tr>\n",
       "<tr><td>1964-02-01</td><td>2023-02-16</td><td>America/Sao_Paulo</td></tr>\n",
       "<tr><td>1959-02-01</td><td>2023-02-25</td><td>America/Sao_Paulo</td></tr>\n",
       "</table>\n",
       "only showing top 20 rows\n"
      ],
      "text/plain": [
       "+------------------+-------------+-----------------+\n",
       "|data_de_nascimento|data_cadastro|       data_atual|\n",
       "+------------------+-------------+-----------------+\n",
       "|        2006-12-18|   2023-02-26|America/Sao_Paulo|\n",
       "|        1992-06-17|   2023-02-16|America/Sao_Paulo|\n",
       "|        1921-11-11|   2023-01-02|America/Sao_Paulo|\n",
       "|        2021-06-01|   2023-01-08|America/Sao_Paulo|\n",
       "|        1969-10-28|   2023-02-14|America/Sao_Paulo|\n",
       "|        1986-05-19|   2023-03-07|America/Sao_Paulo|\n",
       "|        2018-04-20|   2023-01-13|America/Sao_Paulo|\n",
       "|        1996-05-12|   2023-02-04|America/Sao_Paulo|\n",
       "|        2021-10-05|   2023-03-02|America/Sao_Paulo|\n",
       "|        1917-01-05|   2023-02-21|America/Sao_Paulo|\n",
       "|        1912-05-25|   2023-01-25|America/Sao_Paulo|\n",
       "|        1920-05-26|   2023-02-18|America/Sao_Paulo|\n",
       "|        1938-03-11|   2023-01-19|America/Sao_Paulo|\n",
       "|        1922-09-01|   2023-02-01|America/Sao_Paulo|\n",
       "|        2013-01-10|   2023-01-07|America/Sao_Paulo|\n",
       "|        1992-10-16|   2023-01-05|America/Sao_Paulo|\n",
       "|        1945-11-18|   2023-01-24|America/Sao_Paulo|\n",
       "|        1915-11-15|   2023-01-22|America/Sao_Paulo|\n",
       "|        1964-02-01|   2023-02-16|America/Sao_Paulo|\n",
       "|        1959-02-01|   2023-02-25|America/Sao_Paulo|\n",
       "+------------------+-------------+-----------------+\n",
       "only showing top 20 rows"
      ]
     },
     "execution_count": 15,
     "metadata": {},
     "output_type": "execute_result"
    }
   ],
   "source": [
    "# para pegar a data atual pode ser utilizado\n",
    "(\n",
    "    df\n",
    "    .withColumn('data_atual', F.current_date())\n",
    "    .withColumn('data_atual', F.current_timestamp())\n",
    "    .withColumn('data_atual', F.current_timezone())\n",
    ")"
   ]
  },
  {
   "cell_type": "code",
   "execution_count": 18,
   "metadata": {},
   "outputs": [
    {
     "data": {
      "text/html": [
       "<table border='1'>\n",
       "<tr><th>data_de_nascimento</th><th>data_cadastro</th><th>add_data_+</th><th>add_data_-</th></tr>\n",
       "<tr><td>2006-12-18</td><td>2023-02-26</td><td>2023-03-05</td><td>2023-02-24</td></tr>\n",
       "<tr><td>1992-06-17</td><td>2023-02-16</td><td>2023-02-23</td><td>2023-02-14</td></tr>\n",
       "<tr><td>1921-11-11</td><td>2023-01-02</td><td>2023-01-09</td><td>2022-12-31</td></tr>\n",
       "<tr><td>2021-06-01</td><td>2023-01-08</td><td>2023-01-15</td><td>2023-01-06</td></tr>\n",
       "<tr><td>1969-10-28</td><td>2023-02-14</td><td>2023-02-21</td><td>2023-02-12</td></tr>\n",
       "<tr><td>1986-05-19</td><td>2023-03-07</td><td>2023-03-14</td><td>2023-03-05</td></tr>\n",
       "<tr><td>2018-04-20</td><td>2023-01-13</td><td>2023-01-20</td><td>2023-01-11</td></tr>\n",
       "<tr><td>1996-05-12</td><td>2023-02-04</td><td>2023-02-11</td><td>2023-02-02</td></tr>\n",
       "<tr><td>2021-10-05</td><td>2023-03-02</td><td>2023-03-09</td><td>2023-02-28</td></tr>\n",
       "<tr><td>1917-01-05</td><td>2023-02-21</td><td>2023-02-28</td><td>2023-02-19</td></tr>\n",
       "<tr><td>1912-05-25</td><td>2023-01-25</td><td>2023-02-01</td><td>2023-01-23</td></tr>\n",
       "<tr><td>1920-05-26</td><td>2023-02-18</td><td>2023-02-25</td><td>2023-02-16</td></tr>\n",
       "<tr><td>1938-03-11</td><td>2023-01-19</td><td>2023-01-26</td><td>2023-01-17</td></tr>\n",
       "<tr><td>1922-09-01</td><td>2023-02-01</td><td>2023-02-08</td><td>2023-01-30</td></tr>\n",
       "<tr><td>2013-01-10</td><td>2023-01-07</td><td>2023-01-14</td><td>2023-01-05</td></tr>\n",
       "<tr><td>1992-10-16</td><td>2023-01-05</td><td>2023-01-12</td><td>2023-01-03</td></tr>\n",
       "<tr><td>1945-11-18</td><td>2023-01-24</td><td>2023-01-31</td><td>2023-01-22</td></tr>\n",
       "<tr><td>1915-11-15</td><td>2023-01-22</td><td>2023-01-29</td><td>2023-01-20</td></tr>\n",
       "<tr><td>1964-02-01</td><td>2023-02-16</td><td>2023-02-23</td><td>2023-02-14</td></tr>\n",
       "<tr><td>1959-02-01</td><td>2023-02-25</td><td>2023-03-04</td><td>2023-02-23</td></tr>\n",
       "</table>\n",
       "only showing top 20 rows\n"
      ],
      "text/plain": [
       "+------------------+-------------+----------+----------+\n",
       "|data_de_nascimento|data_cadastro|add_data_+|add_data_-|\n",
       "+------------------+-------------+----------+----------+\n",
       "|        2006-12-18|   2023-02-26|2023-03-05|2023-02-24|\n",
       "|        1992-06-17|   2023-02-16|2023-02-23|2023-02-14|\n",
       "|        1921-11-11|   2023-01-02|2023-01-09|2022-12-31|\n",
       "|        2021-06-01|   2023-01-08|2023-01-15|2023-01-06|\n",
       "|        1969-10-28|   2023-02-14|2023-02-21|2023-02-12|\n",
       "|        1986-05-19|   2023-03-07|2023-03-14|2023-03-05|\n",
       "|        2018-04-20|   2023-01-13|2023-01-20|2023-01-11|\n",
       "|        1996-05-12|   2023-02-04|2023-02-11|2023-02-02|\n",
       "|        2021-10-05|   2023-03-02|2023-03-09|2023-02-28|\n",
       "|        1917-01-05|   2023-02-21|2023-02-28|2023-02-19|\n",
       "|        1912-05-25|   2023-01-25|2023-02-01|2023-01-23|\n",
       "|        1920-05-26|   2023-02-18|2023-02-25|2023-02-16|\n",
       "|        1938-03-11|   2023-01-19|2023-01-26|2023-01-17|\n",
       "|        1922-09-01|   2023-02-01|2023-02-08|2023-01-30|\n",
       "|        2013-01-10|   2023-01-07|2023-01-14|2023-01-05|\n",
       "|        1992-10-16|   2023-01-05|2023-01-12|2023-01-03|\n",
       "|        1945-11-18|   2023-01-24|2023-01-31|2023-01-22|\n",
       "|        1915-11-15|   2023-01-22|2023-01-29|2023-01-20|\n",
       "|        1964-02-01|   2023-02-16|2023-02-23|2023-02-14|\n",
       "|        1959-02-01|   2023-02-25|2023-03-04|2023-02-23|\n",
       "+------------------+-------------+----------+----------+\n",
       "only showing top 20 rows"
      ]
     },
     "execution_count": 18,
     "metadata": {},
     "output_type": "execute_result"
    }
   ],
   "source": [
    "# podemos somar datas interas tambem\n",
    "(\n",
    "    df\n",
    "    .withColumn('add_data_+', F.date_add(F.col('data_cadastro'), 7))\n",
    "    .withColumn('add_data_-', F.date_add(F.col('data_cadastro'), -2))\n",
    ")"
   ]
  },
  {
   "cell_type": "code",
   "execution_count": 29,
   "metadata": {},
   "outputs": [
    {
     "data": {
      "text/html": [
       "<table border='1'>\n",
       "<tr><th>data_de_nascimento</th><th>data_cadastro</th><th>data_format_1</th><th>data_format_2</th><th>data_format_3</th><th>data_format_4</th><th>data_format_5</th></tr>\n",
       "<tr><td>2006-12-18</td><td>2023-02-26</td><td>26/02/23</td><td>26/02/2023</td><td>26/Feb/2023</td><td>26/February/2023</td><td>20230226</td></tr>\n",
       "<tr><td>1992-06-17</td><td>2023-02-16</td><td>16/02/23</td><td>16/02/2023</td><td>16/Feb/2023</td><td>16/February/2023</td><td>20230216</td></tr>\n",
       "<tr><td>1921-11-11</td><td>2023-01-02</td><td>02/01/23</td><td>02/01/2023</td><td>02/Jan/2023</td><td>02/January/2023</td><td>20230102</td></tr>\n",
       "<tr><td>2021-06-01</td><td>2023-01-08</td><td>08/01/23</td><td>08/01/2023</td><td>08/Jan/2023</td><td>08/January/2023</td><td>20230108</td></tr>\n",
       "<tr><td>1969-10-28</td><td>2023-02-14</td><td>14/02/23</td><td>14/02/2023</td><td>14/Feb/2023</td><td>14/February/2023</td><td>20230214</td></tr>\n",
       "<tr><td>1986-05-19</td><td>2023-03-07</td><td>07/03/23</td><td>07/03/2023</td><td>07/Mar/2023</td><td>07/March/2023</td><td>20230307</td></tr>\n",
       "<tr><td>2018-04-20</td><td>2023-01-13</td><td>13/01/23</td><td>13/01/2023</td><td>13/Jan/2023</td><td>13/January/2023</td><td>20230113</td></tr>\n",
       "<tr><td>1996-05-12</td><td>2023-02-04</td><td>04/02/23</td><td>04/02/2023</td><td>04/Feb/2023</td><td>04/February/2023</td><td>20230204</td></tr>\n",
       "<tr><td>2021-10-05</td><td>2023-03-02</td><td>02/03/23</td><td>02/03/2023</td><td>02/Mar/2023</td><td>02/March/2023</td><td>20230302</td></tr>\n",
       "<tr><td>1917-01-05</td><td>2023-02-21</td><td>21/02/23</td><td>21/02/2023</td><td>21/Feb/2023</td><td>21/February/2023</td><td>20230221</td></tr>\n",
       "<tr><td>1912-05-25</td><td>2023-01-25</td><td>25/01/23</td><td>25/01/2023</td><td>25/Jan/2023</td><td>25/January/2023</td><td>20230125</td></tr>\n",
       "<tr><td>1920-05-26</td><td>2023-02-18</td><td>18/02/23</td><td>18/02/2023</td><td>18/Feb/2023</td><td>18/February/2023</td><td>20230218</td></tr>\n",
       "<tr><td>1938-03-11</td><td>2023-01-19</td><td>19/01/23</td><td>19/01/2023</td><td>19/Jan/2023</td><td>19/January/2023</td><td>20230119</td></tr>\n",
       "<tr><td>1922-09-01</td><td>2023-02-01</td><td>01/02/23</td><td>01/02/2023</td><td>01/Feb/2023</td><td>01/February/2023</td><td>20230201</td></tr>\n",
       "<tr><td>2013-01-10</td><td>2023-01-07</td><td>07/01/23</td><td>07/01/2023</td><td>07/Jan/2023</td><td>07/January/2023</td><td>20230107</td></tr>\n",
       "<tr><td>1992-10-16</td><td>2023-01-05</td><td>05/01/23</td><td>05/01/2023</td><td>05/Jan/2023</td><td>05/January/2023</td><td>20230105</td></tr>\n",
       "<tr><td>1945-11-18</td><td>2023-01-24</td><td>24/01/23</td><td>24/01/2023</td><td>24/Jan/2023</td><td>24/January/2023</td><td>20230124</td></tr>\n",
       "<tr><td>1915-11-15</td><td>2023-01-22</td><td>22/01/23</td><td>22/01/2023</td><td>22/Jan/2023</td><td>22/January/2023</td><td>20230122</td></tr>\n",
       "<tr><td>1964-02-01</td><td>2023-02-16</td><td>16/02/23</td><td>16/02/2023</td><td>16/Feb/2023</td><td>16/February/2023</td><td>20230216</td></tr>\n",
       "<tr><td>1959-02-01</td><td>2023-02-25</td><td>25/02/23</td><td>25/02/2023</td><td>25/Feb/2023</td><td>25/February/2023</td><td>20230225</td></tr>\n",
       "</table>\n",
       "only showing top 20 rows\n"
      ],
      "text/plain": [
       "+------------------+-------------+-------------+-------------+-------------+----------------+-------------+\n",
       "|data_de_nascimento|data_cadastro|data_format_1|data_format_2|data_format_3|   data_format_4|data_format_5|\n",
       "+------------------+-------------+-------------+-------------+-------------+----------------+-------------+\n",
       "|        2006-12-18|   2023-02-26|     26/02/23|   26/02/2023|  26/Feb/2023|26/February/2023|     20230226|\n",
       "|        1992-06-17|   2023-02-16|     16/02/23|   16/02/2023|  16/Feb/2023|16/February/2023|     20230216|\n",
       "|        1921-11-11|   2023-01-02|     02/01/23|   02/01/2023|  02/Jan/2023| 02/January/2023|     20230102|\n",
       "|        2021-06-01|   2023-01-08|     08/01/23|   08/01/2023|  08/Jan/2023| 08/January/2023|     20230108|\n",
       "|        1969-10-28|   2023-02-14|     14/02/23|   14/02/2023|  14/Feb/2023|14/February/2023|     20230214|\n",
       "|        1986-05-19|   2023-03-07|     07/03/23|   07/03/2023|  07/Mar/2023|   07/March/2023|     20230307|\n",
       "|        2018-04-20|   2023-01-13|     13/01/23|   13/01/2023|  13/Jan/2023| 13/January/2023|     20230113|\n",
       "|        1996-05-12|   2023-02-04|     04/02/23|   04/02/2023|  04/Feb/2023|04/February/2023|     20230204|\n",
       "|        2021-10-05|   2023-03-02|     02/03/23|   02/03/2023|  02/Mar/2023|   02/March/2023|     20230302|\n",
       "|        1917-01-05|   2023-02-21|     21/02/23|   21/02/2023|  21/Feb/2023|21/February/2023|     20230221|\n",
       "|        1912-05-25|   2023-01-25|     25/01/23|   25/01/2023|  25/Jan/2023| 25/January/2023|     20230125|\n",
       "|        1920-05-26|   2023-02-18|     18/02/23|   18/02/2023|  18/Feb/2023|18/February/2023|     20230218|\n",
       "|        1938-03-11|   2023-01-19|     19/01/23|   19/01/2023|  19/Jan/2023| 19/January/2023|     20230119|\n",
       "|        1922-09-01|   2023-02-01|     01/02/23|   01/02/2023|  01/Feb/2023|01/February/2023|     20230201|\n",
       "|        2013-01-10|   2023-01-07|     07/01/23|   07/01/2023|  07/Jan/2023| 07/January/2023|     20230107|\n",
       "|        1992-10-16|   2023-01-05|     05/01/23|   05/01/2023|  05/Jan/2023| 05/January/2023|     20230105|\n",
       "|        1945-11-18|   2023-01-24|     24/01/23|   24/01/2023|  24/Jan/2023| 24/January/2023|     20230124|\n",
       "|        1915-11-15|   2023-01-22|     22/01/23|   22/01/2023|  22/Jan/2023| 22/January/2023|     20230122|\n",
       "|        1964-02-01|   2023-02-16|     16/02/23|   16/02/2023|  16/Feb/2023|16/February/2023|     20230216|\n",
       "|        1959-02-01|   2023-02-25|     25/02/23|   25/02/2023|  25/Feb/2023|25/February/2023|     20230225|\n",
       "+------------------+-------------+-------------+-------------+-------------+----------------+-------------+\n",
       "only showing top 20 rows"
      ]
     },
     "execution_count": 29,
     "metadata": {},
     "output_type": "execute_result"
    }
   ],
   "source": [
    "# para formatar data\n",
    "(\n",
    "    df\n",
    "    .withColumn('data_format_1', F.date_format(F.col('data_cadastro'), 'dd/MM/yy'))\n",
    "    .withColumn('data_format_2', F.date_format(F.col('data_cadastro'), 'dd/MM/yyyy'))\n",
    "    .withColumn('data_format_3', F.date_format(F.col('data_cadastro'), 'dd/MMM/yyyy'))\n",
    "    .withColumn('data_format_4', F.date_format(F.col('data_cadastro'), 'dd/MMMM/yyyy'))\n",
    "    .withColumn('data_format_5', F.date_format(F.col('data_cadastro'), 'yyyyMMdd'))\n",
    ")"
   ]
  },
  {
   "cell_type": "code",
   "execution_count": 32,
   "metadata": {},
   "outputs": [
    {
     "data": {
      "text/html": [
       "<table border='1'>\n",
       "<tr><th>data_de_nascimento</th><th>data_cadastro</th><th>dias</th></tr>\n",
       "<tr><td>2006-12-18</td><td>2023-02-26</td><td>6296</td></tr>\n",
       "<tr><td>1992-06-17</td><td>2023-02-16</td><td>11593</td></tr>\n",
       "<tr><td>1921-11-11</td><td>2023-01-02</td><td>37379</td></tr>\n",
       "<tr><td>2021-06-01</td><td>2023-01-08</td><td>1017</td></tr>\n",
       "<tr><td>1969-10-28</td><td>2023-02-14</td><td>19861</td></tr>\n",
       "<tr><td>1986-05-19</td><td>2023-03-07</td><td>13814</td></tr>\n",
       "<tr><td>2018-04-20</td><td>2023-01-13</td><td>2155</td></tr>\n",
       "<tr><td>1996-05-12</td><td>2023-02-04</td><td>10168</td></tr>\n",
       "<tr><td>2021-10-05</td><td>2023-03-02</td><td>891</td></tr>\n",
       "<tr><td>1917-01-05</td><td>2023-02-21</td><td>39150</td></tr>\n",
       "<tr><td>1912-05-25</td><td>2023-01-25</td><td>40836</td></tr>\n",
       "<tr><td>1920-05-26</td><td>2023-02-18</td><td>37913</td></tr>\n",
       "<tr><td>1938-03-11</td><td>2023-01-19</td><td>31415</td></tr>\n",
       "<tr><td>1922-09-01</td><td>2023-02-01</td><td>37085</td></tr>\n",
       "<tr><td>2013-01-10</td><td>2023-01-07</td><td>4081</td></tr>\n",
       "<tr><td>1992-10-16</td><td>2023-01-05</td><td>11472</td></tr>\n",
       "<tr><td>1945-11-18</td><td>2023-01-24</td><td>28606</td></tr>\n",
       "<tr><td>1915-11-15</td><td>2023-01-22</td><td>39567</td></tr>\n",
       "<tr><td>1964-02-01</td><td>2023-02-16</td><td>21957</td></tr>\n",
       "<tr><td>1959-02-01</td><td>2023-02-25</td><td>23783</td></tr>\n",
       "</table>\n",
       "only showing top 20 rows\n"
      ],
      "text/plain": [
       "+------------------+-------------+-----+\n",
       "|data_de_nascimento|data_cadastro| dias|\n",
       "+------------------+-------------+-----+\n",
       "|        2006-12-18|   2023-02-26| 6296|\n",
       "|        1992-06-17|   2023-02-16|11593|\n",
       "|        1921-11-11|   2023-01-02|37379|\n",
       "|        2021-06-01|   2023-01-08| 1017|\n",
       "|        1969-10-28|   2023-02-14|19861|\n",
       "|        1986-05-19|   2023-03-07|13814|\n",
       "|        2018-04-20|   2023-01-13| 2155|\n",
       "|        1996-05-12|   2023-02-04|10168|\n",
       "|        2021-10-05|   2023-03-02|  891|\n",
       "|        1917-01-05|   2023-02-21|39150|\n",
       "|        1912-05-25|   2023-01-25|40836|\n",
       "|        1920-05-26|   2023-02-18|37913|\n",
       "|        1938-03-11|   2023-01-19|31415|\n",
       "|        1922-09-01|   2023-02-01|37085|\n",
       "|        2013-01-10|   2023-01-07| 4081|\n",
       "|        1992-10-16|   2023-01-05|11472|\n",
       "|        1945-11-18|   2023-01-24|28606|\n",
       "|        1915-11-15|   2023-01-22|39567|\n",
       "|        1964-02-01|   2023-02-16|21957|\n",
       "|        1959-02-01|   2023-02-25|23783|\n",
       "+------------------+-------------+-----+\n",
       "only showing top 20 rows"
      ]
     },
     "execution_count": 32,
     "metadata": {},
     "output_type": "execute_result"
    }
   ],
   "source": [
    "# contar a diferença de dias entre duas datas\n",
    "(\n",
    "    df\n",
    "    .withColumn('dias', F.datediff(F.current_date(), F.col('data_de_nascimento')))\n",
    ")"
   ]
  }
 ],
 "metadata": {
  "kernelspec": {
   "display_name": "Python 3",
   "language": "python",
   "name": "python3"
  },
  "language_info": {
   "codemirror_mode": {
    "name": "ipython",
    "version": 3
   },
   "file_extension": ".py",
   "mimetype": "text/x-python",
   "name": "python",
   "nbconvert_exporter": "python",
   "pygments_lexer": "ipython3",
   "version": "3.11.8"
  }
 },
 "nbformat": 4,
 "nbformat_minor": 2
}
